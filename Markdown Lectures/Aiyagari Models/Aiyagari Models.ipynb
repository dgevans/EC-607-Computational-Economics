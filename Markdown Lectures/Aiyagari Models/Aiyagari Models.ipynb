{
  "cells": [
    {
      "cell_type": "markdown",
      "source": [
        "# Aiyagari Models\n<style type=\"text/css\">\n  .reveal p {\n    text-align: left;\n  }\n  .reveal ul {\n    display: block;\n  }\n  .reveal ol {\n    display: block;\n  }\n</style>\n# Consumption Savings Problem\n## Overview\n* Bewely/Hugget/Aiyagari style models are the workhorse models of heterogeneous agent macro\n\n* Generally feature a standard production side with a representative firm\n    * though this can be relaxed\n\n* Household side features agents who face income risk\n    * fluctuations in labor productivity\n    * imcomplete markets (trade risk free bond)\n\n* Focus on steady state\n    * constant interest rate and wages\n    * stationary distribution of wealth\n\n## The Household Problem\n* Assume a unit mass of households \n\n* Households differ in\n    * their current wealth position, $a_{i,t}$\n    * their labor productivity, $\\epsilon_{i,t}$\n\n* Assume that labor productivity follows a finite state Makov process\n    * transition matrix $\\Pi$\n\n* Payed a wage rate $\\bar w$ per unit of effective labor\n    * total income $\\bar w\\epsilon_{i,t}$\n\n* Have the ability save with a bond\n    * risk free interest rate $\\bar r$\n    * up to borrowing constraint $\\underline a$\n\n## Bellman Equation\n* Let $V(a,s)$ be the value to the household of entering the period\n    * with wealth $a$\n    * current labor productivity $\\epsilon_s$\n\n* The HH value equation solves the following Bellman equation\n$$\n    V(a,s) = \\max_{c,a'} u(c) + \\beta \\sum_{s'} \\Pi(s'|s)V(a',s')\n$$\nsubject to \n$$\n    c + a' = (1+\\bar r) a + \\bar w \\epsilon_s \n$$\nand \n$$\n    a'\\geq \\underline a\n$$\n* Can approach this using standard methods\n\n## The HH Problem"
      ],
      "metadata": {}
    },
    {
      "outputs": [],
      "cell_type": "code",
      "source": [
        "using BasisMatrices,LinearAlgebra,Parameters,Optim,QuantEcon,DataFrames,Gadfly,SparseArrays,Arpack\nusing Roots\n@with_kw mutable struct HHModel\n    #Preference Parameters\n    γ::Float64 = 1. #Risk aversion\n    β::Float64 = 0.985 #Discount Rate\n\n    #Prices\n    r̄::Float64 = .01 #quarterly\n    w̄::Float64 = 1.\n\n    #Asset Grid Parameters\n    a̲::Float64 = 0. #Borrowing Constraint\n    a̅::Float64 = 600. #Upper Bound on assets\n    Na::Int64 = 100 #Number of grid points for splines\n\n    #Income Process\n    ρ_ϵ::Float64 = 0.9923 #calibrated to quarterly wage regressions\n    σ_ϵ::Float64 = 0.0983\n    Nϵ::Int64 = 7\n    ϵ::Vector{Float64} = zeros(0)\n    Π::Matrix{Float64} = zeros(0,0)\n\n    #Solution\n    k::Int = 2 #type of interpolation\n    Vf::Vector{Interpoland} = Interpoland[]\n    cf::Vector{Interpoland} = Interpoland[]\n\n    #Extra\n    EΦ′::SparseMatrixCSC{Float64,Int64} = spzeros(0,0)\n    Φ::SparseMatrixCSC{Float64,Int64} = spzeros(0,0)\nend;"
      ],
      "metadata": {},
      "execution_count": null
    },
    {
      "cell_type": "markdown",
      "source": [
        "## Some Setup"
      ],
      "metadata": {}
    },
    {
      "outputs": [],
      "cell_type": "code",
      "source": [
        "\"\"\"\n    U(HH::HHModel,c)\n\"\"\"\nfunction U(HH::HHModel,c)\n    γ = HH.γ\n    if γ == 1\n        return log.(c)\n    else\n        return (c.^(1-γ))./(1-γ)\n    end\nend\n\n\"\"\"\n    setupgrids_shocks!(HH::HHModel, curv=1.7)\n\nSet up non-linear grids for interpolation\n\"\"\"\nfunction setupgrids_shocks!(HH::HHModel, curv=1.7)\n    @unpack a̲,a̅,Na,ρ_ϵ,σ_ϵ,Nϵ,k,r̄,w̄,β = HH\n    #Compute grid on A\n    agrid = (a̅-a̲).*LinRange(0,1,Na).^curv .+ a̲\n\n    #Store markov chain\n    mc = rouwenhorst(Nϵ,ρ_ϵ,σ_ϵ)\n    HH.Π = Π = mc.p\n    HH.ϵ = exp.(mc.state_values)\n\n    #First guess of interpolation functions\n    abasis = Basis(SplineParams(agrid,0,k))\n    a = nodes(abasis)[1]\n\n    Vf = HH.Vf = Vector{Interpoland}(undef,Nϵ)\n    cf = HH.cf = Vector{Interpoland}(undef,Nϵ)\n    for s in 1:Nϵ\n        c = @. r̄*a + w̄*HH.ϵ[s]\n        V = U(HH,c)./(1-β)\n\n        Vf[s]= Interpoland(abasis,V)\n        cf[s]= Interpoland(abasis,c)\n    end\nend;"
      ],
      "metadata": {},
      "execution_count": null
    },
    {
      "cell_type": "markdown",
      "source": [
        "## Solving For Optimal Policy"
      ],
      "metadata": {}
    },
    {
      "outputs": [],
      "cell_type": "code",
      "source": [
        "\"\"\"\n    optimalPolicy(HH,Vf′)\n\nComputes the  optimalPolicy given value function Vf′ if the state is (a,i)\n\"\"\"\nfunction optimalPolicy(HH,a,s,Vf′)\n    @unpack a̲,a̅,β,Π,ϵ,r̄,w̄,Nϵ = HH \n\n    function objf(a′)\n        c = (1+r̄)*a + ϵ[s]*w̄ - a′\n        return U(HH,c) + β*sum(Π[s,s′]*Vf′[s′](a′) for s′ in 1:Nϵ)\n    end\n    a_max = min((1+r̄)*a+ϵ[s]*w̄,a̅)\n    res = maximize(objf,a̲,a_max)\n    a′ = Optim.maximizer(res)\n    #return value and consumption that optimize\n    return (V=objf(a′),c=(1+r̄)*a + ϵ[s]*w̄ - a′)\nend;"
      ],
      "metadata": {},
      "execution_count": null
    },
    {
      "cell_type": "markdown",
      "source": [
        "## Iterating on Bellman Equation"
      ],
      "metadata": {}
    },
    {
      "outputs": [],
      "cell_type": "code",
      "source": [
        "\"\"\"\n    iterateBellman(HH,Vf′)\n\nIterates the Bellman equation given value function Vf′\n\"\"\"\nfunction iterateBellman(HH,Vf′)\n    Nϵ = length(Vf′)\n    Vf = Vector{Interpoland}(undef,length(Vf′))\n\n    for s in 1:Nϵ\n        basis = Vf′[s].basis\n        V = [optimalPolicy(HH,a,s,Vf′).V for a in nodes(basis)[1]]\n        Vf[s]= Interpoland(basis,V)\n    end\n\n    return Vf\nend;"
      ],
      "metadata": {},
      "execution_count": null
    },
    {
      "cell_type": "markdown",
      "source": [
        "## Solving the Bellman Equation"
      ],
      "metadata": {}
    },
    {
      "outputs": [],
      "cell_type": "code",
      "source": [
        "\"\"\"\n    solveBellman!(HH)\nSolves the Bellman Equation for the HH problem\n\"\"\"\nfunction solveBellman!(HH)\n    Nϵ = HH.Nϵ\n    diff = 1.\n    Vf′ = copy(HH.Vf)\n    while diff > 1e-8 \n        HH.Vf = iterateBellman(HH,Vf′)\n        diff = maximum([norm(Vf′[s].coefs - HH.Vf[s].coefs,Inf) for s in 1:Nϵ])\n        println(diff)\n        Vf′ = HH.Vf\n    end\nend;"
      ],
      "metadata": {},
      "execution_count": null
    },
    {
      "cell_type": "markdown",
      "source": [
        "## Problem\n* This takes a while"
      ],
      "metadata": {}
    },
    {
      "outputs": [],
      "cell_type": "code",
      "source": [
        "HH = HHModel()\nsetupgrids_shocks!(HH)\niterateBellman(HH,HH.Vf)\n@time iterateBellman(HH,HH.Vf);"
      ],
      "metadata": {},
      "execution_count": null
    },
    {
      "cell_type": "markdown",
      "source": [
        "* Solving the full bellman equation takes 5-10 minutes\n\n* Why is it taking so long?\n    * We can use profiling to figure it out\n\n## Profiling"
      ],
      "metadata": {}
    },
    {
      "outputs": [],
      "cell_type": "code",
      "source": [
        "@profview iterateBellman(HH,HH.Vf);"
      ],
      "metadata": {},
      "execution_count": null
    },
    {
      "cell_type": "markdown",
      "source": [
        "* Can't get output to show up here :(\n\n* All of the time is spent maximizing \n    * Can we sepped this up\n\n## Endogenous Grid \n* A clever solution to this problem is the endogenous grid method Carroll (2005)\n    * trick is to solve for policy functions directly\n    * use interpolation instead of root solving\n\n* Let $c(a,s)$ and $a'(a,s)$ be the consumption and asset policies that solves the HH problem\n\n* They must satify\n$$\n    c(a,s) + a'(a,s) = (1+\\bar r)a + \\epsilon_s\\bar w\n$$\nand \n$$\n    U'(c(a,s)) \\geq \\beta(1+\\bar r)\\sum_{s'}\\Pi(s'|s) U'(c(a'(a,s),s'))\n$$\nwith strict inequality only if \n$$\n    a'(a,s) = \\underline a\n$$\n\n## Endogenous Grid Continued\n* Instead of specifying on $a$ we'll specify a grid on $a'$\n    * let $\\underline a =\\bar a'_1$, $\\bar a'_2$, $\\ldots$, $\\bar a'_n$ be a grid on future assets\n\n* Given function, $\\tilde c(a',s')$, for consumption next period\n\n* The expected marginal utility of consumption next period for wealth level $\\bar a'_i$ and current productivity $\\epsilon_s$ \n$$\n    \\sum_{s'}\\Pi(s'|s) U'(\\tilde c(\\bar a'_i,s'))\n$$\n\n* If the agent is on their euler equation then consumption his period is\n$$\n\\bar c_{i,s} =  {U'}^{-1}\\left(\\beta(1+\\bar r)\\sum_{s'}\\Pi(s'|s) U'(\\tilde c(\\bar a'_i,\\epsilon_{s'}))\\right)\n$$\n\n## Endogenous Grid Continued\n* The wealth position that corresponds to this consumption choice satisfies\n$$\n    (1+\\bar r)\\bar a_{i,s} = \\bar c_{i,s} +\\bar a'_i - \\bar w \\epsilon_s\n$$\n\n* We now have a grid of assets $\\bar a_{i,s}$ for each productivity $\\epsilon_s$\n    * and a corresponding consumption choice $\\bar c_{i,s}$\n    * grid points are endogenous\n    * can interpolate to find optimal consumption everywhere\n\n* This only works if Euler equation holds with equality\n    * if $\\bar a_{1,s} > \\underline a$ then borrowing constraint binds for this productivity\n    * add another gridpoint at $\\underline a$ with consumption $\\bar r \\underline a + w\\bar \\epsilon_s$\n\n* Keep iterating until policy rules converge\n\n## Endogneous grid Implementation"
      ],
      "metadata": {}
    },
    {
      "outputs": [],
      "cell_type": "code",
      "source": [
        "\"\"\"\n    iterate_endogenousgrid(HH,a′grid,cf′)\n\nIterates on Euler equation using endogenous grid method\n\"\"\"\nfunction iterate_endogenousgrid(HH,a′grid,cf′)\n    @unpack γ,ϵ,β,Nϵ,Π,r̄,w̄,a̲= HH\n    c′ = zeros(length(a′grid),Nϵ)\n    for s in 1:Nϵ\n        c′[:,s]= cf′[s](a′grid)\n    end\n\n    EERHS = β*(1+r̄)*(c′).^(-γ)*Π' #RHS of Euler Equation\n    c = EERHS.^(-1/γ)\n\n    #compute implies assets\n    a = ((c .+ a′grid) .- w̄ .*ϵ')./(1+r̄)\n\n    cf = Vector{Interpoland}(undef,Nϵ)\n    for s in 1:Nϵ\n        if a[1,s]> a̲\n            c̲ = r̄*a̲ + w̄*ϵ[s]\n            cf[s]= Interpoland(Basis(SplineParams([a̲; a[:,s]],0,1)),[c̲;c[:,s]])\n        else\n            cf[s]= Interpoland(Basis(SplineParams(a[:,s],0,1)),c[:,s])\n        end\n    end\n    return cf\nend;"
      ],
      "metadata": {},
      "execution_count": null
    },
    {
      "cell_type": "markdown",
      "source": [
        "## Solving HH Problem with Endogenous Grid"
      ],
      "metadata": {}
    },
    {
      "outputs": [],
      "cell_type": "code",
      "source": [
        "\"\"\"\n    solveHHproblem_eg!(HH)\n\nSolves the HH problem using the endogeneous grid method\n\"\"\"\nfunction solveHHproblem_eg!(HH,verbose=false)\n    a′grid = nodes(HH.cf[1].basis)[1]#Get nodes for interpolation\n    \n    cf′ = iterate_endogenousgrid(HH,a′grid,HH.cf)\n    diff = 1.\n    while diff  > 1e-8\n        HH.cf = iterate_endogenousgrid(HH,a′grid,cf′)\n        diff = maximum(norm(cf′[s](a′grid)-HH.cf[s](a′grid),Inf) for s in 1:HH.Nϵ) \n        if verbose\n            println(diff)\n        end\n        cf′ = HH.cf\n    end\nend\nsolveHHproblem_eg!(HH)\nsetupgrids_shocks!(HH)\n@time solveHHproblem_eg!(HH);"
      ],
      "metadata": {},
      "execution_count": null
    },
    {
      "cell_type": "markdown",
      "source": [
        "# Euler Equation Errors\n## How To Measure Accuracy\n* A constant problem we encounter is how to measure the accuracy of a solution\n\n* In the economy each constraint is only approximately satisfied\n    * how big is an error?  What does $1e-6$ mean?\n\n* We'll use the Euler equation as an example\n$$\n    c_{i,t}^{-\\sigma} = \\beta (1+\\bar r)\\mathbb E_t\\left[c_{i,t+1}^{-\\sigma}\\right]\n$$\n\n* Want to have an economically interpretable measure of errors in this equation\n\n## Euler Equation Errors\n* Let $c(a,s)$ be a candidate for the optimal consumption function\n\n* Can compute implies savings function $a'(a,s) = (1+\\bar r) a + \\bar w \\epsilon_s - c'(a,s)$\n\n* For a given state $(a,s)$ compute the RHS of the Euler equation that would prevail under these rules\n$$\n    \\sum_{s'}\\Pi(s'|s)c(a'(a,s),s')^{-\\sigma}\n$$\n\n* Compute the implies consumption that satisfies the Euler Equation\n$$\n    \\hat c(a,s) = \\left(\\sum_{s'}\\Pi(s'|s)c(a'(a,s),s')^{-\\sigma}\\right)^{-1/\\sigma}\n$$\n\n* Compute the error in units of log base 10\n$$\n    \\log_{10}\\left(\\frac{|c(a,s)-\\hat c(a,s)|}{\\hat c(a,s)}\\right)\n$$\n\n\n## How Big Should These Errors Be?\n\n* Generally want to take the max over the sate space\n\n* Generally want errors on the order of -3\n    * Represents an error on the order of 1 in 1000\n    * For a person making $50,000 that's an error of $50 over a year\n\n## Implementating EE Errors"
      ],
      "metadata": {}
    },
    {
      "outputs": [],
      "cell_type": "code",
      "source": [
        "\"\"\"\n    ee_errors(HH,agrid) \n\nCheck's the Euler equation errors of a solution on a grid of assets\n\"\"\"\nfunction ee_errors(HH,agrid)\n    @unpack cf,γ,β,ϵ,Π,Nϵ,r̄,w̄,a̲ = HH\n    \n    EE = zeros(length(agrid),Nϵ)\n    for s in 1:Nϵ\n        c = cf[s](agrid)\n        a′ = @. (1+r̄)*agrid + w̄*ϵ[s]- c\n        c′ = hcat([cf[s′](a′) for s′ in 1:Nϵ]...)\n        ĉ  = (β.*(1+r̄).*c′.^(-γ)*Π[s,:]).^(-1/γ)\n        EE[:,s]= log10.(abs.(ĉ.-c)./ĉ)\n        EE[abs.(a′.-a̲).<1e-4,s].= -6 #record a small error when on borrowing constraints\n    end\n\n    df = DataFrame(EE,[\"ϵ_$s\" for s in 1:Nϵ])\n    df.a = agrid\n    return df,maximum(EE)\nend;"
      ],
      "metadata": {},
      "execution_count": null
    },
    {
      "cell_type": "markdown",
      "source": [
        "## Our EE Errors"
      ],
      "metadata": {}
    },
    {
      "outputs": [],
      "cell_type": "code",
      "source": [
        "HH.Na = 100\nsetupgrids_shocks!(HH,3.)\nsolveHHproblem_eg!(HH)\nagrid = LinRange(HH.a̲,HH.a̅,1000)\ndf_ee,EEmax = ee_errors(HH,agrid)\nprintln(EEmax)\nplot(stack(df_ee,[\"ϵ_$s\" for s in 1:HH.Nϵ]),x=:a,y=:value,color=:variable,Geom.line)"
      ],
      "metadata": {},
      "execution_count": null
    },
    {
      "cell_type": "markdown",
      "source": [
        "# Collocation\n* There is one last tool we can use to speed up our solution of the HH problem\n\n* Running the endogenous grid code, the policy rules take many iterations to converge"
      ],
      "metadata": {}
    },
    {
      "outputs": [],
      "cell_type": "code",
      "source": [
        "setupgrids_shocks!(HH,3.)\nsolveHHproblem_eg!(HH,true)"
      ],
      "metadata": {},
      "execution_count": null
    },
    {
      "cell_type": "markdown",
      "source": [
        "* Can we reduce the number of iterations\n\n## Newton's Method for the Bellman Equation\n* Let $(\\bar a_i,s_i)$ be the nodes on which the value function is interpolated\n    * $i$ runs from $1$ to $N$ and indexes both the asset grid and the productivity grid\n\n* Let $\\phi_j(a,s)$ be the basis functions\n    * let $\\varphi_i$ be the coefficients on the basis functions that define $V$\n\n* The bellman equation can be written as a system of $N$ equations and $N$ unkowns\n\n* Let $F_i(\\varphi)$ be the residual of the bellman equation for state $i$\n$$\n    F_i(\\varphi) = \\sum_j\\varphi_j\\phi_j(\\bar a_i,s_i) -\\left( \\max_{c,a'} U(c) + \\beta \\sum_{s'}\\Pi(s'|s_i)\\sum_{j}\\varphi_j\\phi_j(a',s')\\right)\n$$\nsubject to\n$$\nc + a' = (1+\\bar r)\\bar a_i + \\bar w_{s_i} \n$$and $a'\\geq \\underline a$.\n* Solving the Bellman equation is finding the root of $F(\\varphi)$\n\n## Newton's method\n* Were going to solve this using Newton's methods\n\n* Start with a guess $\\varphi^0$\n    * Compute $F(\\varphi^0)$\n    * Compute the jacobian $DF(\\varphi^0)$\n    * Update guess $\\varphi^1 = \\varphi^0 - DF(\\varphi^0)^{-1}F(\\varphi^0)$\n\n* Repeat to get a sequence $\\{\\varphi^n\\}$ which converges to solution $\\varphi$\n\n* Our first order of business is to find functions $c(a,s;\\varphi)$ and $a'(a,s;\\varphi)$\n    * that solve the max in $F$\n\n* Can be done using endogenous grid method\n\n## Endogneous grid method again\n* Let $\\bar a'_i$ be a grid on $a'$\n\n* If the agent is not borrowing constrained then optimal consumption satisfies\n$$\nU'(\\bar c_{i,s}) = \\beta \\sum_{s'}\\Pi(s'|s)\\sum_{j}\\varphi_j\\phi_j'(\\bar a'_i,s')\n$$\n\n* Even better can precompute $\\Pi(s'|s)\\phi_j'(\\bar a'_i,s')$ and store it in a matrix $E\\Phi'$ so that\n$$\n    U'(\\bar c) =\\beta E\\Phi'\\varphi\n$$\n\n* Once $\\bar c_{i,s}$ is computed we can compute $\\bar a_{i,s}$ that satisfies\n$$\n    (1+\\bar r) \\bar a_{i,s} = \\bar c_{i,s} +\\bar a_{i}' - \\bar w \\epsilon_s\n$$\n\n* Interpolate to apply endogenous grid algorith\n    * carefule to include borrowing constraint\n\n## Computing E$\\Phi'$\n* $E\\Phi$ is simplified if we have the same $N_a$ ($N=N_a\\times S$) basis functions for each $s$: $\\hat\\phi_j(a)$\n    * Only first $N_a$ basis functions will be non-zero for $s=1$\n    * $j=N_a+1$ to $N_a$ basis functions will be non-zero for $s=2$\n    * and so on\n    * $\\phi_j(a,s) = 1_{\\lceil j/N_a\\rceil+1 = s}\\hat\\phi_{mod(j-1,Na)+1}(\\hat a)$"
      ],
      "metadata": {}
    },
    {
      "outputs": [],
      "cell_type": "code",
      "source": [
        "\"\"\"\n    setupgrids_shocks!(HH::HHModel, curv=1.7)\n\nSet up non-linear grids for interpolation\n\"\"\"\nfunction setupgrids_shocks!(HH::HHModel, curv=1.7)\n    @unpack a̲,a̅,Na,ρ_ϵ,σ_ϵ,Nϵ,k,r̄,w̄,β = HH\n    #Compute grid on A\n    agrid = (a̅-a̲).*LinRange(0,1,Na).^curv .+ a̲\n\n    #Store markov chain\n    mc = rouwenhorst(Nϵ,ρ_ϵ,σ_ϵ)\n    HH.Π = Π = mc.p\n    HH.ϵ = exp.(mc.state_values)\n\n    #First guess of interpolation functions\n    abasis = Basis(SplineParams(agrid,0,k))\n    a = nodes(abasis)[1]\n\n    Vf = HH.Vf = Vector{Interpoland}(undef,Nϵ)\n    cf = HH.cf = Vector{Interpoland}(undef,Nϵ)\n    for s in 1:Nϵ\n        c = @. r̄*a + w̄*HH.ϵ[s]\n        V = U(HH,c)./(1-β)\n\n        Vf[s]= Interpoland(abasis,V)\n        cf[s]= Interpoland(abasis,c)\n    end\n\n    #Expectations of 1st derivative of Basis functions\n    HH.EΦ′ = kron(Π,BasisMatrix(abasis,Direct(),nodes(abasis)[1],[1]).vals[1])\n    HH.Φ = kron(Matrix{Float64}(I,Nϵ,Nϵ),BasisMatrix(abasis,Direct()).vals[1])\nend;"
      ],
      "metadata": {},
      "execution_count": null
    },
    {
      "cell_type": "markdown",
      "source": [
        "## Applying Endogneous Grid"
      ],
      "metadata": {}
    },
    {
      "outputs": [],
      "cell_type": "code",
      "source": [
        "\"\"\"\ncomputeoptimalconsumption(HH::HHModel,V)\n\nComputes optimal savings using endogenous grid method.  \n\"\"\"\nfunction computeoptimalconsumption(HH::HHModel,Vcoefs::Vector{Float64})::Vector{Interpoland}\n    @unpack γ,β,ϵ,Nϵ,a̲,EΦ′,r̄,w̄ = HH\n    a′grid = nodes(HH.Vf[1].basis)[1]\n    EV_a = reshape(EΦ′*Vcoefs,:,Nϵ) #Compute expectations of V'(a',s') using matrix multiplication\n    \n    c = (β.*EV_a).^(-1/γ) #consumption today\n    a = (a′grid .+ c .- w̄.*ϵ')/(1+r̄)  #Implied assets today\n\n    cf = Vector{Interpoland}(undef,Nϵ)#implied policy rules for each productivity\n    for s in 1:Nϵ\n        if a[1,s]> a̲\n            c̲ = r̄*a̲ + w̄*ϵ[s]\n            cf[s]= Interpoland(Basis(SplineParams([a̲; a[:,s]],0,1)),[c̲;c[:,s]])\n        else\n            cf[s]= Interpoland(Basis(SplineParams(a[:,s],0,1)),c[:,s])\n        end\n    end\n    return cf\nend;"
      ],
      "metadata": {},
      "execution_count": null
    },
    {
      "cell_type": "markdown",
      "source": [
        "## Collocation Method\n* Trick for applying collocation method is computing matrix\n$$\n    E\\Phi_{i,j} = \\sum_{s'}\\Pi(s'|s_i)\\sum_{j}\\phi_j(a'(\\bar a_i,s_i;\\varphi),s')\n$$\nand\n$$\n    \\bar U_i = U(c(\\bar a_i,s_i;\\varphi))\n$$\n\n* Once this is computed then $F(\\varphi)$ can be written as a linear equation\n$$\n    F(\\varphi) = \\Phi\\varphi - \\bar U - \\beta E\\Phi \\varphi\n$$\nwith $\\Phi_{i,j}= \\phi_j(\\bar a_i,s_i)$\n\n* Theorem of the maximum tells us that the Jacobian is then easy to compute\n$$\nDF(\\varphi) = \\Phi -\\beta E\\Phi\n$$\n\n## Iterating Using Collocation"
      ],
      "metadata": {}
    },
    {
      "outputs": [],
      "cell_type": "code",
      "source": [
        "\"\"\"\niteratebellman_newton!(AM::AiyagriModel,Vcoefs)\n\nUpdates the coefficients of the value function using newton's method\n\"\"\"\nfunction iteratebellman_newton!(HH::HHModel)\n    @unpack β,ϵ,Π,r̄,w̄,Nϵ,Vf,Φ = HH\n    Vcoefs = vcat([Vf[s].coefs for s in 1:Nϵ]...)::Vector{Float64}\n    agrid = nodes(Vf[1].basis)[1]\n    Na = length(agrid)\n\n    cf = computeoptimalconsumption(HH,Vcoefs) #Compute optimal consumption function\n    c = zeros(Na*Nϵ) \n    EΦ = spzeros(Na*Nϵ,Na*Nϵ)\n    for s in 1:Nϵ\n        for s′ in 1:Nϵ\n            c[(s-1)*Na+1:s*Na] = cf[s](agrid) #compute consumption at gridpoints\n            a′ = (1+r̄)*agrid .+ ϵ[s]*w̄ .- c[(s-1)*Na+1:s*Na] #asset choice\n            #Compute expectation of basis functions at a′\n            EΦ[(s-1)*Na+1:s*Na,(s′-1)*Na+1:s′*Na] = Π[s,s′]*BasisMatrix(Vf[s].basis,Direct(),a′).vals[1][:]\n        end\n    end\n\n\n    Jac = β.*EΦ .- Φ\n    res = U(HH,c) .+ Jac*Vcoefs \n    Vcoefs′ = Vcoefs - Jac\\res #newtons method\n    for s in 1:Nϵ\n        Vf[s].coefs .= Vcoefs′[1+(s-1)*Na:s*Na]\n    end\n    return norm(res,Inf)\nend;"
      ],
      "metadata": {},
      "execution_count": null
    },
    {
      "cell_type": "markdown",
      "source": [
        "## Time Iteration\n* We can also implement time iteration as well"
      ],
      "metadata": {}
    },
    {
      "outputs": [],
      "cell_type": "code",
      "source": [
        "\"\"\"\n    iteratebellman_time!(AM::AiyagriModel,Vcoefs)\n\nUpdates the coefficients of the value function using time iteration of the bellman equation\n\"\"\"\nfunction iteratebellman_time!(HH::HHModel)\n    @unpack β,ϵ,Π,r̄,w̄,Nϵ,Vf,Φ = HH\n    Vcoefs = vcat([Vf[s].coefs for s in 1:Nϵ]...)::Vector{Float64}\n    agrid = nodes(Vf[1].basis)[1]\n    Na = length(agrid)\n\n    cf = computeoptimalconsumption(HH,Vcoefs) #Compute optimal consumption function\n    c = zeros(Na*Nϵ) \n    EΦ = spzeros(Na*Nϵ,Na*Nϵ)\n    for s in 1:Nϵ\n        for s′ in 1:Nϵ\n            c[(s-1)*Na+1:s*Na] = cf[s](agrid) #compute consumption at gridpoints\n            a′ = (1+r̄)*agrid .+ ϵ[s]*w̄ .- c[(s-1)*Na+1:s*Na] #asset choice\n            #Compute expectation of basis functions at a′\n            EΦ[(s-1)*Na+1:s*Na,(s′-1)*Na+1:s′*Na] = Π[s,s′]*BasisMatrix(Vf[s].basis,Direct(),a′).vals[1][:]\n        end\n    end\n\n    res = U(HH,c) .+ β.*EΦ*Vcoefs - Φ*Vcoefs\n    Vcoefs′ = Φ\\(U(HH,c) .+ β.*EΦ*Vcoefs)\n    for s in 1:Nϵ\n        Vf[s].coefs .= Vcoefs′[1+(s-1)*Na:s*Na]\n    end\n    return norm(res,Inf)\nend;"
      ],
      "metadata": {},
      "execution_count": null
    },
    {
      "cell_type": "markdown",
      "source": [
        "## Solving the Bellman Equation"
      ],
      "metadata": {}
    },
    {
      "outputs": [],
      "cell_type": "code",
      "source": [
        "\"\"\"\n    solvebellman!(HH::HHModel)\n\nSolves the bellman equation for given some initial \nvalue function V.\n\"\"\"\nfunction solvebellman!(HH::HHModel,tol=1e-8)\n    #increases stability to iterate on the time dimension a few times\n    diff = 1.\n    for _ in 1:5\n        iteratebellman_time!(HH)\n    end\n    while diff > tol\n        #then use newtons method\n        diff = iteratebellman_newton!(HH)\n    end\n    Vcoefs = vcat([HH.Vf[s].coefs for s in 1:HH.Nϵ]...)::Vector{Float64}\n    HH.cf = computeoptimalconsumption(HH,Vcoefs)\nend;"
      ],
      "metadata": {},
      "execution_count": null
    },
    {
      "cell_type": "markdown",
      "source": [
        "## Checking speed"
      ],
      "metadata": {}
    },
    {
      "outputs": [],
      "cell_type": "code",
      "source": [
        "setupgrids_shocks!(HH,3.)\nsolvebellman!(HH)\nsetupgrids_shocks!(HH,3.)\n@time solvebellman!(HH);"
      ],
      "metadata": {},
      "execution_count": null
    },
    {
      "cell_type": "markdown",
      "source": [
        "* Old endogenous grid method to $0.55$ seconds\n\n## Verify with Euler Equation Errors"
      ],
      "metadata": {}
    },
    {
      "outputs": [],
      "cell_type": "code",
      "source": [
        "agrid = LinRange(HH.a̲,HH.a̅,1000)\ndf_ee,EEmax = ee_errors(HH,agrid)\nprintln(EEmax)\nplot(stack(df_ee,[\"ϵ_$s\" for s in 1:HH.Nϵ]),x=:a,y=:value,color=:variable,Geom.line)"
      ],
      "metadata": {},
      "execution_count": null
    },
    {
      "cell_type": "markdown",
      "source": [
        "# Aiyagari Model\n## Production\n* Production is produced by a representative firm endowed with a CRS production function $F(K,N)$\n    * hires effective labor from HH at a wage rate $\\bar W$\n    * hires capital from HH at rental rate $\\bar r + \\delta$\n    * Usually $F(K,N) = \\Theta K^\\alpha N^{1-\\alpha}$\n\n* No arbitrage conditions imply that \n\\begin{align}\n    w &= F_N(K,N)\n    r &= F_K(K,N) - \\delta\n\\end{align}\n\n* Household savings therefore pay a gross interest rate $R=1+r$\n\n* Focus on steady sate: capital stock, and therefore prices, constant over time\n    * Need to find stationary distirbution of HH\n\n## Stationary Distribution\n* Consider the behavior of agents under the policy rules $a'(a,s)$ and transition matrix $\\Pi(s,s')$\n\n* Let $\\lambda_t$ describe the current distribution of agents\n    * $\\lambda_t(a,s)$ is the fraction of agents with productivity $\\epsilon_s$ and assets less than or equal to $a$\n    * more generally $\\lambda_t$ could be a measure\n\n* Under the stationary policy rules $a'(a,s)$, $\\lambda_t$ evolves according to \n$$\n    \\lambda_{t+1}(a',s') = \\sum_s \\Pi(s,s')\\int\\iota(a'(a,s)\\leq a')\\lambda_t(da,s)\n$$\nwhere $\\iota(a'(a,s)\\leq a')$ is an indicator which is 1 if $a'(a,s)\\leq a'$ and 0 overwise.\n\n* Our equilibrium concept will use the distribution $\\lambda$ which is stationary under $a'(a,s)$\n\n\n## Stationary Recursive Equilibrium \nA *Stationary Recursive Equilibrium* is a set of prices $r,w$; a value function and policy rules $v(a,s),c(a,s),$ and $a'(a,s)$;\naggregates $K$ and $N$; and a stationary distrubtion $\\lambda$ such that\n\n1. Given prices the value function and policy rules solve the HH's Bellman equation\n\n2. $r$,$w$ satisfy the no-arbitrage condition of the firm\n\n3. The distribution is stationary under $a'(a,s)$ and $\\Pi(s,s')$\n$$\n\\lambda(a',s') = \\sum_s \\Pi(s,s')\\int\\iota(a'(a,s)\\leq a')\\lambda(da,s)\n$$\n\n4. The labor market clears\n$$\n    N = \\sum_s\\int \\epsilon_s \\lambda(da,s)\n$$\n\n5. The asset market clears\n$$\n    K = \\sum_s\\int a \\lambda(da,s)\n$$\n\n## Computing the Stationary Distribution\n* We want to know how to compute a stationary recursive equilibrium.\n    * For that we need to know how to compute $\\lambda$\n\n* Construct a set of $Na$ grid points $\\hat a_i$ \n    * Generally will be much larger number than nodes used for interpolation\n\n* Let $\\omega_{i,s}^t$ be the fraction of agents who have productivity $\\epsilon_s$ and assets $\\hat a_i$\n    \n* Want: a way to compute $\\omega_{i,s}^{t+1}$ and stationary distribution $\\bar \\omega_{i,s}$\n\n* For a given $i,s$, compute $a'(\\hat a_i,s)$\n    * won't be exactly on grid points\n    * assign to neighboring gridpoints with probabilities\n\n* Let $Q_a(\\hat a_i,s,\\hat a_{i'})$ be the fraction of agents with assets $\\hat a_i$ and productivity $\\epsilon_s$ who transition to gridpoint $\\hat a_{i'}$\n$$\n    Q_a(\\hat a_i,s_i,\\hat a_{i'}) = \\mathbf 1_{a'(\\hat a_i,s)\\in[\\hat a_{i'-1},\\hat a_{i'}]}\\frac{a'(\\hat a_i,s)-\\hat a_{i'}}{\\hat a_{i'} -\\hat a_{i'-1}} + \\mathbf 1_{a'(\\hat a_i,s)\\in[\\hat a_{i'},\\hat a_{i'+1}]}\\frac{\\hat a_{i'+1}-a'(\\hat a_i,s)}{\\hat a_{i'+1} -\\hat a_{i'}}\n$$\n\n## Computing the Stationary Distribution Cont.\n* Key property: $Q$ maintains the average level of debt\n$$\n    \\sum_j Q_a(\\hat a_i,s_i,\\hat a_{i'})\\hat a_{i'} = a'(\\hat a_i,s) \n$$\n\n* Convenient property, elements of $Q_a$ look like B-splines of order 1\n    * $Q_a$ can be constructed by evaluating order 1 B-Splines with knots at $\\hat a_i$\n    * Basis functions evaluated at the points $a'(a_i,s)$\n\n* Once $Q_a$ is constructed the probability of transitioning from $(\\hat a_i,s)$ to $(\\hat a_{i'},s')$ is \n$$\n    Q(\\hat a_i,s,\\hat a_{i'},s') = Q_a(\\hat a_i,s_i,\\hat a_{i'})\\Pi(s,s')\n$$\n\n* Will often stack gridpoints $(\\hat a_i,s)$ into one long matrix $\\bar z$ with row $\\bar z_j$ being one state\n    * Can reinterpret $Q(j,j')$\n\n* Compute stationary distribution by computing unit eigenvector of $Q'$\n\n\n## Aiyagari Model struct"
      ],
      "metadata": {}
    },
    {
      "outputs": [],
      "cell_type": "code",
      "source": [
        "@with_kw mutable struct AiyagariModel\n    HH::HHModel = HHModel()\n\n    #Production Parameters\n    α::Float64 = 0.3\n    δ::Float64 = 0.025\n    Θ̄::Float64 = 1.\n\n    #Moments to match/prices\n    W̄::Float64 = 1.\n    R̄::Float64 = 1.01\n    K2Y::Float64 = 10.2 #capital to output ratio\n    N̄::Float64 = 1.\n\n    #Distribution Parameters\n    Ia::Int = 1000 #Number of gridpoints for distribution\n    z̄::Matrix{Float64} = zeros(0,0) #Gridpoints for the state variables\n    ω̄::Vector{Float64} = zeros(0) #Fraction of agents at each grid level\n    H::SparseMatrixCSC{Float64,Int64} = spzeros(Ia,Ia) #Transition matrix\nend;"
      ],
      "metadata": {},
      "execution_count": null
    },
    {
      "cell_type": "markdown",
      "source": [
        "## Setup"
      ],
      "metadata": {}
    },
    {
      "outputs": [],
      "cell_type": "code",
      "source": [
        "\"\"\"\n    setupgrids_shocks!(AM::AiyagariModel)\n\nSetup the grids and shocks for the aiyagari model\n\"\"\"\nfunction setupgrids_shocks!(AM::AiyagariModel,curv=2.)\n    @unpack HH,Ia,N̄= AM\n    @unpack a̲,a̅,Nϵ = HH\n    setupgrids_shocks!(HH)\n    #Normalize so that average labor supply is 1\n    πstat = real(eigs(HH.Π',nev=1)[2])\n    πstat ./= sum(πstat)\n    HH.ϵ = HH.ϵ./dot(πstat,HH.ϵ)*N̄\n    #Grid for distribution\n    agrid = (a̅-a̲).*LinRange(0,1,Ia).^curv .+ a̲\n    AM.z̄ = hcat(kron(ones(Nϵ),agrid),kron(1:Nϵ,ones(Ia)))\n    AM.ω̄ = ones(Ia*Nϵ)/(Ia*Nϵ)\nend;"
      ],
      "metadata": {},
      "execution_count": null
    },
    {
      "cell_type": "markdown",
      "source": [
        "## Computing Stationary Distribution"
      ],
      "metadata": {}
    },
    {
      "outputs": [],
      "cell_type": "code",
      "source": [
        "\"\"\"\n    find_stationarydistribution!(AM::AiyagariModel,V)\n\nComputes the stationary distribution \n\"\"\"\nfunction find_stationarydistribution!(AM::AiyagariModel)\n    @unpack Ia,z̄,HH,W̄,R̄ = AM\n    @unpack ϵ,Π,Nϵ,cf,a̲,a̅ = HH\n\n    a = z̄[1:Ia,1] #grids are all the same for all shocks\n    c = hcat([cf[s](a) for s in 1:Nϵ]...) #consumption policy IaxNϵ\n    a′ = R̄.*a .+ W̄.*ϵ' .- c #create a IaxNϵ grid for the policy rules\n    \n    #make sure we don't go beyond bounds.  Shouldn't bind if bmax is correct\n    a′ = max.(min.(a′,a̅),a̲)\n    \n    Qa = BasisMatrix(Basis(SplineParams(a,0,1)),Direct(),reshape(a′,Ia*Nϵ)).vals[1]\n    Q = spzeros(Ia*Nϵ,Ia*Nϵ)\n    for s in 1:Nϵ\n        Q[1+(s-1)*Ia:s*Ia,:] = kron(reshape(Π[s,:],1,:),Qa[1+(s-1)*Ia:s*Ia,:]) \n    end\n    \n    AM.H = Q'\n    AM.ω̄ .= real(eigs(AM.H;nev=1)[2])[:]\n    AM.ω̄ ./= sum(AM.ω̄) #normalize eigenvector\nend;"
      ],
      "metadata": {},
      "execution_count": null
    },
    {
      "cell_type": "markdown",
      "source": [
        "## Capital Supply and Demand\n* Given an interest rate $R$ can compute steady state supply and demand for capital\n\n* $N$ is fixed at steady state, steady state demand is pinned down by\n$$\n    R = 1 - \\delta + F_K(K,N)\n$$\n\n* Steady state wage then satisfies $W = F_N(K,N)$\n\n* Compute agent policies given $R,W$: $a'(a,s)$\n\n* Find steady state that results from those policies\n    * aggregate to compute asset supply\n\n## Computing asset market supply and demand"
      ],
      "metadata": {}
    },
    {
      "outputs": [],
      "cell_type": "code",
      "source": [
        "\"\"\"\n    capital_supply_demand(AM,R)\n\nCompute the supply and demand for capital which prevails in\nthe stationary distribution at a given interest rate.\n\"\"\"\nfunction capital_supply_demand(AM,R)\n    @unpack Θ̄,α,N̄,δ = AM\n    AM.R̄ = R\n    AM.HH.r̄ = R-1\n\n    Y2K = (R-1+δ)/α\n    K2N = (Y2K/Θ̄)^(1/(α-1))\n    AM.W̄ = AM.HH.w̄ = (1-α)*Θ̄*K2N^α\n    KD = K2N * N̄ \n\n    solvebellman!(AM.HH)\n    find_stationarydistribution!(AM)\n    KS = dot(AM.ω̄,AM.z̄[:,1])\n\n    return [KS,KD]\nend;"
      ],
      "metadata": {},
      "execution_count": null
    },
    {
      "cell_type": "markdown",
      "source": [
        "## Plotting Supply and Demand Curves"
      ],
      "metadata": {}
    },
    {
      "outputs": [],
      "cell_type": "code",
      "source": [
        "AM = AiyagariModel()\nAM.HH.β = 0.99\nsetupgrids_shocks!(AM)\n\nRgrid = LinRange(1.,1.007,10)\nKSKD = hcat([capital_supply_demand(AM,R) for R in Rgrid]...)\nplot(layer(y=Rgrid,x=KSKD[1,:],color=[\"Capital Supplied\"],Geom.line),\n     layer(y=Rgrid,x=KSKD[2,:],color=[\"Capital Demanded\"],Geom.line),\n     Guide.ylabel(\"Gross Interest Rate\"), Guide.xlabel(\"Capital\"))"
      ],
      "metadata": {},
      "execution_count": null
    },
    {
      "cell_type": "markdown",
      "source": [
        "## Calibrating\n* Often we calibrate by targeting a particular interest rate\n    * say 1% quarterly\n\n* Adjust $\\beta$ to target that interest rate in stationary distribution"
      ],
      "metadata": {}
    },
    {
      "outputs": [],
      "cell_type": "code",
      "source": [
        "AM.R̄ = 1.01 #target a quarterly interest rate of 1%\nfunction calibratesteadystate!(AM)\n    @unpack Θ̄,α,N̄,K2Y,R̄ = AM\n    AM.HH.r̄ = R̄ - 1\n    Y2K = 1/K2Y\n    AM.δ = α*Y2K + 1 - R̄ #matching capital to output ratio and interest rate gives depreciation rate\n    K2N = (Y2K/Θ̄)^(1/(α-1)) #relationship between capital to output and capital to labor\n    K̄ = K2N*N̄\n    AM.W̄ = AM.HH.w̄ = (1-α)*Θ̄*K2N^α\n\n    setupgrids_shocks!(AM)\n    function βres(β)\n        AM.HH.β=β\n        solvebellman!(AM.HH)\n        find_stationarydistribution!(AM)\n        return dot(AM.ω̄,AM.z̄[:,1]) -K̄\n    end\n\n    Q̄ = 1/R̄\n    fzero(βres,Q̄^2,Q̄^1.2)\nend\nAM = AiyagariModel()\ncalibratesteadystate!(AM)"
      ],
      "metadata": {},
      "execution_count": null
    },
    {
      "cell_type": "markdown",
      "source": [
        "## Stationary Distribution in Steady state"
      ],
      "metadata": {}
    },
    {
      "outputs": [],
      "cell_type": "code",
      "source": [
        "plot(x=AM.z̄[AM.z̄[:,1].>1.,1],y=AM.ω̄[AM.z̄[:,1].>1.],Geom.bar,\n    Guide.xlabel(\"Capital\"), Guide.ylabel(\"Density\"))"
      ],
      "metadata": {},
      "execution_count": null
    }
  ],
  "nbformat_minor": 2,
  "metadata": {
    "language_info": {
      "file_extension": ".jl",
      "mimetype": "application/julia",
      "name": "julia",
      "version": "1.6.0"
    },
    "kernelspec": {
      "name": "julia-1.6",
      "display_name": "Julia 1.6.0",
      "language": "julia"
    }
  },
  "nbformat": 4
}
