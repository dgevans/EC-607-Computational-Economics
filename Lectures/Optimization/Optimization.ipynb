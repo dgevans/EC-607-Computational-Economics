{
  "cells": [
    {
      "cell_type": "markdown",
      "metadata": {},
      "source": [
        "# Optimization\n",
        "<style type=\"text/css\">\n",
        "  .reveal p {\n",
        "    text-align: left;\n",
        "  }\n",
        "  .reveal ul {\n",
        "    display: block;\n",
        "  }\n",
        "  .reveal ol {\n",
        "    display: block;\n",
        "  }\n",
        "</style>"
      ]
    },
    {
      "cell_type": "code",
      "execution_count": 1,
      "metadata": {},
      "outputs": [],
      "source": [
        "using Plots\n",
        "default(linewidth=2,legend=false,margin=10Plots.mm)"
      ]
    },
    {
      "cell_type": "markdown",
      "metadata": {},
      "source": [
        "## Introduction\n",
        "\n",
        "*  In economics we often find our selves needing to maximize some objective function\n",
        "\n",
        "* i.e. solve a problem of the form\n",
        "$$\n",
        "    \\max_{\\mathbf x} f(\\mathbf x)\n",
        "$$\n",
        "subject to \n",
        "\\begin{align*}\n",
        "    g_i(\\mathbf x)&\\leq 0\\\\\n",
        "    r_j(\\mathbf x)&= 0\n",
        "\\end{align*}\n",
        "\n",
        "* Well begin by looking at \n",
        "$$\n",
        "    \\min_{\\mathbf x} f(\\mathbf x)\n",
        "$$\n",
        "\n",
        "## Isomorphism \n",
        "* Start with the standard minimization problem\n",
        "$$\n",
        "    \\min_{\\mathbf x} f(\\mathbf x)\n",
        "$$\n",
        "\n",
        "* If concave, this is isomorphic to the root-solving problem\n",
        "$$\n",
        "    \\nabla f(\\mathbf x) = 0\n",
        "$$\n",
        "\n",
        "*  The multivariate root-finding problem \n",
        "$$\n",
        "    g^i(\\mathbf x) = 0\n",
        "$$\n",
        "can be recast as\n",
        "$$\n",
        "    \\min_{\\mathbf x} \\sum_i g^i(\\mathbf x)^2\n",
        "$$\n",
        "\n",
        "## Basic Concepts\n",
        "* All methods: *Search the space of feasible choices by generating a sequence of guesses that (hopefully) converges to a solution.*\n",
        "\n",
        "* Essentially two types:\n",
        "    * **Comparison Methods:** Compute objective at valious points, find the one which gives smallest value\n",
        "    * **Gradient Based Methods:**  Use information on the slope (and possibly hessian!)\n",
        "\n",
        "* All these methods will find **local** minima.  \n",
        "    * Not a problem if you minimization problem is convex\n",
        "\n",
        "* If not, need multiple initializations to be sure a global minimum is found\n",
        "    * Note: can do this after value function has converged if used in dynamic optimzation.\n",
        "\n",
        "## How to Choose an Algorithm\n",
        "\n",
        "* **Speed:**  Optimization is likely goiong to be in the innermost loop\n",
        "\n",
        "    * Want a fast algorithm: i.e. minimizes number of function evaluations\n",
        "\n",
        "    * Gradient Based methods generally involve fewer evaluations\n",
        "\n",
        "* **Robustness to Nonsmoothness:**  If you objective function is not smooth gradient based methods will have difficulty, can get stuck \n",
        "\n",
        "    * Comparison methods are generally better behaved\n",
        "\n",
        "* **Robustness to starting parameters:**  Gradient based are also more likely to find different local minima at different starting values\n",
        "\n",
        "    * Stochastic comparison methods (like simulated annealing) are more likely to find global minima\n",
        "\n",
        "## Bracketing Method\n",
        "* Similar to Brent root search algorithm\n",
        "\n",
        "    * Most reliable method for one dimensional problems\n",
        "\n",
        "    * Guaranteed to find local minima for continuous functions\n",
        "\n",
        "* Initialization: Choose triple $(a,b,c)$ such that $a<b<c$ and  $f(a),f(c) >f(b)$\n",
        "\n",
        "    * Note this implies there must be a local minima in $[a,c]$\n",
        "\n",
        "* Choose $d\\in(a,b)$\n",
        "\n",
        "    * If $f(d) > f(b)$ then there is a minima in $[d,c]$ choose new triple $(d,b,c)$\n",
        "\n",
        "    * If $f(d) < f(b)$ then there is a minima in $[a,b]$ choose new triple $(a,d,b)$\n",
        "\n",
        "* Update the triple $(a,b,c)$ to the new one in previous step\n",
        "\n",
        "* Stop if $c-a <\\delta$\n",
        "\n",
        "* **Golden Search** provides optimal way to choose $b,d$\n",
        "\n",
        "## Example function"
      ]
    },
    {
      "cell_type": "code",
      "execution_count": 3,
      "metadata": {},
      "outputs": [
        {
          "data": {
            "image/png": "[encoded data removed]",
            "image/svg+xml": "<?xml version=\"1.0\" encoding=\"utf-8\"?>\n<svg xmlns=\"http://www.w3.org/2000/svg\" xmlns:xlink=\"http://www.w3.org/1999/xlink\" width=\"600\" height=\"400\" viewBox=\"0 0 2400 1600\">\n<defs>\n  <clipPath id=\"clip830\">\n    <rect x=\"0\" y=\"0\" width=\"2400\" height=\"1600\"/>\n  </clipPath>\n</defs>\n<path clip-path=\"url(#clip830)\" d=\"\nM0 1600 L2400 1600 L2400 0 L0 0  Z\n  \" fill=\"#ffffff\" fill-rule=\"evenodd\" fill-opacity=\"1\"/>\n<defs>\n  <clipPath id=\"clip831\">\n    <rect x=\"480\" y=\"0\" width=\"1681\" height=\"1600\"/>\n  </clipPath>\n</defs>\n<path clip-path=\"url(#clip830)\" d=\"\nM253.909 1344.72 L2211.02 1344.72 L2211.02 188.976 L253.909 188.976  Z\n  \" fill=\"#ffffff\" fill-rule=\"evenodd\" fill-opacity=\"1\"/>\n<defs>\n  <clipPath id=\"clip832\">\n    <rect x=\"253\" y=\"188\" width=\"1958\" height=\"1157\"/>\n  </clipPath>\n</defs>\n<polyline clip-path=\"url(#clip832)\" style=\"stroke:#000000; stroke-width:2; stroke-opacity:0.1; fill:none\" points=\"\n  309.299,1344.72 309.299,188.976 \n  \"/>\n<polyline clip-path=\"url(#clip832)\" style=\"stroke:#000000; stroke-width:2; stroke-opacity:0.1; fill:none\" points=\"\n  924.744,1344.72 924.744,188.976 \n  \"/>\n<polyline clip-path=\"url(#clip832)\" style=\"stroke:#000000; stroke-width:2; stroke-opacity:0.1; fill:none\" points=\"\n  1540.19,1344.72 1540.19,188.976 \n  \"/>\n<polyline clip-path=\"url(#clip832)\" style=\"stroke:#000000; stroke-width:2; stroke-opacity:0.1; fill:none\" points=\"\n  2155.63,1344.72 2155.63,188.976 \n  \"/>\n<polyline clip-path=\"url(#clip830)\" style=\"stroke:#000000; stroke-width:4; stroke-opacity:1; fill:none\" points=\"\n  253.909,1344.72 2211.02,1344.72 \n  \"/>\n<polyline clip-path=\"url(#clip830)\" style=\"stroke:#000000; stroke-width:4; stroke-opacity:1; fill:none\" points=\"\n  309.299,1344.72 309.299,1330.85 \n  \"/>\n<polyline clip-path=\"url(#clip830)\" style=\"stroke:#000000; stroke-width:4; stroke-opacity:1; fill:none\" points=\"\n  924.744,1344.72 924.744,1330.85 \n  \"/>\n<polyline clip-path=\"url(#clip830)\" style=\"stroke:#000000; stroke-width:4; stroke-opacity:1; fill:none\" points=\"\n  1540.19,1344.72 1540.19,1330.85 \n  \"/>\n<polyline clip-path=\"url(#clip830)\" style=\"stroke:#000000; stroke-width:4; stroke-opacity:1; fill:none\" points=\"\n  2155.63,1344.72 2155.63,1330.85 \n  \"/>\n<path clip-path=\"url(#clip830)\" d=\"M 0 0 M281.753 1388.56 L311.429 1388.56 L311.429 1392.49 L281.753 1392.49 L281.753 1388.56 Z\" fill=\"#000000\" fill-rule=\"evenodd\" fill-opacity=\"1\" /><path clip-path=\"url(#clip830)\" d=\"M 0 0 M320.526 1401.45 L336.846 1401.45 L336.846 1405.39 L314.901 1405.39 L314.901 1401.45 Q317.563 1398.7 322.147 1394.07 Q326.753 1389.42 327.934 1388.07 Q330.179 1385.55 331.059 1383.81 Q331.961 1382.05 331.961 1380.36 Q331.961 1377.61 330.017 1375.87 Q328.096 1374.14 324.994 1374.14 Q322.795 1374.14 320.341 1374.9 Q317.911 1375.67 315.133 1377.22 L315.133 1372.49 Q317.957 1371.36 320.411 1370.78 Q322.864 1370.2 324.901 1370.2 Q330.272 1370.2 333.466 1372.89 Q336.66 1375.57 336.66 1380.06 Q336.66 1382.19 335.85 1384.11 Q335.063 1386.01 332.957 1388.61 Q332.378 1389.28 329.276 1392.49 Q326.174 1395.69 320.526 1401.45 Z\" fill=\"#000000\" fill-rule=\"evenodd\" fill-opacity=\"1\" /><path clip-path=\"url(#clip830)\" d=\"M 0 0 M897.013 1388.56 L926.689 1388.56 L926.689 1392.49 L897.013 1392.49 L897.013 1388.56 Z\" fill=\"#000000\" fill-rule=\"evenodd\" fill-opacity=\"1\" /><path clip-path=\"url(#clip830)\" d=\"M 0 0 M932.568 1401.45 L940.207 1401.45 L940.207 1375.09 L931.897 1376.75 L931.897 1372.49 L940.161 1370.83 L944.837 1370.83 L944.837 1401.45 L952.476 1401.45 L952.476 1405.39 L932.568 1405.39 L932.568 1401.45 Z\" fill=\"#000000\" fill-rule=\"evenodd\" fill-opacity=\"1\" /><path clip-path=\"url(#clip830)\" d=\"M 0 0 M1540.19 1373.91 Q1536.58 1373.91 1534.75 1377.47 Q1532.94 1381.01 1532.94 1388.14 Q1532.94 1395.25 1534.75 1398.81 Q1536.58 1402.36 1540.19 1402.36 Q1543.82 1402.36 1545.63 1398.81 Q1547.46 1395.25 1547.46 1388.14 Q1547.46 1381.01 1545.63 1377.47 Q1543.82 1373.91 1540.19 1373.91 M1540.19 1370.2 Q1546 1370.2 1549.05 1374.81 Q1552.13 1379.39 1552.13 1388.14 Q1552.13 1396.87 1549.05 1401.48 Q1546 1406.06 1540.19 1406.06 Q1534.38 1406.06 1531.3 1401.48 Q1528.24 1396.87 1528.24 1388.14 Q1528.24 1379.39 1531.3 1374.81 Q1534.38 1370.2 1540.19 1370.2 Z\" fill=\"#000000\" fill-rule=\"evenodd\" fill-opacity=\"1\" /><path clip-path=\"url(#clip830)\" d=\"M 0 0 M2146.02 1401.45 L2153.65 1401.45 L2153.65 1375.09 L2145.34 1376.75 L2145.34 1372.49 L2153.61 1370.83 L2158.28 1370.83 L2158.28 1401.45 L2165.92 1401.45 L2165.92 1405.39 L2146.02 1405.39 L2146.02 1401.45 Z\" fill=\"#000000\" fill-rule=\"evenodd\" fill-opacity=\"1\" /><polyline clip-path=\"url(#clip832)\" style=\"stroke:#000000; stroke-width:2; stroke-opacity:0.1; fill:none\" points=\"\n  253.909,1290.14 2211.02,1290.14 \n  \"/>\n<polyline clip-path=\"url(#clip832)\" style=\"stroke:#000000; stroke-width:2; stroke-opacity:0.1; fill:none\" points=\"\n  253.909,1112.06 2211.02,1112.06 \n  \"/>\n<polyline clip-path=\"url(#clip832)\" style=\"stroke:#000000; stroke-width:2; stroke-opacity:0.1; fill:none\" points=\"\n  253.909,933.986 2211.02,933.986 \n  \"/>\n<polyline clip-path=\"url(#clip832)\" style=\"stroke:#000000; stroke-width:2; stroke-opacity:0.1; fill:none\" points=\"\n  253.909,755.911 2211.02,755.911 \n  \"/>\n<polyline clip-path=\"url(#clip832)\" style=\"stroke:#000000; stroke-width:2; stroke-opacity:0.1; fill:none\" points=\"\n  253.909,577.836 2211.02,577.836 \n  \"/>\n<polyline clip-path=\"url(#clip832)\" style=\"stroke:#000000; stroke-width:2; stroke-opacity:0.1; fill:none\" points=\"\n  253.909,399.761 2211.02,399.761 \n  \"/>\n<polyline clip-path=\"url(#clip832)\" style=\"stroke:#000000; stroke-width:2; stroke-opacity:0.1; fill:none\" points=\"\n  253.909,221.686 2211.02,221.686 \n  \"/>\n<polyline clip-path=\"url(#clip830)\" style=\"stroke:#000000; stroke-width:4; stroke-opacity:1; fill:none\" points=\"\n  253.909,1344.72 253.909,188.976 \n  \"/>\n<polyline clip-path=\"url(#clip830)\" style=\"stroke:#000000; stroke-width:4; stroke-opacity:1; fill:none\" points=\"\n  253.909,1290.14 277.395,1290.14 \n  \"/>\n<polyline clip-path=\"url(#clip830)\" style=\"stroke:#000000; stroke-width:4; stroke-opacity:1; fill:none\" points=\"\n  253.909,1112.06 277.395,1112.06 \n  \"/>\n<polyline clip-path=\"url(#clip830)\" style=\"stroke:#000000; stroke-width:4; stroke-opacity:1; fill:none\" points=\"\n  253.909,933.986 277.395,933.986 \n  \"/>\n<polyline clip-path=\"url(#clip830)\" style=\"stroke:#000000; stroke-width:4; stroke-opacity:1; fill:none\" points=\"\n  253.909,755.911 277.395,755.911 \n  \"/>\n<polyline clip-path=\"url(#clip830)\" style=\"stroke:#000000; stroke-width:4; stroke-opacity:1; fill:none\" points=\"\n  253.909,577.836 277.395,577.836 \n  \"/>\n<polyline clip-path=\"url(#clip830)\" style=\"stroke:#000000; stroke-width:4; stroke-opacity:1; fill:none\" points=\"\n  253.909,399.761 277.395,399.761 \n  \"/>\n<polyline clip-path=\"url(#clip830)\" style=\"stroke:#000000; stroke-width:4; stroke-opacity:1; fill:none\" points=\"\n  253.909,221.686 277.395,221.686 \n  \"/>\n<path clip-path=\"url(#clip830)\" d=\"M 0 0 M205.965 1275.94 Q202.354 1275.94 200.525 1279.5 Q198.72 1283.04 198.72 1290.17 Q198.72 1297.28 200.525 1300.84 Q202.354 1304.38 205.965 1304.38 Q209.599 1304.38 211.405 1300.84 Q213.234 1297.28 213.234 1290.17 Q213.234 1283.04 211.405 1279.5 Q209.599 1275.94 205.965 1275.94 M205.965 1272.23 Q211.775 1272.23 214.831 1276.84 Q217.909 1281.42 217.909 1290.17 Q217.909 1298.9 214.831 1303.5 Q211.775 1308.09 205.965 1308.09 Q200.155 1308.09 197.076 1303.5 Q194.021 1298.9 194.021 1290.17 Q194.021 1281.42 197.076 1276.84 Q200.155 1272.23 205.965 1272.23 Z\" fill=\"#000000\" fill-rule=\"evenodd\" fill-opacity=\"1\" /><path clip-path=\"url(#clip830)\" d=\"M 0 0 M198.002 1125.41 L205.641 1125.41 L205.641 1099.04 L197.331 1100.71 L197.331 1096.45 L205.595 1094.78 L210.271 1094.78 L210.271 1125.41 L217.909 1125.41 L217.909 1129.34 L198.002 1129.34 L198.002 1125.41 Z\" fill=\"#000000\" fill-rule=\"evenodd\" fill-opacity=\"1\" /><path clip-path=\"url(#clip830)\" d=\"M 0 0 M201.59 947.331 L217.909 947.331 L217.909 951.266 L195.965 951.266 L195.965 947.331 Q198.627 944.577 203.21 939.947 Q207.817 935.294 208.997 933.952 Q211.243 931.428 212.122 929.692 Q213.025 927.933 213.025 926.243 Q213.025 923.489 211.081 921.753 Q209.16 920.016 206.058 920.016 Q203.859 920.016 201.405 920.78 Q198.974 921.544 196.197 923.095 L196.197 918.373 Q199.021 917.239 201.474 916.66 Q203.928 916.081 205.965 916.081 Q211.335 916.081 214.53 918.766 Q217.724 921.452 217.724 925.942 Q217.724 928.072 216.914 929.993 Q216.127 931.891 214.021 934.484 Q213.442 935.155 210.34 938.373 Q207.238 941.567 201.59 947.331 Z\" fill=\"#000000\" fill-rule=\"evenodd\" fill-opacity=\"1\" /><path clip-path=\"url(#clip830)\" d=\"M 0 0 M210.78 754.557 Q214.136 755.275 216.011 757.543 Q217.909 759.812 217.909 763.145 Q217.909 768.261 214.391 771.062 Q210.872 773.863 204.391 773.863 Q202.215 773.863 199.9 773.423 Q197.609 773.006 195.155 772.15 L195.155 767.636 Q197.099 768.77 199.414 769.349 Q201.729 769.927 204.252 769.927 Q208.65 769.927 210.942 768.191 Q213.257 766.455 213.257 763.145 Q213.257 760.089 211.104 758.376 Q208.974 756.64 205.155 756.64 L201.127 756.64 L201.127 752.798 L205.34 752.798 Q208.789 752.798 210.618 751.432 Q212.447 750.043 212.447 747.451 Q212.447 744.789 210.548 743.377 Q208.673 741.941 205.155 741.941 Q203.234 741.941 201.035 742.358 Q198.835 742.775 196.197 743.654 L196.197 739.488 Q198.859 738.747 201.173 738.377 Q203.511 738.006 205.572 738.006 Q210.896 738.006 213.997 740.437 Q217.099 742.844 217.099 746.965 Q217.099 749.835 215.456 751.826 Q213.812 753.793 210.78 754.557 Z\" fill=\"#000000\" fill-rule=\"evenodd\" fill-opacity=\"1\" /><path clip-path=\"url(#clip830)\" d=\"M 0 0 M208.326 564.63 L196.521 583.079 L208.326 583.079 L208.326 564.63 M207.099 560.556 L212.979 560.556 L212.979 583.079 L217.909 583.079 L217.909 586.968 L212.979 586.968 L212.979 595.116 L208.326 595.116 L208.326 586.968 L192.724 586.968 L192.724 582.454 L207.099 560.556 Z\" fill=\"#000000\" fill-rule=\"evenodd\" fill-opacity=\"1\" /><path clip-path=\"url(#clip830)\" d=\"M 0 0 M197.007 382.481 L215.363 382.481 L215.363 386.416 L201.289 386.416 L201.289 394.888 Q202.308 394.541 203.326 394.379 Q204.345 394.194 205.363 394.194 Q211.15 394.194 214.53 397.365 Q217.909 400.537 217.909 405.953 Q217.909 411.532 214.437 414.634 Q210.965 417.712 204.646 417.712 Q202.47 417.712 200.201 417.342 Q197.956 416.972 195.548 416.231 L195.548 411.532 Q197.632 412.666 199.854 413.222 Q202.076 413.777 204.553 413.777 Q208.558 413.777 210.896 411.671 Q213.234 409.564 213.234 405.953 Q213.234 402.342 210.896 400.236 Q208.558 398.129 204.553 398.129 Q202.678 398.129 200.803 398.546 Q198.951 398.962 197.007 399.842 L197.007 382.481 Z\" fill=\"#000000\" fill-rule=\"evenodd\" fill-opacity=\"1\" /><path clip-path=\"url(#clip830)\" d=\"M 0 0 M206.382 219.823 Q203.234 219.823 201.382 221.975 Q199.553 224.128 199.553 227.878 Q199.553 231.605 201.382 233.781 Q203.234 235.934 206.382 235.934 Q209.53 235.934 211.359 233.781 Q213.21 231.605 213.21 227.878 Q213.21 224.128 211.359 221.975 Q209.53 219.823 206.382 219.823 M215.664 205.17 L215.664 209.429 Q213.905 208.596 212.099 208.156 Q210.317 207.716 208.558 207.716 Q203.928 207.716 201.474 210.841 Q199.044 213.966 198.697 220.286 Q200.062 218.272 202.123 217.207 Q204.183 216.119 206.66 216.119 Q211.868 216.119 214.877 219.29 Q217.909 222.438 217.909 227.878 Q217.909 233.202 214.761 236.42 Q211.613 239.637 206.382 239.637 Q200.386 239.637 197.215 235.054 Q194.044 230.448 194.044 221.721 Q194.044 213.526 197.933 208.665 Q201.822 203.781 208.372 203.781 Q210.132 203.781 211.914 204.128 Q213.72 204.475 215.664 205.17 Z\" fill=\"#000000\" fill-rule=\"evenodd\" fill-opacity=\"1\" /><polyline clip-path=\"url(#clip832)\" style=\"stroke:#009af9; stroke-width:8; stroke-opacity:1; fill:none\" points=\"\n  309.299,755.911 318.315,768.878 327.33,781.691 410.692,892.931 494.053,991.102 544.149,1043.81 594.246,1091.8 636.602,1128.7 678.958,1162.22 770.979,1223.41 \n  855.814,1265.72 901.29,1282.83 946.767,1296.05 999.455,1306.51 1052.14,1311.74 1098.97,1312.01 1145.79,1308.15 1186.85,1301.38 1227.91,1291.44 1317.44,1258.76 \n  1407.51,1210.68 1457.3,1177.55 1507.09,1139.77 1554.46,1099.48 1601.83,1054.98 1700.35,948.922 1783.27,845.495 1833.9,776.002 1884.52,701.69 1932.11,627.44 \n  1979.69,548.931 2055.93,414.278 2132.17,268.695 2143.9,245.32 2155.63,221.686 \n  \"/>\n</svg>\n",
            "text/html": [
              "<?xml version=\"1.0\" encoding=\"utf-8\"?>\n",
              "<svg xmlns=\"http://www.w3.org/2000/svg\" xmlns:xlink=\"http://www.w3.org/1999/xlink\" width=\"600\" height=\"400\" viewBox=\"0 0 2400 1600\">\n",
              "<defs>\n",
              "  <clipPath id=\"clip880\">\n",
              "    <rect x=\"0\" y=\"0\" width=\"2400\" height=\"1600\"/>\n",
              "  </clipPath>\n",
              "</defs>\n",
              "<path clip-path=\"url(#clip880)\" d=\"\n",
              "M0 1600 L2400 1600 L2400 0 L0 0  Z\n",
              "  \" fill=\"#ffffff\" fill-rule=\"evenodd\" fill-opacity=\"1\"/>\n",
              "<defs>\n",
              "  <clipPath id=\"clip881\">\n",
              "    <rect x=\"480\" y=\"0\" width=\"1681\" height=\"1600\"/>\n",
              "  </clipPath>\n",
              "</defs>\n",
              "<path clip-path=\"url(#clip880)\" d=\"\n",
              "M253.909 1344.72 L2211.02 1344.72 L2211.02 188.976 L253.909 188.976  Z\n",
              "  \" fill=\"#ffffff\" fill-rule=\"evenodd\" fill-opacity=\"1\"/>\n",
              "<defs>\n",
              "  <clipPath id=\"clip882\">\n",
              "    <rect x=\"253\" y=\"188\" width=\"1958\" height=\"1157\"/>\n",
              "  </clipPath>\n",
              "</defs>\n",
              "<polyline clip-path=\"url(#clip882)\" style=\"stroke:#000000; stroke-width:2; stroke-opacity:0.1; fill:none\" points=\"\n",
              "  309.299,1344.72 309.299,188.976 \n",
              "  \"/>\n",
              "<polyline clip-path=\"url(#clip882)\" style=\"stroke:#000000; stroke-width:2; stroke-opacity:0.1; fill:none\" points=\"\n",
              "  924.744,1344.72 924.744,188.976 \n",
              "  \"/>\n",
              "<polyline clip-path=\"url(#clip882)\" style=\"stroke:#000000; stroke-width:2; stroke-opacity:0.1; fill:none\" points=\"\n",
              "  1540.19,1344.72 1540.19,188.976 \n",
              "  \"/>\n",
              "<polyline clip-path=\"url(#clip882)\" style=\"stroke:#000000; stroke-width:2; stroke-opacity:0.1; fill:none\" points=\"\n",
              "  2155.63,1344.72 2155.63,188.976 \n",
              "  \"/>\n",
              "<polyline clip-path=\"url(#clip880)\" style=\"stroke:#000000; stroke-width:4; stroke-opacity:1; fill:none\" points=\"\n",
              "  253.909,1344.72 2211.02,1344.72 \n",
              "  \"/>\n",
              "<polyline clip-path=\"url(#clip880)\" style=\"stroke:#000000; stroke-width:4; stroke-opacity:1; fill:none\" points=\"\n",
              "  309.299,1344.72 309.299,1330.85 \n",
              "  \"/>\n",
              "<polyline clip-path=\"url(#clip880)\" style=\"stroke:#000000; stroke-width:4; stroke-opacity:1; fill:none\" points=\"\n",
              "  924.744,1344.72 924.744,1330.85 \n",
              "  \"/>\n",
              "<polyline clip-path=\"url(#clip880)\" style=\"stroke:#000000; stroke-width:4; stroke-opacity:1; fill:none\" points=\"\n",
              "  1540.19,1344.72 1540.19,1330.85 \n",
              "  \"/>\n",
              "<polyline clip-path=\"url(#clip880)\" style=\"stroke:#000000; stroke-width:4; stroke-opacity:1; fill:none\" points=\"\n",
              "  2155.63,1344.72 2155.63,1330.85 \n",
              "  \"/>\n",
              "<path clip-path=\"url(#clip880)\" d=\"M 0 0 M281.753 1388.56 L311.429 1388.56 L311.429 1392.49 L281.753 1392.49 L281.753 1388.56 Z\" fill=\"#000000\" fill-rule=\"evenodd\" fill-opacity=\"1\" /><path clip-path=\"url(#clip880)\" d=\"M 0 0 M320.526 1401.45 L336.846 1401.45 L336.846 1405.39 L314.901 1405.39 L314.901 1401.45 Q317.563 1398.7 322.147 1394.07 Q326.753 1389.42 327.934 1388.07 Q330.179 1385.55 331.059 1383.81 Q331.961 1382.05 331.961 1380.36 Q331.961 1377.61 330.017 1375.87 Q328.096 1374.14 324.994 1374.14 Q322.795 1374.14 320.341 1374.9 Q317.911 1375.67 315.133 1377.22 L315.133 1372.49 Q317.957 1371.36 320.411 1370.78 Q322.864 1370.2 324.901 1370.2 Q330.272 1370.2 333.466 1372.89 Q336.66 1375.57 336.66 1380.06 Q336.66 1382.19 335.85 1384.11 Q335.063 1386.01 332.957 1388.61 Q332.378 1389.28 329.276 1392.49 Q326.174 1395.69 320.526 1401.45 Z\" fill=\"#000000\" fill-rule=\"evenodd\" fill-opacity=\"1\" /><path clip-path=\"url(#clip880)\" d=\"M 0 0 M897.013 1388.56 L926.689 1388.56 L926.689 1392.49 L897.013 1392.49 L897.013 1388.56 Z\" fill=\"#000000\" fill-rule=\"evenodd\" fill-opacity=\"1\" /><path clip-path=\"url(#clip880)\" d=\"M 0 0 M932.568 1401.45 L940.207 1401.45 L940.207 1375.09 L931.897 1376.75 L931.897 1372.49 L940.161 1370.83 L944.837 1370.83 L944.837 1401.45 L952.476 1401.45 L952.476 1405.39 L932.568 1405.39 L932.568 1401.45 Z\" fill=\"#000000\" fill-rule=\"evenodd\" fill-opacity=\"1\" /><path clip-path=\"url(#clip880)\" d=\"M 0 0 M1540.19 1373.91 Q1536.58 1373.91 1534.75 1377.47 Q1532.94 1381.01 1532.94 1388.14 Q1532.94 1395.25 1534.75 1398.81 Q1536.58 1402.36 1540.19 1402.36 Q1543.82 1402.36 1545.63 1398.81 Q1547.46 1395.25 1547.46 1388.14 Q1547.46 1381.01 1545.63 1377.47 Q1543.82 1373.91 1540.19 1373.91 M1540.19 1370.2 Q1546 1370.2 1549.05 1374.81 Q1552.13 1379.39 1552.13 1388.14 Q1552.13 1396.87 1549.05 1401.48 Q1546 1406.06 1540.19 1406.06 Q1534.38 1406.06 1531.3 1401.48 Q1528.24 1396.87 1528.24 1388.14 Q1528.24 1379.39 1531.3 1374.81 Q1534.38 1370.2 1540.19 1370.2 Z\" fill=\"#000000\" fill-rule=\"evenodd\" fill-opacity=\"1\" /><path clip-path=\"url(#clip880)\" d=\"M 0 0 M2146.02 1401.45 L2153.65 1401.45 L2153.65 1375.09 L2145.34 1376.75 L2145.34 1372.49 L2153.61 1370.83 L2158.28 1370.83 L2158.28 1401.45 L2165.92 1401.45 L2165.92 1405.39 L2146.02 1405.39 L2146.02 1401.45 Z\" fill=\"#000000\" fill-rule=\"evenodd\" fill-opacity=\"1\" /><polyline clip-path=\"url(#clip882)\" style=\"stroke:#000000; stroke-width:2; stroke-opacity:0.1; fill:none\" points=\"\n",
              "  253.909,1290.14 2211.02,1290.14 \n",
              "  \"/>\n",
              "<polyline clip-path=\"url(#clip882)\" style=\"stroke:#000000; stroke-width:2; stroke-opacity:0.1; fill:none\" points=\"\n",
              "  253.909,1112.06 2211.02,1112.06 \n",
              "  \"/>\n",
              "<polyline clip-path=\"url(#clip882)\" style=\"stroke:#000000; stroke-width:2; stroke-opacity:0.1; fill:none\" points=\"\n",
              "  253.909,933.986 2211.02,933.986 \n",
              "  \"/>\n",
              "<polyline clip-path=\"url(#clip882)\" style=\"stroke:#000000; stroke-width:2; stroke-opacity:0.1; fill:none\" points=\"\n",
              "  253.909,755.911 2211.02,755.911 \n",
              "  \"/>\n",
              "<polyline clip-path=\"url(#clip882)\" style=\"stroke:#000000; stroke-width:2; stroke-opacity:0.1; fill:none\" points=\"\n",
              "  253.909,577.836 2211.02,577.836 \n",
              "  \"/>\n",
              "<polyline clip-path=\"url(#clip882)\" style=\"stroke:#000000; stroke-width:2; stroke-opacity:0.1; fill:none\" points=\"\n",
              "  253.909,399.761 2211.02,399.761 \n",
              "  \"/>\n",
              "<polyline clip-path=\"url(#clip882)\" style=\"stroke:#000000; stroke-width:2; stroke-opacity:0.1; fill:none\" points=\"\n",
              "  253.909,221.686 2211.02,221.686 \n",
              "  \"/>\n",
              "<polyline clip-path=\"url(#clip880)\" style=\"stroke:#000000; stroke-width:4; stroke-opacity:1; fill:none\" points=\"\n",
              "  253.909,1344.72 253.909,188.976 \n",
              "  \"/>\n",
              "<polyline clip-path=\"url(#clip880)\" style=\"stroke:#000000; stroke-width:4; stroke-opacity:1; fill:none\" points=\"\n",
              "  253.909,1290.14 277.395,1290.14 \n",
              "  \"/>\n",
              "<polyline clip-path=\"url(#clip880)\" style=\"stroke:#000000; stroke-width:4; stroke-opacity:1; fill:none\" points=\"\n",
              "  253.909,1112.06 277.395,1112.06 \n",
              "  \"/>\n",
              "<polyline clip-path=\"url(#clip880)\" style=\"stroke:#000000; stroke-width:4; stroke-opacity:1; fill:none\" points=\"\n",
              "  253.909,933.986 277.395,933.986 \n",
              "  \"/>\n",
              "<polyline clip-path=\"url(#clip880)\" style=\"stroke:#000000; stroke-width:4; stroke-opacity:1; fill:none\" points=\"\n",
              "  253.909,755.911 277.395,755.911 \n",
              "  \"/>\n",
              "<polyline clip-path=\"url(#clip880)\" style=\"stroke:#000000; stroke-width:4; stroke-opacity:1; fill:none\" points=\"\n",
              "  253.909,577.836 277.395,577.836 \n",
              "  \"/>\n",
              "<polyline clip-path=\"url(#clip880)\" style=\"stroke:#000000; stroke-width:4; stroke-opacity:1; fill:none\" points=\"\n",
              "  253.909,399.761 277.395,399.761 \n",
              "  \"/>\n",
              "<polyline clip-path=\"url(#clip880)\" style=\"stroke:#000000; stroke-width:4; stroke-opacity:1; fill:none\" points=\"\n",
              "  253.909,221.686 277.395,221.686 \n",
              "  \"/>\n",
              "<path clip-path=\"url(#clip880)\" d=\"M 0 0 M205.965 1275.94 Q202.354 1275.94 200.525 1279.5 Q198.72 1283.04 198.72 1290.17 Q198.72 1297.28 200.525 1300.84 Q202.354 1304.38 205.965 1304.38 Q209.599 1304.38 211.405 1300.84 Q213.234 1297.28 213.234 1290.17 Q213.234 1283.04 211.405 1279.5 Q209.599 1275.94 205.965 1275.94 M205.965 1272.23 Q211.775 1272.23 214.831 1276.84 Q217.909 1281.42 217.909 1290.17 Q217.909 1298.9 214.831 1303.5 Q211.775 1308.09 205.965 1308.09 Q200.155 1308.09 197.076 1303.5 Q194.021 1298.9 194.021 1290.17 Q194.021 1281.42 197.076 1276.84 Q200.155 1272.23 205.965 1272.23 Z\" fill=\"#000000\" fill-rule=\"evenodd\" fill-opacity=\"1\" /><path clip-path=\"url(#clip880)\" d=\"M 0 0 M198.002 1125.41 L205.641 1125.41 L205.641 1099.04 L197.331 1100.71 L197.331 1096.45 L205.595 1094.78 L210.271 1094.78 L210.271 1125.41 L217.909 1125.41 L217.909 1129.34 L198.002 1129.34 L198.002 1125.41 Z\" fill=\"#000000\" fill-rule=\"evenodd\" fill-opacity=\"1\" /><path clip-path=\"url(#clip880)\" d=\"M 0 0 M201.59 947.331 L217.909 947.331 L217.909 951.266 L195.965 951.266 L195.965 947.331 Q198.627 944.577 203.21 939.947 Q207.817 935.294 208.997 933.952 Q211.243 931.428 212.122 929.692 Q213.025 927.933 213.025 926.243 Q213.025 923.489 211.081 921.753 Q209.16 920.016 206.058 920.016 Q203.859 920.016 201.405 920.78 Q198.974 921.544 196.197 923.095 L196.197 918.373 Q199.021 917.239 201.474 916.66 Q203.928 916.081 205.965 916.081 Q211.335 916.081 214.53 918.766 Q217.724 921.452 217.724 925.942 Q217.724 928.072 216.914 929.993 Q216.127 931.891 214.021 934.484 Q213.442 935.155 210.34 938.373 Q207.238 941.567 201.59 947.331 Z\" fill=\"#000000\" fill-rule=\"evenodd\" fill-opacity=\"1\" /><path clip-path=\"url(#clip880)\" d=\"M 0 0 M210.78 754.557 Q214.136 755.275 216.011 757.543 Q217.909 759.812 217.909 763.145 Q217.909 768.261 214.391 771.062 Q210.872 773.863 204.391 773.863 Q202.215 773.863 199.9 773.423 Q197.609 773.006 195.155 772.15 L195.155 767.636 Q197.099 768.77 199.414 769.349 Q201.729 769.927 204.252 769.927 Q208.65 769.927 210.942 768.191 Q213.257 766.455 213.257 763.145 Q213.257 760.089 211.104 758.376 Q208.974 756.64 205.155 756.64 L201.127 756.64 L201.127 752.798 L205.34 752.798 Q208.789 752.798 210.618 751.432 Q212.447 750.043 212.447 747.451 Q212.447 744.789 210.548 743.377 Q208.673 741.941 205.155 741.941 Q203.234 741.941 201.035 742.358 Q198.835 742.775 196.197 743.654 L196.197 739.488 Q198.859 738.747 201.173 738.377 Q203.511 738.006 205.572 738.006 Q210.896 738.006 213.997 740.437 Q217.099 742.844 217.099 746.965 Q217.099 749.835 215.456 751.826 Q213.812 753.793 210.78 754.557 Z\" fill=\"#000000\" fill-rule=\"evenodd\" fill-opacity=\"1\" /><path clip-path=\"url(#clip880)\" d=\"M 0 0 M208.326 564.63 L196.521 583.079 L208.326 583.079 L208.326 564.63 M207.099 560.556 L212.979 560.556 L212.979 583.079 L217.909 583.079 L217.909 586.968 L212.979 586.968 L212.979 595.116 L208.326 595.116 L208.326 586.968 L192.724 586.968 L192.724 582.454 L207.099 560.556 Z\" fill=\"#000000\" fill-rule=\"evenodd\" fill-opacity=\"1\" /><path clip-path=\"url(#clip880)\" d=\"M 0 0 M197.007 382.481 L215.363 382.481 L215.363 386.416 L201.289 386.416 L201.289 394.888 Q202.308 394.541 203.326 394.379 Q204.345 394.194 205.363 394.194 Q211.15 394.194 214.53 397.365 Q217.909 400.537 217.909 405.953 Q217.909 411.532 214.437 414.634 Q210.965 417.712 204.646 417.712 Q202.47 417.712 200.201 417.342 Q197.956 416.972 195.548 416.231 L195.548 411.532 Q197.632 412.666 199.854 413.222 Q202.076 413.777 204.553 413.777 Q208.558 413.777 210.896 411.671 Q213.234 409.564 213.234 405.953 Q213.234 402.342 210.896 400.236 Q208.558 398.129 204.553 398.129 Q202.678 398.129 200.803 398.546 Q198.951 398.962 197.007 399.842 L197.007 382.481 Z\" fill=\"#000000\" fill-rule=\"evenodd\" fill-opacity=\"1\" /><path clip-path=\"url(#clip880)\" d=\"M 0 0 M206.382 219.823 Q203.234 219.823 201.382 221.975 Q199.553 224.128 199.553 227.878 Q199.553 231.605 201.382 233.781 Q203.234 235.934 206.382 235.934 Q209.53 235.934 211.359 233.781 Q213.21 231.605 213.21 227.878 Q213.21 224.128 211.359 221.975 Q209.53 219.823 206.382 219.823 M215.664 205.17 L215.664 209.429 Q213.905 208.596 212.099 208.156 Q210.317 207.716 208.558 207.716 Q203.928 207.716 201.474 210.841 Q199.044 213.966 198.697 220.286 Q200.062 218.272 202.123 217.207 Q204.183 216.119 206.66 216.119 Q211.868 216.119 214.877 219.29 Q217.909 222.438 217.909 227.878 Q217.909 233.202 214.761 236.42 Q211.613 239.637 206.382 239.637 Q200.386 239.637 197.215 235.054 Q194.044 230.448 194.044 221.721 Q194.044 213.526 197.933 208.665 Q201.822 203.781 208.372 203.781 Q210.132 203.781 211.914 204.128 Q213.72 204.475 215.664 205.17 Z\" fill=\"#000000\" fill-rule=\"evenodd\" fill-opacity=\"1\" /><polyline clip-path=\"url(#clip882)\" style=\"stroke:#009af9; stroke-width:8; stroke-opacity:1; fill:none\" points=\"\n",
              "  309.299,755.911 318.315,768.878 327.33,781.691 410.692,892.931 494.053,991.102 544.149,1043.81 594.246,1091.8 636.602,1128.7 678.958,1162.22 770.979,1223.41 \n",
              "  855.814,1265.72 901.29,1282.83 946.767,1296.05 999.455,1306.51 1052.14,1311.74 1098.97,1312.01 1145.79,1308.15 1186.85,1301.38 1227.91,1291.44 1317.44,1258.76 \n",
              "  1407.51,1210.68 1457.3,1177.55 1507.09,1139.77 1554.46,1099.48 1601.83,1054.98 1700.35,948.922 1783.27,845.495 1833.9,776.002 1884.52,701.69 1932.11,627.44 \n",
              "  1979.69,548.931 2055.93,414.278 2132.17,268.695 2143.9,245.32 2155.63,221.686 \n",
              "  \"/>\n",
              "</svg>\n"
            ]
          },
          "metadata": {},
          "output_type": "display_data"
        }
      ],
      "source": [
        "using Optim #Our optimization libarary\n",
        "f_univ(x) = 2x^2+3x+1\n",
        "plot(f_univ,-2.,1)"
      ]
    },
    {
      "cell_type": "markdown",
      "metadata": {},
      "source": [
        "## Using Optim Univariate"
      ]
    },
    {
      "cell_type": "code",
      "execution_count": 4,
      "metadata": {},
      "outputs": [
        {
          "data": {
            "text/plain": [
              "-0.749999994377939"
            ]
          },
          "metadata": {},
          "output_type": "display_data"
        }
      ],
      "source": [
        "#Finds global minimum\n",
        "res = optimize(f_univ,-2.0,1.0,GoldenSection())\n",
        "Optim.minimizer(res)"
      ]
    },
    {
      "cell_type": "code",
      "execution_count": 5,
      "metadata": {},
      "outputs": [
        {
          "data": {
            "text/plain": [
              "-0.49999998939347085"
            ]
          },
          "metadata": {},
          "output_type": "display_data"
        }
      ],
      "source": [
        "#Lower bound binds\n",
        "res = optimize(f_univ,-0.5,1.0,GoldenSection())\n",
        "Optim.minimizer(res)"
      ]
    },
    {
      "cell_type": "markdown",
      "metadata": {},
      "source": [
        "## Brent's Method\n",
        "\n",
        "* An alternative to choosing $d$ through golden search\n",
        "\n",
        "* Construct a quadratic polynomial that fits values for points $(a,b,c)$\n",
        "\n",
        "* Let $d$ be the point that minimizes that polynomial\n",
        "\n",
        "    * Use criteria from above to choose new tuple $(d,b,c)$ or $(a,d,c)$\n",
        "\n",
        "* Can lead to significantly faster convergence"
      ]
    },
    {
      "cell_type": "code",
      "execution_count": 6,
      "metadata": {},
      "outputs": [
        {
          "name": "stdout",
          "output_type": "stream",
          "text": [
            "  0.000003 seconds (2 allocations: 176 bytes)\n"
          ]
        }
      ],
      "source": [
        "optimize(f_univ,-2.0,1.0,Brent()) #run once to precompile\n",
        "@time res = optimize(f_univ,-2.0,1.0,Brent());"
      ]
    },
    {
      "cell_type": "code",
      "execution_count": 7,
      "metadata": {},
      "outputs": [
        {
          "name": "stdout",
          "output_type": "stream",
          "text": [
            "  0.000004 seconds (2 allocations: 176 bytes)\n"
          ]
        }
      ],
      "source": [
        "@time res = optimize(f_univ,-2.0,1.0,GoldenSection());"
      ]
    },
    {
      "cell_type": "markdown",
      "metadata": {},
      "source": [
        "# Multivariate Optimization\n",
        "\n",
        "## Simplex Methods\n",
        "* This provides a algorithm to extend derivative free methods to $n$ dimensions\n",
        "* Start with $n+1$ points $\\mathbf x_1,\\mathbf x_2,\\ldots,\\mathbf x_{n+1}$\n",
        "    * Ordered such that $f(\\mathbf x_1)\\leq f(\\mathbf x_2)\\leq\\ldots\\leq f(\\mathbf x_{n+1})$\n",
        "* Perform the following operations: Reflection, Expansion, Contraction and Shrinkage\n",
        "\n",
        "1. Order points of simplex by $f$ and calculate centroid $\\mathbf x_0$ of all points but $\\mathbf x_{n+1}$\n",
        "2. **Reflection:** Compute the reflected point $\\mathbf x_r = \\mathbf x_0 + \\alpha (\\mathbf x_0 -\\mathbf x_{n+1})$\n",
        "    * If $f(\\mathbf x_1)\\leq f(\\mathbf x_r)<f (\\mathbf x_n)$: return to 1. with $\\mathbf x_{n+1} = \\mathbf x_r$\n",
        "3. **Expansion:** If $f(\\mathbf x_r)<f(\\mathbf x_1)$ construct $\\mathbf x_e = \\mathbf x_0 + \\gamma (\\mathbf x_r -\\mathbf x_0)$\n",
        "    * If $f(\\mathbf x_r)\\leq f(\\mathbf x_e))$: return to 1. with $\\mathbf x_{n+1} = \\mathbf x_r$\n",
        "    * If $f(\\mathbf x_e)\\leq f(\\mathbf x_r))$: return to 1. with $\\mathbf x_{n+1} = \\mathbf x_e$\n",
        "4. **Contracation:** Now $f(\\mathbf x_r)\\geq f(\\mathbf x_n)$, construct $\\mathbf x_c = \\mathbf x_0 + \\rho(\\mathbf x_{n+1}-\\mathbf x_0)$\n",
        "    * If $f(\\mathbf x_c) < f(\\mathbf x_{n+1})$ return to 1. with $\\mathbf x_{n+1} = \\mathbf x_c$\n",
        "5. **Shrink:** for $i\\geq 2$ replace $\\mathbf x_i = \\mathbf x_1 + \\sigma (\\mathbf x_i - \\mathbf x_1)$ go to step 1\n",
        "\n",
        "Standard values $\\alpha = 1.$, $\\gamma = 2$, $\\rho = 0.5$, and $\\sigma = 0.5$\n",
        "\n",
        "## Reflection, Expansion, Contraction etc. \n",
        "![](assets/simplex_animation.gif)\n",
        "\n",
        "## Example\n",
        "![](assets/Nelder-Mead_Rosenbrock.gif)\n",
        "\n",
        "## Example Code"
      ]
    },
    {
      "cell_type": "code",
      "execution_count": 8,
      "metadata": {},
      "outputs": [
        {
          "data": {
            "text/plain": [
              " * Status: success\n",
              "\n",
              " * Candidate solution\n",
              "    Final objective value:     3.950131e-09\n",
              "\n",
              " * Found with\n",
              "    Algorithm:     Nelder-Mead\n",
              "\n",
              " * Convergence measures\n",
              "    √(Σ(yᵢ-ȳ)²)/n ≤ 1.0e-08\n",
              "\n",
              " * Work counters\n",
              "    Seconds run:   0  (vs limit Inf)\n",
              "    Iterations:    103\n",
              "    f(x) calls:    198\n"
            ]
          },
          "metadata": {},
          "output_type": "display_data"
        }
      ],
      "source": [
        "#rosenbrock function\n",
        "f_ros(x) = (1.0 - x[1])^2 + 100.0 * (x[2] - x[1]^2)^2\n",
        "optimize(f_ros,10*ones(2),NelderMead())"
      ]
    },
    {
      "cell_type": "code",
      "execution_count": 9,
      "metadata": {},
      "outputs": [],
      "source": [
        "#uses by default AffineSimplexer()\n",
        "Optim.simplexer(Optim.AffineSimplexer(),[0.,1.]);"
      ]
    },
    {
      "cell_type": "markdown",
      "metadata": {},
      "source": [
        "## Simulated Annealing\n",
        "* Very helpful if you need to find global minimum of a function which is plagued a lot of local minima\n",
        "\n",
        "* Algorithm (start from guess $\\mathbf x_0$):\n",
        "\n",
        "    1. Draw $\\mathbf z$ from standard multivariate normal \n",
        "    $$\n",
        "        \\mathbf x_1 = \\mathbf x_0 + \\lambda \\mathbf z \n",
        "    $$\n",
        "\n",
        "    2. Accept $x_1$ if $f(\\mathbf x_1)< f(\\mathbf x_0)$ or with probability\n",
        "    $$\n",
        "        \\exp\\left(-\\frac{f(\\mathbf x_1)-f(\\mathbf x_0)}{T}\\right)\n",
        "    $$\n",
        "     $T$ is called the temperature\n",
        "\n",
        "    3. Go back to step 1 with $x_0 = x_1$\n",
        "\n",
        "    4. Reduce $T$ after each iteration, stop after $n_{max}$ iterations\n",
        "\n",
        "![](assets/Simulated_Annealing.gif)\n",
        "\n",
        "## Code implementation"
      ]
    },
    {
      "cell_type": "code",
      "execution_count": 10,
      "metadata": {},
      "outputs": [
        {
          "data": {
            "text/plain": [
              " * Status: failure (reached maximum number of iterations)\n",
              "\n",
              " * Candidate solution\n",
              "    Final objective value:     4.504838e-06\n",
              "\n",
              " * Found with\n",
              "    Algorithm:     Simulated Annealing\n",
              "\n",
              " * Convergence measures\n",
              "    |x - x'|               = NaN ≰ 0.0e+00\n",
              "    |x - x'|/|x'|          = NaN ≰ 0.0e+00\n",
              "    |f(x) - f(x')|         = NaN ≰ 0.0e+00\n",
              "    |f(x) - f(x')|/|f(x')| = NaN ≰ 0.0e+00\n",
              "    |g(x)|                 = NaN ≰ 1.0e-08\n",
              "\n",
              " * Work counters\n",
              "    Seconds run:   3  (vs limit Inf)\n",
              "    Iterations:    10000000\n",
              "    f(x) calls:    10000001\n"
            ]
          },
          "metadata": {},
          "output_type": "display_data"
        }
      ],
      "source": [
        "#Simulated Annealing\n",
        "result = optimize(f_ros,zeros(2),SimulatedAnnealing(),Optim.Options(iterations=10^7)) #very rough right now"
      ]
    },
    {
      "cell_type": "code",
      "execution_count": 11,
      "metadata": {},
      "outputs": [
        {
          "name": "stdout",
          "output_type": "stream",
          "text": [
            "Value of Function at Minimum:4.504838380974771e-6\n"
          ]
        },
        {
          "name": "stdout",
          "output_type": "stream",
          "text": [
            "Point that Acheives Minimum:[0.9983885691715199, 0.9966416000073445]\n"
          ]
        }
      ],
      "source": [
        "#Obtaining solutions\n",
        "println(\"Value of Function at Minimum:$(result.minimum)\")\n",
        "println(\"Point that Acheives Minimum:$(result.minimizer)\")"
      ]
    },
    {
      "cell_type": "markdown",
      "metadata": {},
      "source": [
        "# Gradient Based Methods\n",
        "## Newton's Method\n",
        "\n",
        "* Very similar to Newton's Rootfinding method\n",
        "\n",
        "* Do a second order taylor expansion around $x_n$\n",
        "$$\n",
        "f(x) \\approx f(x_n) + f'(x^n)(x-x^n) + \\frac12 f''(x^n)(x-x^n)^2\n",
        "$$\n",
        "\n",
        "* Minimizing this approximated function (taking the first order condition) to get\n",
        "$$\n",
        "    x_{n+1} = x_n - \\frac{f'(x_n)}{f''(x_n)}\n",
        "$$\n",
        "\n",
        "* Need both first and second derivatives\n",
        "\n",
        "* **Note:** $f''(x_n)$ determines how far you move in the direction $f'(x_n)$, will move in the direction that decreases $f$ to first order as long as $f''(x_n) > 0$\n",
        "\n",
        "## Multivariate Extension\n",
        "* For a multivariate function $f(\\mathbf x)$ the second order Taylor expansion is\n",
        "$$\n",
        "    f(\\mathbf x) \\approx f(\\mathbf x_n) + \\nabla f(\\mathbf x_n)(\\mathbf x-\\mathbf x_n) + \\frac12 (\\mathbf x-\\mathbf x_n)' H(\\mathbf x_n)(\\mathbf x-\\mathbf x_n)\n",
        "$$\n",
        "\n",
        "* This yields an updating equation\n",
        "$$\n",
        "    \\mathbf x_{n+1} = \\mathbf x_n - H(\\mathbf x_n)^{-1} \\nabla f(\\mathbf x_n)\n",
        "$$\n",
        "\n",
        "* Problem: Computing $H$ can be time consuming\n",
        "\n",
        "    * May also not be positive definite (can result in algorithm moving in wrong direction (i.e. towards max)\n",
        "\n",
        "## Quasi-Newton Methods\n",
        "\n",
        "* Approximate the Hessian with a positive definite matrix\n",
        "\n",
        "* Example: set Hessian to $I$\n",
        "$$\n",
        "    \\mathbf x_{n+1} = \\mathbf x_{n} -\\nabla f(\\mathbf x_n)\n",
        "$$\n",
        "\n",
        "* Always moves in the right direction but can overshoot, slow convergence rate\n",
        "\n",
        "* BFGS algorithm uses secant to approximate the Hessisan\n",
        "\n",
        "    * Starts with Hessian being $I$, updates it by using changes in the gradient\n",
        "    \n",
        "    * Can show that approximated Hessian will remain Positive definite\n",
        "\n",
        "\n",
        "## Implementation"
      ]
    },
    {
      "cell_type": "code",
      "execution_count": 12,
      "metadata": {},
      "outputs": [
        {
          "data": {
            "text/plain": [
              " * Status: success\n",
              "\n",
              " * Candidate solution\n",
              "    Final objective value:     5.471433e-17\n",
              "\n",
              " * Found with\n",
              "    Algorithm:     BFGS\n",
              "\n",
              " * Convergence measures\n",
              "    |x - x'|               = 3.47e-07 ≰ 0.0e+00\n",
              "    |x - x'|/|x'|          = 3.47e-07 ≰ 0.0e+00\n",
              "    |f(x) - f(x')|         = 6.59e-14 ≰ 0.0e+00\n",
              "    |f(x) - f(x')|/|f(x')| = 1.20e+03 ≰ 0.0e+00\n",
              "    |g(x)|                 = 2.33e-09 ≤ 1.0e-08\n",
              "\n",
              " * Work counters\n",
              "    Seconds run:   1  (vs limit Inf)\n",
              "    Iterations:    16\n",
              "    f(x) calls:    53\n",
              "    ∇f(x) calls:   53\n"
            ]
          },
          "metadata": {},
          "output_type": "display_data"
        }
      ],
      "source": [
        "optimize(f_ros,zeros(2),BFGS())"
      ]
    },
    {
      "cell_type": "code",
      "execution_count": 13,
      "metadata": {},
      "outputs": [
        {
          "name": "stdout",
          "output_type": "stream",
          "text": [
            "  0.000089 seconds (342 allocations: 9.406 KiB)\n"
          ]
        },
        {
          "name": "stdout",
          "output_type": "stream",
          "text": [
            "  2.497396 seconds (20.00 M allocations: 305.177 MiB, 1.55% gc time)\n",
            "  0.000100 seconds (608 allocations: 25.984 KiB)\n"
          ]
        }
      ],
      "source": [
        "@time optimize(f_ros,zeros(2),NelderMead())\n",
        "@time optimize(f_ros,zeros(2),SimulatedAnnealing(),Optim.Options(iterations=10^7))\n",
        "@time optimize(f_ros,zeros(2),BFGS());"
      ]
    },
    {
      "cell_type": "markdown",
      "metadata": {},
      "source": [
        "# Problems With Constraints\n",
        "\n",
        "* Many times we will wish to perform the following kind of maximization\n",
        "$$\n",
        "    \\max_{\\mathbf x} f(\\mathbf x)\n",
        "$$\n",
        "subject to \n",
        "\\begin{align*}\n",
        "    g_i(\\mathbf x)&\\leq 0\\\\\n",
        "    r_j(\\mathbf x)&= 0\n",
        "\\end{align*}\n",
        "\n",
        "* Construct a penalty function for violating the constraints\n",
        "$$\n",
        "    P(\\mathbf x) = \\sum_{i=1}^m[\\max\\{0,g_i(\\mathbf x)\\}]^2 + \\sum_{j=1}^k [r_j(\\mathbf x)]^2\n",
        "$$\n",
        "\n",
        "* Create a new objective function\n",
        "$$\n",
        "    h(c,\\mathbf x) = f(\\mathbf x)+cP(\\mathbf x)\n",
        "$$\n",
        "\n",
        "## Augmented Lagrangian Technique\n",
        "* Start with a relatively small value of $c$ and an initial point $\\mathbf x$\n",
        "\n",
        "* Solve a sequence of problems with monotonically increasing values of $c$\n",
        "\n",
        "    1. Choose a growth parameter $\\eta>1$ and initial penalty $c^0$\n",
        "\n",
        "    2. At iteration $n$ minimize $h(c_n,\\mathbf x)$.  Call this solution $\\mathbf x_n$.  If $\\mathbf x_n$ does not violate constraints more than $\\epsilon$ then stop.  Otherwise $c_{n+1}  = (1+\\eta)c_n$ and repeat starting from $\\mathbf x_n$\n",
        "\n",
        "* Can show that this will work as long as such a mininum exists\n",
        "\n",
        "## Example\n",
        "![](assets/NLopt-example.png)\n",
        "\n",
        "## Example Code"
      ]
    },
    {
      "cell_type": "code",
      "execution_count": 14,
      "metadata": {},
      "outputs": [
        {
          "name": "stderr",
          "output_type": "stream",
          "text": [
            "WARNING: using NLopt.optimize in module Main conflicts with an existing identifier.\n"
          ]
        },
        {
          "data": {
            "text/plain": [
              "myconstraint! (generic function with 1 method)"
            ]
          },
          "metadata": {},
          "output_type": "display_data"
        }
      ],
      "source": [
        "using NLopt\n",
        "function myfunc!(x::Vector, grad::Vector)\n",
        "    if length(grad) > 0\n",
        "        grad[1] = 0\n",
        "        grad[2] = 0.5/sqrt(x[2])\n",
        "    end\n",
        "\n",
        "    sqrt(x[2])\n",
        "end\n",
        "\n",
        "function myconstraint!(x::Vector, grad::Vector, a, b)\n",
        "    if length(grad) > 0\n",
        "        grad[1] = 3a * (a*x[1] + b)^2\n",
        "        grad[2] = -1\n",
        "    end\n",
        "    (a*x[1] + b)^3 - x[2]\n",
        "end"
      ]
    },
    {
      "cell_type": "markdown",
      "metadata": {},
      "source": [
        "## Example Code MMD Algorithm"
      ]
    },
    {
      "cell_type": "code",
      "execution_count": 15,
      "metadata": {},
      "outputs": [
        {
          "name": "stdout",
          "output_type": "stream",
          "text": [
            "got 0.5443310582637382 at [0.333333330123988, 0.2962963009905211] after count iterations (returned FTOL_REACHED)\n"
          ]
        }
      ],
      "source": [
        "opt = Opt(:LD_MMA, 2)\n",
        "lower_bounds!(opt, [-Inf, 0.])\n",
        "ftol_rel!(opt,1e-6)\n",
        "\n",
        "min_objective!(opt, myfunc!)\n",
        "inequality_constraint!(opt, (x,g) -> myconstraint!(x,g,2,0))\n",
        "inequality_constraint!(opt, (x,g) -> myconstraint!(x,g,-1,1))\n",
        "\n",
        "(minf,minx,ret) = NLopt.optimize(opt, [3., 1.])\n",
        "println(\"got $minf at $minx after $count iterations (returned $ret)\")"
      ]
    },
    {
      "cell_type": "markdown",
      "metadata": {},
      "source": [
        "## Example Code SLSQP Algorithm"
      ]
    },
    {
      "cell_type": "code",
      "execution_count": 16,
      "metadata": {},
      "outputs": [
        {
          "name": "stdout",
          "output_type": "stream",
          "text": [
            "got 0.5443310809303847 at [0.3333333211928888, 0.296296325666841] after count iterations (returned FTOL_REACHED)\n"
          ]
        }
      ],
      "source": [
        "opt = Opt(:LD_SLSQP, 2)\n",
        "lower_bounds!(opt, [-Inf, 0.])\n",
        "ftol_rel!(opt,1e-4)\n",
        "\n",
        "min_objective!(opt, myfunc!)\n",
        "inequality_constraint!(opt, (x,g) -> myconstraint!(x,g,2,0))\n",
        "inequality_constraint!(opt, (x,g) -> myconstraint!(x,g,-1,1))\n",
        "\n",
        "(minf,minx,ret) = NLopt.optimize(opt, [3., 1.])\n",
        "println(\"got $minf at $minx after $count iterations (returned $ret)\")"
      ]
    },
    {
      "cell_type": "markdown",
      "metadata": {},
      "source": [
        "# Application: Optimal Taxation\n",
        "## Mirelees Meets Ramsey (Heathcote et. al 2016)\n",
        "* Economy is populated by a continuum of agents\n",
        "    * Preferences $U(c,h) = \\frac{c^{1-\\sigma}}{1-\\sigma}-\\frac{h^{1+\\gamma}}{1+\\gamma}$\n",
        "    * Output produced linearly with productivity $\\exp(\\alpha)$\n",
        "* Log productivity $\\alpha$\n",
        "    * $\\alpha\\sim\\mathcal N(-\\sigma_\\alpha^2/2,\\sigma_\\alpha)$\n",
        "* Government chooses tax policy $T(y) = \\tau y - T$ \n",
        "\n",
        "## Agent's Problem\n",
        "* Agents are indexed by their productivity type $\\alpha$\n",
        "* Solve the following problem\n",
        "$$\n",
        "    \\max_{c,h\\geq 0} \\frac{c^{1-\\sigma}}{1-\\sigma}-\\frac{h^{1+\\gamma}}{1+\\gamma}\n",
        "$$\n",
        "subject to\n",
        "$$\n",
        "    c = (1-\\tau)\\exp(\\alpha)h + T\n",
        "$$\n",
        "* Optimal policies $c(\\alpha;\\tau,T)$ and $h(\\alpha;\\tau,T)$ give utility $U(\\alpha;\\tau,T)$\n",
        "\n",
        "## Government's Problem\n",
        "* Government has utilitarian preferences:\n",
        "$$\n",
        "    \\int U(\\alpha;\\tau,T)dF(\\alpha)\n",
        "$$\n",
        "* Chooses $\\tau$ and $T$ to maximize this objective subject to the governments budget constraint\n",
        "$$\n",
        "    T = \\int \\tau \\exp(\\alpha)h(\\alpha;\\tau,T)dF(\\alpha)\n",
        "$$\n",
        "\n",
        "## Computing Consumption and Hours\n",
        "* Household first order condition\n",
        "$$\n",
        "    h^\\gamma = c^{-\\sigma} (1-\\tau)\\exp(\\alpha)\n",
        "$$\n",
        "* Combine with budget constraint:\n",
        "$$\n",
        "    h^\\gamma = \\left((1-\\tau)\\exp(\\alpha)h+T\\right)^{-\\sigma}(1-\\tau)\\exp(\\alpha)\n",
        "$$\n",
        "* To compute $h(\\alpha;\\tau,T)$, find root of \n",
        "$$\n",
        "     \\left((1-\\tau)\\exp(\\alpha)h+T\\right)^{-\\sigma}(1-\\tau)\\exp(\\alpha) - h^\\gamma\n",
        "$$\n",
        "\n",
        "\n",
        "## Implementation\n",
        "\n",
        "* A lot of layers to this problem\n",
        "\n",
        "* Start by building up basic components: household decisions"
      ]
    },
    {
      "cell_type": "code",
      "execution_count": 17,
      "metadata": {},
      "outputs": [
        {
          "data": {
            "text/plain": [
              "household_labor"
            ]
          },
          "metadata": {},
          "output_type": "display_data"
        }
      ],
      "source": [
        "using Roots\n",
        "\"\"\"\n",
        "    household_labor(α,τ,T,σ,γ)\n",
        "\n",
        "Solves for HH labor choice given policy and preferences\n",
        "\"\"\"\n",
        "function household_labor(α,τ,T,σ,γ)\n",
        "    Ŵ = (1-τ)*exp(α) #after tax wages\n",
        "    res(h) = (Ŵ*h+T)^(-σ)*Ŵ-h^γ\n",
        "    min_h = max(0,(.0000001-T)/(1-τ)*exp(α)) #ensures c>.0001\n",
        "    h = fzero(res,min_h,20000.) #find hours that solve HH problem\n",
        "    c = Ŵ*h+T\n",
        "    U = c^(1-σ)/(1-σ)-h^(1+γ)/(1+γ)\n",
        "    return c,h,U\n",
        "end"
      ]
    },
    {
      "cell_type": "markdown",
      "metadata": {},
      "source": [
        "## Implementation Cont.\n",
        "\n",
        "* Next we can aggregate to check Govt. Budget Constraint"
      ]
    },
    {
      "cell_type": "code",
      "execution_count": 18,
      "metadata": {},
      "outputs": [
        {
          "data": {
            "text/plain": [
              "budget_residual"
            ]
          },
          "metadata": {},
          "output_type": "display_data"
        }
      ],
      "source": [
        "\"\"\"\n",
        "    budget_residual(τ,T,αvec,σ,γ)\n",
        "\n",
        "Computes the residual of the HH budget constraint given policy (τ,T).\n",
        "αvec contains the vector of α values for each agent\n",
        "\"\"\"\n",
        "function budget_residual(τ,T,αvec,σ,γ)\n",
        "    tax_income = 0.\n",
        "    N = length(αvec)\n",
        "    for i in 1:N\n",
        "        c,h,U = household_labor(αvec[i],τ,T,σ,γ)\n",
        "        tax_income += τ*h*exp(αvec[i])\n",
        "    end\n",
        "    return tax_income/N - T\n",
        "end"
      ]
    },
    {
      "cell_type": "markdown",
      "metadata": {},
      "source": [
        "## Implementation Cont.\n",
        "* Finally we can compute welfare for a given choice of tax rate"
      ]
    },
    {
      "cell_type": "code",
      "execution_count": 19,
      "metadata": {},
      "outputs": [
        {
          "data": {
            "text/plain": [
              "government_welfare"
            ]
          },
          "metadata": {},
          "output_type": "display_data"
        }
      ],
      "source": [
        "\"\"\"\n",
        "    government_welfare(τ,αvec,σ,γ)\n",
        "\n",
        "Solves for government welfare given tax rate τ\n",
        "\"\"\"\n",
        "function government_welfare(τ,αvec,σ,γ)\n",
        "    f(T) = budget_residual(τ,T,αvec,σ,γ)\n",
        "    T =  fzero(f,0.) #Find transfers that balance budget\n",
        "    \n",
        "    welfare = 0.\n",
        "    N = length(αvec)\n",
        "    for i in 1:N\n",
        "        #compute HH welfare given tax rate\n",
        "        c,h,U = household_labor(αvec[i],τ,T,σ,γ)\n",
        "        welfare += U #Aggregate welfare\n",
        "    end\n",
        "    return welfare/N\n",
        "end"
      ]
    },
    {
      "cell_type": "markdown",
      "metadata": {},
      "source": [
        "## Calibration"
      ]
    },
    {
      "cell_type": "code",
      "execution_count": 20,
      "metadata": {},
      "outputs": [],
      "source": [
        "using Distributions\n",
        "σ = 2. #Standard\n",
        "γ = 2. #Targets Frisch elasticity of 0.5\n",
        "σ_α = sqrt(0.147) #Taken from HSV\n",
        "N = 1000\n",
        "alphaDist = Normal(-σ_α^2/2,σ_α)\n",
        "αvec = rand(alphaDist,N);"
      ]
    },
    {
      "cell_type": "markdown",
      "metadata": {},
      "source": [
        "## Welfare Function"
      ]
    },
    {
      "cell_type": "code",
      "execution_count": 21,
      "metadata": {},
      "outputs": [
        {
          "data": {
            "image/png": "[encoded data removed]",
            "image/svg+xml": "<?xml version=\"1.0\" encoding=\"utf-8\"?>\n<svg xmlns=\"http://www.w3.org/2000/svg\" xmlns:xlink=\"http://www.w3.org/1999/xlink\" width=\"600\" height=\"400\" viewBox=\"0 0 2400 1600\">\n<defs>\n  <clipPath id=\"clip920\">\n    <rect x=\"0\" y=\"0\" width=\"2400\" height=\"1600\"/>\n  </clipPath>\n</defs>\n<path clip-path=\"url(#clip920)\" d=\"\nM0 1600 L2400 1600 L2400 0 L0 0  Z\n  \" fill=\"#ffffff\" fill-rule=\"evenodd\" fill-opacity=\"1\"/>\n<defs>\n  <clipPath id=\"clip921\">\n    <rect x=\"480\" y=\"0\" width=\"1681\" height=\"1600\"/>\n  </clipPath>\n</defs>\n<path clip-path=\"url(#clip920)\" d=\"\nM411.598 1281.45 L2211.02 1281.45 L2211.02 188.976 L411.598 188.976  Z\n  \" fill=\"#ffffff\" fill-rule=\"evenodd\" fill-opacity=\"1\"/>\n<defs>\n  <clipPath id=\"clip922\">\n    <rect x=\"411\" y=\"188\" width=\"1800\" height=\"1093\"/>\n  </clipPath>\n</defs>\n<polyline clip-path=\"url(#clip922)\" style=\"stroke:#000000; stroke-width:2; stroke-opacity:0.1; fill:none\" points=\"\n  462.525,1281.45 462.525,188.976 \n  \"/>\n<polyline clip-path=\"url(#clip922)\" style=\"stroke:#000000; stroke-width:2; stroke-opacity:0.1; fill:none\" points=\"\n  886.918,1281.45 886.918,188.976 \n  \"/>\n<polyline clip-path=\"url(#clip922)\" style=\"stroke:#000000; stroke-width:2; stroke-opacity:0.1; fill:none\" points=\"\n  1311.31,1281.45 1311.31,188.976 \n  \"/>\n<polyline clip-path=\"url(#clip922)\" style=\"stroke:#000000; stroke-width:2; stroke-opacity:0.1; fill:none\" points=\"\n  1735.7,1281.45 1735.7,188.976 \n  \"/>\n<polyline clip-path=\"url(#clip922)\" style=\"stroke:#000000; stroke-width:2; stroke-opacity:0.1; fill:none\" points=\"\n  2160.1,1281.45 2160.1,188.976 \n  \"/>\n<polyline clip-path=\"url(#clip920)\" style=\"stroke:#000000; stroke-width:4; stroke-opacity:1; fill:none\" points=\"\n  411.598,1281.45 2211.02,1281.45 \n  \"/>\n<polyline clip-path=\"url(#clip920)\" style=\"stroke:#000000; stroke-width:4; stroke-opacity:1; fill:none\" points=\"\n  462.525,1281.45 462.525,1268.34 \n  \"/>\n<polyline clip-path=\"url(#clip920)\" style=\"stroke:#000000; stroke-width:4; stroke-opacity:1; fill:none\" points=\"\n  886.918,1281.45 886.918,1268.34 \n  \"/>\n<polyline clip-path=\"url(#clip920)\" style=\"stroke:#000000; stroke-width:4; stroke-opacity:1; fill:none\" points=\"\n  1311.31,1281.45 1311.31,1268.34 \n  \"/>\n<polyline clip-path=\"url(#clip920)\" style=\"stroke:#000000; stroke-width:4; stroke-opacity:1; fill:none\" points=\"\n  1735.7,1281.45 1735.7,1268.34 \n  \"/>\n<polyline clip-path=\"url(#clip920)\" style=\"stroke:#000000; stroke-width:4; stroke-opacity:1; fill:none\" points=\"\n  2160.1,1281.45 2160.1,1268.34 \n  \"/>\n<path clip-path=\"url(#clip920)\" d=\"M 0 0 M444.042 1310.64 Q440.431 1310.64 438.602 1314.2 Q436.796 1317.74 436.796 1324.87 Q436.796 1331.98 438.602 1335.55 Q440.431 1339.09 444.042 1339.09 Q447.676 1339.09 449.482 1335.55 Q451.31 1331.98 451.31 1324.87 Q451.31 1317.74 449.482 1314.2 Q447.676 1310.64 444.042 1310.64 M444.042 1306.93 Q449.852 1306.93 452.907 1311.54 Q455.986 1316.12 455.986 1324.87 Q455.986 1333.6 452.907 1338.21 Q449.852 1342.79 444.042 1342.79 Q438.232 1342.79 435.153 1338.21 Q432.097 1333.6 432.097 1324.87 Q432.097 1316.12 435.153 1311.54 Q438.232 1306.93 444.042 1306.93 Z\" fill=\"#000000\" fill-rule=\"evenodd\" fill-opacity=\"1\" /><path clip-path=\"url(#clip920)\" d=\"M 0 0 M461.056 1336.24 L465.94 1336.24 L465.94 1342.12 L461.056 1342.12 L461.056 1336.24 Z\" fill=\"#000000\" fill-rule=\"evenodd\" fill-opacity=\"1\" /><path clip-path=\"url(#clip920)\" d=\"M 0 0 M481.009 1310.64 Q477.398 1310.64 475.569 1314.2 Q473.764 1317.74 473.764 1324.87 Q473.764 1331.98 475.569 1335.55 Q477.398 1339.09 481.009 1339.09 Q484.643 1339.09 486.449 1335.55 Q488.278 1331.98 488.278 1324.87 Q488.278 1317.74 486.449 1314.2 Q484.643 1310.64 481.009 1310.64 M481.009 1306.93 Q486.819 1306.93 489.875 1311.54 Q492.953 1316.12 492.953 1324.87 Q492.953 1333.6 489.875 1338.21 Q486.819 1342.79 481.009 1342.79 Q475.199 1342.79 472.12 1338.21 Q469.065 1333.6 469.065 1324.87 Q469.065 1316.12 472.12 1311.54 Q475.199 1306.93 481.009 1306.93 Z\" fill=\"#000000\" fill-rule=\"evenodd\" fill-opacity=\"1\" /><path clip-path=\"url(#clip920)\" d=\"M 0 0 M869.233 1310.64 Q865.622 1310.64 863.793 1314.2 Q861.988 1317.74 861.988 1324.87 Q861.988 1331.98 863.793 1335.55 Q865.622 1339.09 869.233 1339.09 Q872.867 1339.09 874.673 1335.55 Q876.502 1331.98 876.502 1324.87 Q876.502 1317.74 874.673 1314.2 Q872.867 1310.64 869.233 1310.64 M869.233 1306.93 Q875.043 1306.93 878.099 1311.54 Q881.177 1316.12 881.177 1324.87 Q881.177 1333.6 878.099 1338.21 Q875.043 1342.79 869.233 1342.79 Q863.423 1342.79 860.344 1338.21 Q857.289 1333.6 857.289 1324.87 Q857.289 1316.12 860.344 1311.54 Q863.423 1306.93 869.233 1306.93 Z\" fill=\"#000000\" fill-rule=\"evenodd\" fill-opacity=\"1\" /><path clip-path=\"url(#clip920)\" d=\"M 0 0 M886.247 1336.24 L891.131 1336.24 L891.131 1342.12 L886.247 1342.12 L886.247 1336.24 Z\" fill=\"#000000\" fill-rule=\"evenodd\" fill-opacity=\"1\" /><path clip-path=\"url(#clip920)\" d=\"M 0 0 M900.228 1338.18 L916.548 1338.18 L916.548 1342.12 L894.603 1342.12 L894.603 1338.18 Q897.265 1335.43 901.849 1330.8 Q906.455 1326.15 907.636 1324.8 Q909.881 1322.28 910.761 1320.55 Q911.663 1318.79 911.663 1317.1 Q911.663 1314.34 909.719 1312.61 Q907.798 1310.87 904.696 1310.87 Q902.497 1310.87 900.043 1311.63 Q897.613 1312.4 894.835 1313.95 L894.835 1309.23 Q897.659 1308.09 900.113 1307.51 Q902.566 1306.93 904.603 1306.93 Q909.974 1306.93 913.168 1309.62 Q916.362 1312.3 916.362 1316.8 Q916.362 1318.93 915.552 1320.85 Q914.765 1322.74 912.659 1325.34 Q912.08 1326.01 908.978 1329.23 Q905.876 1332.42 900.228 1338.18 Z\" fill=\"#000000\" fill-rule=\"evenodd\" fill-opacity=\"1\" /><path clip-path=\"url(#clip920)\" d=\"M 0 0 M1292.58 1310.64 Q1288.97 1310.64 1287.14 1314.2 Q1285.34 1317.74 1285.34 1324.87 Q1285.34 1331.98 1287.14 1335.55 Q1288.97 1339.09 1292.58 1339.09 Q1296.22 1339.09 1298.02 1335.55 Q1299.85 1331.98 1299.85 1324.87 Q1299.85 1317.74 1298.02 1314.2 Q1296.22 1310.64 1292.58 1310.64 M1292.58 1306.93 Q1298.39 1306.93 1301.45 1311.54 Q1304.53 1316.12 1304.53 1324.87 Q1304.53 1333.6 1301.45 1338.21 Q1298.39 1342.79 1292.58 1342.79 Q1286.77 1342.79 1283.7 1338.21 Q1280.64 1333.6 1280.64 1324.87 Q1280.64 1316.12 1283.7 1311.54 Q1286.77 1306.93 1292.58 1306.93 Z\" fill=\"#000000\" fill-rule=\"evenodd\" fill-opacity=\"1\" /><path clip-path=\"url(#clip920)\" d=\"M 0 0 M1309.6 1336.24 L1314.48 1336.24 L1314.48 1342.12 L1309.6 1342.12 L1309.6 1336.24 Z\" fill=\"#000000\" fill-rule=\"evenodd\" fill-opacity=\"1\" /><path clip-path=\"url(#clip920)\" d=\"M 0 0 M1332.4 1311.63 L1320.59 1330.08 L1332.4 1330.08 L1332.4 1311.63 M1331.17 1307.56 L1337.05 1307.56 L1337.05 1330.08 L1341.98 1330.08 L1341.98 1333.97 L1337.05 1333.97 L1337.05 1342.12 L1332.4 1342.12 L1332.4 1333.97 L1316.8 1333.97 L1316.8 1329.46 L1331.17 1307.56 Z\" fill=\"#000000\" fill-rule=\"evenodd\" fill-opacity=\"1\" /><path clip-path=\"url(#clip920)\" d=\"M 0 0 M1717.14 1310.64 Q1713.53 1310.64 1711.7 1314.2 Q1709.89 1317.74 1709.89 1324.87 Q1709.89 1331.98 1711.7 1335.55 Q1713.53 1339.09 1717.14 1339.09 Q1720.77 1339.09 1722.58 1335.55 Q1724.41 1331.98 1724.41 1324.87 Q1724.41 1317.74 1722.58 1314.2 Q1720.77 1310.64 1717.14 1310.64 M1717.14 1306.93 Q1722.95 1306.93 1726 1311.54 Q1729.08 1316.12 1729.08 1324.87 Q1729.08 1333.6 1726 1338.21 Q1722.95 1342.79 1717.14 1342.79 Q1711.33 1342.79 1708.25 1338.21 Q1705.19 1333.6 1705.19 1324.87 Q1705.19 1316.12 1708.25 1311.54 Q1711.33 1306.93 1717.14 1306.93 Z\" fill=\"#000000\" fill-rule=\"evenodd\" fill-opacity=\"1\" /><path clip-path=\"url(#clip920)\" d=\"M 0 0 M1734.15 1336.24 L1739.04 1336.24 L1739.04 1342.12 L1734.15 1342.12 L1734.15 1336.24 Z\" fill=\"#000000\" fill-rule=\"evenodd\" fill-opacity=\"1\" /><path clip-path=\"url(#clip920)\" d=\"M 0 0 M1754.69 1322.98 Q1751.54 1322.98 1749.69 1325.13 Q1747.86 1327.28 1747.86 1331.03 Q1747.86 1334.76 1749.69 1336.93 Q1751.54 1339.09 1754.69 1339.09 Q1757.83 1339.09 1759.66 1336.93 Q1761.51 1334.76 1761.51 1331.03 Q1761.51 1327.28 1759.66 1325.13 Q1757.83 1322.98 1754.69 1322.98 M1763.97 1308.32 L1763.97 1312.58 Q1762.21 1311.75 1760.4 1311.31 Q1758.62 1310.87 1756.86 1310.87 Q1752.23 1310.87 1749.78 1313.99 Q1747.35 1317.12 1747 1323.44 Q1748.37 1321.43 1750.43 1320.36 Q1752.49 1319.27 1754.96 1319.27 Q1760.17 1319.27 1763.18 1322.44 Q1766.21 1325.59 1766.21 1331.03 Q1766.21 1336.36 1763.06 1339.57 Q1759.92 1342.79 1754.69 1342.79 Q1748.69 1342.79 1745.52 1338.21 Q1742.35 1333.6 1742.35 1324.87 Q1742.35 1316.68 1746.24 1311.82 Q1750.12 1306.93 1756.68 1306.93 Q1758.44 1306.93 1760.22 1307.28 Q1762.02 1307.63 1763.97 1308.32 Z\" fill=\"#000000\" fill-rule=\"evenodd\" fill-opacity=\"1\" /><path clip-path=\"url(#clip920)\" d=\"M 0 0 M2141.66 1310.64 Q2138.05 1310.64 2136.22 1314.2 Q2134.41 1317.74 2134.41 1324.87 Q2134.41 1331.98 2136.22 1335.55 Q2138.05 1339.09 2141.66 1339.09 Q2145.29 1339.09 2147.1 1335.55 Q2148.93 1331.98 2148.93 1324.87 Q2148.93 1317.74 2147.1 1314.2 Q2145.29 1310.64 2141.66 1310.64 M2141.66 1306.93 Q2147.47 1306.93 2150.52 1311.54 Q2153.6 1316.12 2153.6 1324.87 Q2153.6 1333.6 2150.52 1338.21 Q2147.47 1342.79 2141.66 1342.79 Q2135.85 1342.79 2132.77 1338.21 Q2129.71 1333.6 2129.71 1324.87 Q2129.71 1316.12 2132.77 1311.54 Q2135.85 1306.93 2141.66 1306.93 Z\" fill=\"#000000\" fill-rule=\"evenodd\" fill-opacity=\"1\" /><path clip-path=\"url(#clip920)\" d=\"M 0 0 M2158.67 1336.24 L2163.56 1336.24 L2163.56 1342.12 L2158.67 1342.12 L2158.67 1336.24 Z\" fill=\"#000000\" fill-rule=\"evenodd\" fill-opacity=\"1\" /><path clip-path=\"url(#clip920)\" d=\"M 0 0 M2178.63 1325.71 Q2175.29 1325.71 2173.37 1327.49 Q2171.47 1329.27 2171.47 1332.4 Q2171.47 1335.52 2173.37 1337.3 Q2175.29 1339.09 2178.63 1339.09 Q2181.96 1339.09 2183.88 1337.3 Q2185.8 1335.5 2185.8 1332.4 Q2185.8 1329.27 2183.88 1327.49 Q2181.98 1325.71 2178.63 1325.71 M2173.95 1323.72 Q2170.94 1322.98 2169.25 1320.92 Q2167.58 1318.86 2167.58 1315.89 Q2167.58 1311.75 2170.52 1309.34 Q2173.49 1306.93 2178.63 1306.93 Q2183.79 1306.93 2186.73 1309.34 Q2189.67 1311.75 2189.67 1315.89 Q2189.67 1318.86 2187.98 1320.92 Q2186.31 1322.98 2183.33 1323.72 Q2186.71 1324.5 2188.58 1326.8 Q2190.48 1329.09 2190.48 1332.4 Q2190.48 1337.42 2187.4 1340.11 Q2184.34 1342.79 2178.63 1342.79 Q2172.91 1342.79 2169.83 1340.11 Q2166.77 1337.42 2166.77 1332.4 Q2166.77 1329.09 2168.67 1326.8 Q2170.57 1324.5 2173.95 1323.72 M2172.24 1316.33 Q2172.24 1319.02 2173.9 1320.52 Q2175.59 1322.03 2178.63 1322.03 Q2181.64 1322.03 2183.33 1320.52 Q2185.04 1319.02 2185.04 1316.33 Q2185.04 1313.65 2183.33 1312.14 Q2181.64 1310.64 2178.63 1310.64 Q2175.59 1310.64 2173.9 1312.14 Q2172.24 1313.65 2172.24 1316.33 Z\" fill=\"#000000\" fill-rule=\"evenodd\" fill-opacity=\"1\" /><path clip-path=\"url(#clip920)\" d=\"M 0 0 M1182.69 1378.79 L1222.89 1378.79 L1222.89 1384.2 L1206.02 1384.2 L1206.02 1426.31 L1199.56 1426.31 L1199.56 1384.2 L1182.69 1384.2 L1182.69 1378.79 Z\" fill=\"#000000\" fill-rule=\"evenodd\" fill-opacity=\"1\" /><path clip-path=\"url(#clip920)\" d=\"M 0 0 M1234.45 1408.39 Q1227.35 1408.39 1224.61 1410.02 Q1221.87 1411.64 1221.87 1415.55 Q1221.87 1418.67 1223.91 1420.52 Q1225.98 1422.33 1229.51 1422.33 Q1234.38 1422.33 1237.31 1418.9 Q1240.27 1415.43 1240.27 1409.7 L1240.27 1408.39 L1234.45 1408.39 M1246.13 1405.97 L1246.13 1426.31 L1240.27 1426.31 L1240.27 1420.9 Q1238.26 1424.15 1235.27 1425.71 Q1232.28 1427.23 1227.95 1427.23 Q1222.48 1427.23 1219.23 1424.18 Q1216.02 1421.09 1216.02 1415.94 Q1216.02 1409.92 1220.03 1406.86 Q1224.07 1403.81 1232.06 1403.81 L1240.27 1403.81 L1240.27 1403.24 Q1240.27 1399.19 1237.6 1397 Q1234.95 1394.77 1230.15 1394.77 Q1227.09 1394.77 1224.2 1395.5 Q1221.3 1396.23 1218.63 1397.7 L1218.63 1392.29 Q1221.84 1391.05 1224.86 1390.44 Q1227.89 1389.8 1230.75 1389.8 Q1238.49 1389.8 1242.31 1393.81 Q1246.13 1397.83 1246.13 1405.97 Z\" fill=\"#000000\" fill-rule=\"evenodd\" fill-opacity=\"1\" /><path clip-path=\"url(#clip920)\" d=\"M 0 0 M1281.9 1390.66 L1269.01 1408.01 L1282.57 1426.31 L1275.66 1426.31 L1265.29 1412.31 L1254.91 1426.31 L1248 1426.31 L1261.85 1407.66 L1249.18 1390.66 L1256.09 1390.66 L1265.54 1403.36 L1274.99 1390.66 L1281.9 1390.66 Z\" fill=\"#000000\" fill-rule=\"evenodd\" fill-opacity=\"1\" /><path clip-path=\"url(#clip920)\" d=\"M 0 0 M1332.22 1404.03 Q1334.29 1404.73 1336.23 1407.02 Q1338.21 1409.32 1340.18 1413.33 L1346.7 1426.31 L1339.8 1426.31 L1333.72 1414.12 Q1331.36 1409.35 1329.13 1407.79 Q1326.94 1406.23 1323.12 1406.23 L1316.12 1406.23 L1316.12 1426.31 L1309.69 1426.31 L1309.69 1378.79 L1324.2 1378.79 Q1332.35 1378.79 1336.36 1382.2 Q1340.37 1385.6 1340.37 1392.48 Q1340.37 1396.97 1338.27 1399.93 Q1336.2 1402.89 1332.22 1404.03 M1316.12 1384.08 L1316.12 1400.94 L1324.2 1400.94 Q1328.85 1400.94 1331.2 1398.81 Q1333.59 1396.65 1333.59 1392.48 Q1333.59 1388.31 1331.2 1386.21 Q1328.85 1384.08 1324.2 1384.08 L1316.12 1384.08 Z\" fill=\"#000000\" fill-rule=\"evenodd\" fill-opacity=\"1\" /><path clip-path=\"url(#clip920)\" d=\"M 0 0 M1367.62 1408.39 Q1360.52 1408.39 1357.78 1410.02 Q1355.04 1411.64 1355.04 1415.55 Q1355.04 1418.67 1357.08 1420.52 Q1359.15 1422.33 1362.68 1422.33 Q1367.55 1422.33 1370.48 1418.9 Q1373.44 1415.43 1373.44 1409.7 L1373.44 1408.39 L1367.62 1408.39 M1379.3 1405.97 L1379.3 1426.31 L1373.44 1426.31 L1373.44 1420.9 Q1371.44 1424.15 1368.44 1425.71 Q1365.45 1427.23 1361.12 1427.23 Q1355.65 1427.23 1352.4 1424.18 Q1349.19 1421.09 1349.19 1415.94 Q1349.19 1409.92 1353.2 1406.86 Q1357.24 1403.81 1365.23 1403.81 L1373.44 1403.81 L1373.44 1403.24 Q1373.44 1399.19 1370.77 1397 Q1368.12 1394.77 1363.32 1394.77 Q1360.26 1394.77 1357.37 1395.5 Q1354.47 1396.23 1351.8 1397.7 L1351.8 1392.29 Q1355.01 1391.05 1358.04 1390.44 Q1361.06 1389.8 1363.92 1389.8 Q1371.66 1389.8 1375.48 1393.81 Q1379.3 1397.83 1379.3 1405.97 Z\" fill=\"#000000\" fill-rule=\"evenodd\" fill-opacity=\"1\" /><path clip-path=\"url(#clip920)\" d=\"M 0 0 M1391.23 1380.54 L1391.23 1390.66 L1403.3 1390.66 L1403.3 1395.22 L1391.23 1395.22 L1391.23 1414.57 Q1391.23 1418.93 1392.41 1420.17 Q1393.62 1421.41 1397.28 1421.41 L1403.3 1421.41 L1403.3 1426.31 L1397.28 1426.31 Q1390.5 1426.31 1387.92 1423.8 Q1385.34 1421.25 1385.34 1414.57 L1385.34 1395.22 L1381.05 1395.22 L1381.05 1390.66 L1385.34 1390.66 L1385.34 1380.54 L1391.23 1380.54 Z\" fill=\"#000000\" fill-rule=\"evenodd\" fill-opacity=\"1\" /><path clip-path=\"url(#clip920)\" d=\"M 0 0 M1439.93 1407.02 L1439.93 1409.89 L1413 1409.89 Q1413.39 1415.94 1416.63 1419.12 Q1419.91 1422.27 1425.73 1422.27 Q1429.11 1422.27 1432.26 1421.44 Q1435.44 1420.61 1438.56 1418.96 L1438.56 1424.5 Q1435.41 1425.83 1432.1 1426.53 Q1428.79 1427.23 1425.38 1427.23 Q1416.85 1427.23 1411.86 1422.27 Q1406.89 1417.3 1406.89 1408.84 Q1406.89 1400.08 1411.6 1394.96 Q1416.35 1389.8 1424.37 1389.8 Q1431.56 1389.8 1435.73 1394.45 Q1439.93 1399.07 1439.93 1407.02 M1434.07 1405.3 Q1434.01 1400.5 1431.37 1397.63 Q1428.76 1394.77 1424.43 1394.77 Q1419.53 1394.77 1416.57 1397.54 Q1413.64 1400.31 1413.19 1405.34 L1434.07 1405.3 Z\" fill=\"#000000\" fill-rule=\"evenodd\" fill-opacity=\"1\" /><polyline clip-path=\"url(#clip922)\" style=\"stroke:#000000; stroke-width:2; stroke-opacity:0.1; fill:none\" points=\"\n  411.598,1200.09 2211.02,1200.09 \n  \"/>\n<polyline clip-path=\"url(#clip922)\" style=\"stroke:#000000; stroke-width:2; stroke-opacity:0.1; fill:none\" points=\"\n  411.598,893.714 2211.02,893.714 \n  \"/>\n<polyline clip-path=\"url(#clip922)\" style=\"stroke:#000000; stroke-width:2; stroke-opacity:0.1; fill:none\" points=\"\n  411.598,587.337 2211.02,587.337 \n  \"/>\n<polyline clip-path=\"url(#clip922)\" style=\"stroke:#000000; stroke-width:2; stroke-opacity:0.1; fill:none\" points=\"\n  411.598,280.961 2211.02,280.961 \n  \"/>\n<polyline clip-path=\"url(#clip920)\" style=\"stroke:#000000; stroke-width:4; stroke-opacity:1; fill:none\" points=\"\n  411.598,1281.45 411.598,188.976 \n  \"/>\n<polyline clip-path=\"url(#clip920)\" style=\"stroke:#000000; stroke-width:4; stroke-opacity:1; fill:none\" points=\"\n  411.598,1200.09 433.191,1200.09 \n  \"/>\n<polyline clip-path=\"url(#clip920)\" style=\"stroke:#000000; stroke-width:4; stroke-opacity:1; fill:none\" points=\"\n  411.598,893.714 433.191,893.714 \n  \"/>\n<polyline clip-path=\"url(#clip920)\" style=\"stroke:#000000; stroke-width:4; stroke-opacity:1; fill:none\" points=\"\n  411.598,587.337 433.191,587.337 \n  \"/>\n<polyline clip-path=\"url(#clip920)\" style=\"stroke:#000000; stroke-width:4; stroke-opacity:1; fill:none\" points=\"\n  411.598,280.961 433.191,280.961 \n  \"/>\n<path clip-path=\"url(#clip920)\" d=\"M 0 0 M255.992 1200.54 L285.668 1200.54 L285.668 1204.48 L255.992 1204.48 L255.992 1200.54 Z\" fill=\"#000000\" fill-rule=\"evenodd\" fill-opacity=\"1\" /><path clip-path=\"url(#clip920)\" d=\"M 0 0 M291.548 1213.44 L299.187 1213.44 L299.187 1187.07 L290.877 1188.74 L290.877 1184.48 L299.14 1182.81 L303.816 1182.81 L303.816 1213.44 L311.455 1213.44 L311.455 1217.37 L291.548 1217.37 L291.548 1213.44 Z\" fill=\"#000000\" fill-rule=\"evenodd\" fill-opacity=\"1\" /><path clip-path=\"url(#clip920)\" d=\"M 0 0 M316.525 1211.49 L321.409 1211.49 L321.409 1217.37 L316.525 1217.37 L316.525 1211.49 Z\" fill=\"#000000\" fill-rule=\"evenodd\" fill-opacity=\"1\" /><path clip-path=\"url(#clip920)\" d=\"M 0 0 M337.057 1198.23 Q333.909 1198.23 332.057 1200.38 Q330.228 1202.53 330.228 1206.28 Q330.228 1210.01 332.057 1212.19 Q333.909 1214.34 337.057 1214.34 Q340.205 1214.34 342.034 1212.19 Q343.885 1210.01 343.885 1206.28 Q343.885 1202.53 342.034 1200.38 Q340.205 1198.23 337.057 1198.23 M346.339 1183.57 L346.339 1187.83 Q344.58 1187 342.774 1186.56 Q340.992 1186.12 339.233 1186.12 Q334.603 1186.12 332.149 1189.25 Q329.719 1192.37 329.372 1198.69 Q330.737 1196.68 332.798 1195.61 Q334.858 1194.52 337.335 1194.52 Q342.543 1194.52 345.552 1197.7 Q348.585 1200.84 348.585 1206.28 Q348.585 1211.61 345.436 1214.82 Q342.288 1218.04 337.057 1218.04 Q331.061 1218.04 327.89 1213.46 Q324.719 1208.85 324.719 1200.13 Q324.719 1191.93 328.608 1187.07 Q332.497 1182.19 339.048 1182.19 Q340.807 1182.19 342.589 1182.53 Q344.395 1182.88 346.339 1183.57 Z\" fill=\"#000000\" fill-rule=\"evenodd\" fill-opacity=\"1\" /><path clip-path=\"url(#clip920)\" d=\"M 0 0 M363.654 1185.89 Q360.043 1185.89 358.214 1189.45 Q356.409 1193 356.409 1200.13 Q356.409 1207.23 358.214 1210.8 Q360.043 1214.34 363.654 1214.34 Q367.288 1214.34 369.094 1210.8 Q370.922 1207.23 370.922 1200.13 Q370.922 1193 369.094 1189.45 Q367.288 1185.89 363.654 1185.89 M363.654 1182.19 Q369.464 1182.19 372.52 1186.79 Q375.598 1191.38 375.598 1200.13 Q375.598 1208.85 372.52 1213.46 Q369.464 1218.04 363.654 1218.04 Q357.844 1218.04 354.765 1213.46 Q351.71 1208.85 351.71 1200.13 Q351.71 1191.38 354.765 1186.79 Q357.844 1182.19 363.654 1182.19 Z\" fill=\"#000000\" fill-rule=\"evenodd\" fill-opacity=\"1\" /><path clip-path=\"url(#clip920)\" d=\"M 0 0 M258.145 894.166 L287.821 894.166 L287.821 898.101 L258.145 898.101 L258.145 894.166 Z\" fill=\"#000000\" fill-rule=\"evenodd\" fill-opacity=\"1\" /><path clip-path=\"url(#clip920)\" d=\"M 0 0 M293.701 907.059 L301.339 907.059 L301.339 880.693 L293.029 882.36 L293.029 878.101 L301.293 876.434 L305.969 876.434 L305.969 907.059 L313.608 907.059 L313.608 910.994 L293.701 910.994 L293.701 907.059 Z\" fill=\"#000000\" fill-rule=\"evenodd\" fill-opacity=\"1\" /><path clip-path=\"url(#clip920)\" d=\"M 0 0 M318.677 905.115 L323.562 905.115 L323.562 910.994 L318.677 910.994 L318.677 905.115 Z\" fill=\"#000000\" fill-rule=\"evenodd\" fill-opacity=\"1\" /><path clip-path=\"url(#clip920)\" d=\"M 0 0 M328.677 876.434 L347.034 876.434 L347.034 880.369 L332.96 880.369 L332.96 888.842 Q333.978 888.494 334.997 888.332 Q336.015 888.147 337.034 888.147 Q342.821 888.147 346.2 891.318 Q349.58 894.49 349.58 899.906 Q349.58 905.485 346.108 908.587 Q342.635 911.665 336.316 911.665 Q334.14 911.665 331.872 911.295 Q329.626 910.925 327.219 910.184 L327.219 905.485 Q329.302 906.619 331.524 907.175 Q333.747 907.73 336.223 907.73 Q340.228 907.73 342.566 905.624 Q344.904 903.517 344.904 899.906 Q344.904 896.295 342.566 894.189 Q340.228 892.082 336.223 892.082 Q334.349 892.082 332.474 892.499 Q330.622 892.916 328.677 893.795 L328.677 876.434 Z\" fill=\"#000000\" fill-rule=\"evenodd\" fill-opacity=\"1\" /><path clip-path=\"url(#clip920)\" d=\"M 0 0 M354.696 876.434 L373.052 876.434 L373.052 880.369 L358.978 880.369 L358.978 888.842 Q359.997 888.494 361.015 888.332 Q362.034 888.147 363.052 888.147 Q368.839 888.147 372.219 891.318 Q375.598 894.49 375.598 899.906 Q375.598 905.485 372.126 908.587 Q368.654 911.665 362.334 911.665 Q360.159 911.665 357.89 911.295 Q355.645 910.925 353.237 910.184 L353.237 905.485 Q355.321 906.619 357.543 907.175 Q359.765 907.73 362.242 907.73 Q366.246 907.73 368.584 905.624 Q370.922 903.517 370.922 899.906 Q370.922 896.295 368.584 894.189 Q366.246 892.082 362.242 892.082 Q360.367 892.082 358.492 892.499 Q356.64 892.916 354.696 893.795 L354.696 876.434 Z\" fill=\"#000000\" fill-rule=\"evenodd\" fill-opacity=\"1\" /><path clip-path=\"url(#clip920)\" d=\"M 0 0 M257.15 587.789 L286.826 587.789 L286.826 591.724 L257.15 591.724 L257.15 587.789 Z\" fill=\"#000000\" fill-rule=\"evenodd\" fill-opacity=\"1\" /><path clip-path=\"url(#clip920)\" d=\"M 0 0 M292.705 600.682 L300.344 600.682 L300.344 574.317 L292.034 575.983 L292.034 571.724 L300.298 570.057 L304.974 570.057 L304.974 600.682 L312.613 600.682 L312.613 604.617 L292.705 604.617 L292.705 600.682 Z\" fill=\"#000000\" fill-rule=\"evenodd\" fill-opacity=\"1\" /><path clip-path=\"url(#clip920)\" d=\"M 0 0 M317.682 598.738 L322.566 598.738 L322.566 604.617 L317.682 604.617 L317.682 598.738 Z\" fill=\"#000000\" fill-rule=\"evenodd\" fill-opacity=\"1\" /><path clip-path=\"url(#clip920)\" d=\"M 0 0 M327.682 570.057 L346.038 570.057 L346.038 573.993 L331.964 573.993 L331.964 582.465 Q332.983 582.118 334.001 581.956 Q335.02 581.77 336.038 581.77 Q341.825 581.77 345.205 584.942 Q348.585 588.113 348.585 593.53 Q348.585 599.108 345.112 602.21 Q341.64 605.289 335.321 605.289 Q333.145 605.289 330.876 604.918 Q328.631 604.548 326.224 603.807 L326.224 599.108 Q328.307 600.242 330.529 600.798 Q332.751 601.354 335.228 601.354 Q339.233 601.354 341.571 599.247 Q343.909 597.141 343.909 593.53 Q343.909 589.918 341.571 587.812 Q339.233 585.706 335.228 585.706 Q333.353 585.706 331.478 586.122 Q329.626 586.539 327.682 587.418 L327.682 570.057 Z\" fill=\"#000000\" fill-rule=\"evenodd\" fill-opacity=\"1\" /><path clip-path=\"url(#clip920)\" d=\"M 0 0 M363.654 573.136 Q360.043 573.136 358.214 576.701 Q356.409 580.243 356.409 587.372 Q356.409 594.479 358.214 598.043 Q360.043 601.585 363.654 601.585 Q367.288 601.585 369.094 598.043 Q370.922 594.479 370.922 587.372 Q370.922 580.243 369.094 576.701 Q367.288 573.136 363.654 573.136 M363.654 569.432 Q369.464 569.432 372.52 574.039 Q375.598 578.622 375.598 587.372 Q375.598 596.099 372.52 600.705 Q369.464 605.289 363.654 605.289 Q357.844 605.289 354.765 600.705 Q351.71 596.099 351.71 587.372 Q351.71 578.622 354.765 574.039 Q357.844 569.432 363.654 569.432 Z\" fill=\"#000000\" fill-rule=\"evenodd\" fill-opacity=\"1\" /><path clip-path=\"url(#clip920)\" d=\"M 0 0 M256.664 281.412 L286.34 281.412 L286.34 285.347 L256.664 285.347 L256.664 281.412 Z\" fill=\"#000000\" fill-rule=\"evenodd\" fill-opacity=\"1\" /><path clip-path=\"url(#clip920)\" d=\"M 0 0 M292.219 294.306 L299.858 294.306 L299.858 267.94 L291.548 269.607 L291.548 265.347 L299.812 263.681 L304.488 263.681 L304.488 294.306 L312.126 294.306 L312.126 298.241 L292.219 298.241 L292.219 294.306 Z\" fill=\"#000000\" fill-rule=\"evenodd\" fill-opacity=\"1\" /><path clip-path=\"url(#clip920)\" d=\"M 0 0 M317.196 292.361 L322.08 292.361 L322.08 298.241 L317.196 298.241 L317.196 292.361 Z\" fill=\"#000000\" fill-rule=\"evenodd\" fill-opacity=\"1\" /><path clip-path=\"url(#clip920)\" d=\"M 0 0 M339.997 267.755 L328.191 286.204 L339.997 286.204 L339.997 267.755 M338.77 263.681 L344.649 263.681 L344.649 286.204 L349.58 286.204 L349.58 290.093 L344.649 290.093 L344.649 298.241 L339.997 298.241 L339.997 290.093 L324.395 290.093 L324.395 285.579 L338.77 263.681 Z\" fill=\"#000000\" fill-rule=\"evenodd\" fill-opacity=\"1\" /><path clip-path=\"url(#clip920)\" d=\"M 0 0 M354.696 263.681 L373.052 263.681 L373.052 267.616 L358.978 267.616 L358.978 276.088 Q359.997 275.741 361.015 275.579 Q362.034 275.394 363.052 275.394 Q368.839 275.394 372.219 278.565 Q375.598 281.736 375.598 287.153 Q375.598 292.731 372.126 295.833 Q368.654 298.912 362.334 298.912 Q360.159 298.912 357.89 298.542 Q355.645 298.171 353.237 297.431 L353.237 292.731 Q355.321 293.866 357.543 294.421 Q359.765 294.977 362.242 294.977 Q366.246 294.977 368.584 292.87 Q370.922 290.764 370.922 287.153 Q370.922 283.542 368.584 281.435 Q366.246 279.329 362.242 279.329 Q360.367 279.329 358.492 279.745 Q356.64 280.162 354.696 281.042 L354.696 263.681 Z\" fill=\"#000000\" fill-rule=\"evenodd\" fill-opacity=\"1\" /><path clip-path=\"url(#clip920)\" d=\"M 0 0 M158.216 847.805 L158.216 841.312 L198.384 831.318 L158.216 821.356 L158.216 814.131 L198.384 804.137 L158.216 794.174 L158.216 787.649 L205.736 799.585 L205.736 807.67 L164.487 817.696 L205.736 827.817 L205.736 835.902 L158.216 847.805 Z\" fill=\"#000000\" fill-rule=\"evenodd\" fill-opacity=\"1\" /><path clip-path=\"url(#clip920)\" d=\"M 0 0 M186.448 754.834 L189.313 754.834 L189.313 781.761 Q195.36 781.379 198.543 778.133 Q201.694 774.854 201.694 769.03 Q201.694 765.656 200.867 762.505 Q200.039 759.322 198.384 756.203 L203.922 756.203 Q205.259 759.354 205.959 762.664 Q206.659 765.974 206.659 769.38 Q206.659 777.91 201.694 782.907 Q196.729 787.872 188.263 787.872 Q179.51 787.872 174.385 783.162 Q169.229 778.419 169.229 770.398 Q169.229 763.205 173.876 759.036 Q178.491 754.834 186.448 754.834 M184.73 760.691 Q179.924 760.754 177.059 763.396 Q174.194 766.006 174.194 770.335 Q174.194 775.236 176.963 778.196 Q179.733 781.125 184.761 781.57 L184.73 760.691 Z\" fill=\"#000000\" fill-rule=\"evenodd\" fill-opacity=\"1\" /><path clip-path=\"url(#clip920)\" d=\"M 0 0 M156.211 748.691 L156.211 742.835 L205.736 742.835 L205.736 748.691 L156.211 748.691 Z\" fill=\"#000000\" fill-rule=\"evenodd\" fill-opacity=\"1\" /><path clip-path=\"url(#clip920)\" d=\"M 0 0 M156.211 718.645 L161.081 718.645 L161.081 724.247 Q161.081 727.398 162.354 728.639 Q163.627 729.849 166.937 729.849 L170.088 729.849 L170.088 720.205 L174.64 720.205 L174.64 729.849 L205.736 729.849 L205.736 735.737 L174.64 735.737 L174.64 741.339 L170.088 741.339 L170.088 735.737 L167.606 735.737 Q161.654 735.737 158.948 732.968 Q156.211 730.199 156.211 724.183 L156.211 718.645 Z\" fill=\"#000000\" fill-rule=\"evenodd\" fill-opacity=\"1\" /><path clip-path=\"url(#clip920)\" d=\"M 0 0 M187.817 696.302 Q187.817 703.399 189.44 706.137 Q191.063 708.874 194.978 708.874 Q198.098 708.874 199.944 706.837 Q201.758 704.768 201.758 701.235 Q201.758 696.365 198.32 693.437 Q194.851 690.477 189.122 690.477 L187.817 690.477 L187.817 696.302 M185.398 684.621 L205.736 684.621 L205.736 690.477 L200.326 690.477 Q203.572 692.482 205.132 695.474 Q206.659 698.466 206.659 702.795 Q206.659 708.269 203.604 711.516 Q200.517 714.73 195.36 714.73 Q189.345 714.73 186.289 710.72 Q183.234 706.678 183.234 698.689 L183.234 690.477 L182.661 690.477 Q178.619 690.477 176.422 693.151 Q174.194 695.792 174.194 700.598 Q174.194 703.654 174.926 706.55 Q175.658 709.447 177.123 712.12 L171.712 712.12 Q170.47 708.906 169.866 705.882 Q169.229 702.858 169.229 699.994 Q169.229 692.259 173.24 688.44 Q177.25 684.621 185.398 684.621 Z\" fill=\"#000000\" fill-rule=\"evenodd\" fill-opacity=\"1\" /><path clip-path=\"url(#clip920)\" d=\"M 0 0 M175.563 657.821 Q174.99 658.808 174.735 659.985 Q174.449 661.131 174.449 662.532 Q174.449 667.497 177.696 670.17 Q180.91 672.812 186.958 672.812 L205.736 672.812 L205.736 678.7 L170.088 678.7 L170.088 672.812 L175.627 672.812 Q172.38 670.966 170.821 668.006 Q169.229 665.046 169.229 660.813 Q169.229 660.208 169.325 659.476 Q169.388 658.744 169.547 657.853 L175.563 657.821 Z\" fill=\"#000000\" fill-rule=\"evenodd\" fill-opacity=\"1\" /><path clip-path=\"url(#clip920)\" d=\"M 0 0 M186.448 622.619 L189.313 622.619 L189.313 649.545 Q195.36 649.164 198.543 645.917 Q201.694 642.639 201.694 636.814 Q201.694 633.44 200.867 630.289 Q200.039 627.106 198.384 623.987 L203.922 623.987 Q205.259 627.138 205.959 630.448 Q206.659 633.759 206.659 637.164 Q206.659 645.694 201.694 650.691 Q196.729 655.657 188.263 655.657 Q179.51 655.657 174.385 650.946 Q169.229 646.203 169.229 638.183 Q169.229 630.989 173.876 626.82 Q178.491 622.619 186.448 622.619 M184.73 628.475 Q179.924 628.539 177.059 631.18 Q174.194 633.79 174.194 638.119 Q174.194 643.021 176.963 645.981 Q179.733 648.909 184.761 649.355 L184.73 628.475 Z\" fill=\"#000000\" fill-rule=\"evenodd\" fill-opacity=\"1\" /><polyline clip-path=\"url(#clip922)\" style=\"stroke:#009af9; stroke-width:8; stroke-opacity:1; fill:none\" points=\"\n  462.525,495.857 479.104,485.905 632.393,400.575 724.513,355.609 802.4,321.704 887.006,289.539 965.006,264.587 1048.63,243.346 1145.52,226.672 1231.62,219.895 \n  1307.12,220.993 1389.44,230.686 1472.25,250.659 1518.03,266.689 1563.8,286.688 1607.36,309.754 1650.92,337.152 1696.2,370.713 1741.49,410.033 1779.62,448.105 \n  1817.74,491.242 1864.28,551.619 1910.83,621.669 1932.7,658.367 1954.58,697.732 1976.46,739.977 1998.33,785.341 2033.38,865.207 2068.43,955.088 2103.47,1056.6 \n  2138.52,1171.76 2143.92,1190.85 2149.31,1210.34 2154.7,1230.22 2160.1,1250.53 \n  \"/>\n</svg>\n",
            "text/html": [
              "<?xml version=\"1.0\" encoding=\"utf-8\"?>\n",
              "<svg xmlns=\"http://www.w3.org/2000/svg\" xmlns:xlink=\"http://www.w3.org/1999/xlink\" width=\"600\" height=\"400\" viewBox=\"0 0 2400 1600\">\n",
              "<defs>\n",
              "  <clipPath id=\"clip970\">\n",
              "    <rect x=\"0\" y=\"0\" width=\"2400\" height=\"1600\"/>\n",
              "  </clipPath>\n",
              "</defs>\n",
              "<path clip-path=\"url(#clip970)\" d=\"\n",
              "M0 1600 L2400 1600 L2400 0 L0 0  Z\n",
              "  \" fill=\"#ffffff\" fill-rule=\"evenodd\" fill-opacity=\"1\"/>\n",
              "<defs>\n",
              "  <clipPath id=\"clip971\">\n",
              "    <rect x=\"480\" y=\"0\" width=\"1681\" height=\"1600\"/>\n",
              "  </clipPath>\n",
              "</defs>\n",
              "<path clip-path=\"url(#clip970)\" d=\"\n",
              "M411.598 1281.45 L2211.02 1281.45 L2211.02 188.976 L411.598 188.976  Z\n",
              "  \" fill=\"#ffffff\" fill-rule=\"evenodd\" fill-opacity=\"1\"/>\n",
              "<defs>\n",
              "  <clipPath id=\"clip972\">\n",
              "    <rect x=\"411\" y=\"188\" width=\"1800\" height=\"1093\"/>\n",
              "  </clipPath>\n",
              "</defs>\n",
              "<polyline clip-path=\"url(#clip972)\" style=\"stroke:#000000; stroke-width:2; stroke-opacity:0.1; fill:none\" points=\"\n",
              "  462.525,1281.45 462.525,188.976 \n",
              "  \"/>\n",
              "<polyline clip-path=\"url(#clip972)\" style=\"stroke:#000000; stroke-width:2; stroke-opacity:0.1; fill:none\" points=\"\n",
              "  886.918,1281.45 886.918,188.976 \n",
              "  \"/>\n",
              "<polyline clip-path=\"url(#clip972)\" style=\"stroke:#000000; stroke-width:2; stroke-opacity:0.1; fill:none\" points=\"\n",
              "  1311.31,1281.45 1311.31,188.976 \n",
              "  \"/>\n",
              "<polyline clip-path=\"url(#clip972)\" style=\"stroke:#000000; stroke-width:2; stroke-opacity:0.1; fill:none\" points=\"\n",
              "  1735.7,1281.45 1735.7,188.976 \n",
              "  \"/>\n",
              "<polyline clip-path=\"url(#clip972)\" style=\"stroke:#000000; stroke-width:2; stroke-opacity:0.1; fill:none\" points=\"\n",
              "  2160.1,1281.45 2160.1,188.976 \n",
              "  \"/>\n",
              "<polyline clip-path=\"url(#clip970)\" style=\"stroke:#000000; stroke-width:4; stroke-opacity:1; fill:none\" points=\"\n",
              "  411.598,1281.45 2211.02,1281.45 \n",
              "  \"/>\n",
              "<polyline clip-path=\"url(#clip970)\" style=\"stroke:#000000; stroke-width:4; stroke-opacity:1; fill:none\" points=\"\n",
              "  462.525,1281.45 462.525,1268.34 \n",
              "  \"/>\n",
              "<polyline clip-path=\"url(#clip970)\" style=\"stroke:#000000; stroke-width:4; stroke-opacity:1; fill:none\" points=\"\n",
              "  886.918,1281.45 886.918,1268.34 \n",
              "  \"/>\n",
              "<polyline clip-path=\"url(#clip970)\" style=\"stroke:#000000; stroke-width:4; stroke-opacity:1; fill:none\" points=\"\n",
              "  1311.31,1281.45 1311.31,1268.34 \n",
              "  \"/>\n",
              "<polyline clip-path=\"url(#clip970)\" style=\"stroke:#000000; stroke-width:4; stroke-opacity:1; fill:none\" points=\"\n",
              "  1735.7,1281.45 1735.7,1268.34 \n",
              "  \"/>\n",
              "<polyline clip-path=\"url(#clip970)\" style=\"stroke:#000000; stroke-width:4; stroke-opacity:1; fill:none\" points=\"\n",
              "  2160.1,1281.45 2160.1,1268.34 \n",
              "  \"/>\n",
              "<path clip-path=\"url(#clip970)\" d=\"M 0 0 M444.042 1310.64 Q440.431 1310.64 438.602 1314.2 Q436.796 1317.74 436.796 1324.87 Q436.796 1331.98 438.602 1335.55 Q440.431 1339.09 444.042 1339.09 Q447.676 1339.09 449.482 1335.55 Q451.31 1331.98 451.31 1324.87 Q451.31 1317.74 449.482 1314.2 Q447.676 1310.64 444.042 1310.64 M444.042 1306.93 Q449.852 1306.93 452.907 1311.54 Q455.986 1316.12 455.986 1324.87 Q455.986 1333.6 452.907 1338.21 Q449.852 1342.79 444.042 1342.79 Q438.232 1342.79 435.153 1338.21 Q432.097 1333.6 432.097 1324.87 Q432.097 1316.12 435.153 1311.54 Q438.232 1306.93 444.042 1306.93 Z\" fill=\"#000000\" fill-rule=\"evenodd\" fill-opacity=\"1\" /><path clip-path=\"url(#clip970)\" d=\"M 0 0 M461.056 1336.24 L465.94 1336.24 L465.94 1342.12 L461.056 1342.12 L461.056 1336.24 Z\" fill=\"#000000\" fill-rule=\"evenodd\" fill-opacity=\"1\" /><path clip-path=\"url(#clip970)\" d=\"M 0 0 M481.009 1310.64 Q477.398 1310.64 475.569 1314.2 Q473.764 1317.74 473.764 1324.87 Q473.764 1331.98 475.569 1335.55 Q477.398 1339.09 481.009 1339.09 Q484.643 1339.09 486.449 1335.55 Q488.278 1331.98 488.278 1324.87 Q488.278 1317.74 486.449 1314.2 Q484.643 1310.64 481.009 1310.64 M481.009 1306.93 Q486.819 1306.93 489.875 1311.54 Q492.953 1316.12 492.953 1324.87 Q492.953 1333.6 489.875 1338.21 Q486.819 1342.79 481.009 1342.79 Q475.199 1342.79 472.12 1338.21 Q469.065 1333.6 469.065 1324.87 Q469.065 1316.12 472.12 1311.54 Q475.199 1306.93 481.009 1306.93 Z\" fill=\"#000000\" fill-rule=\"evenodd\" fill-opacity=\"1\" /><path clip-path=\"url(#clip970)\" d=\"M 0 0 M869.233 1310.64 Q865.622 1310.64 863.793 1314.2 Q861.988 1317.74 861.988 1324.87 Q861.988 1331.98 863.793 1335.55 Q865.622 1339.09 869.233 1339.09 Q872.867 1339.09 874.673 1335.55 Q876.502 1331.98 876.502 1324.87 Q876.502 1317.74 874.673 1314.2 Q872.867 1310.64 869.233 1310.64 M869.233 1306.93 Q875.043 1306.93 878.099 1311.54 Q881.177 1316.12 881.177 1324.87 Q881.177 1333.6 878.099 1338.21 Q875.043 1342.79 869.233 1342.79 Q863.423 1342.79 860.344 1338.21 Q857.289 1333.6 857.289 1324.87 Q857.289 1316.12 860.344 1311.54 Q863.423 1306.93 869.233 1306.93 Z\" fill=\"#000000\" fill-rule=\"evenodd\" fill-opacity=\"1\" /><path clip-path=\"url(#clip970)\" d=\"M 0 0 M886.247 1336.24 L891.131 1336.24 L891.131 1342.12 L886.247 1342.12 L886.247 1336.24 Z\" fill=\"#000000\" fill-rule=\"evenodd\" fill-opacity=\"1\" /><path clip-path=\"url(#clip970)\" d=\"M 0 0 M900.228 1338.18 L916.548 1338.18 L916.548 1342.12 L894.603 1342.12 L894.603 1338.18 Q897.265 1335.43 901.849 1330.8 Q906.455 1326.15 907.636 1324.8 Q909.881 1322.28 910.761 1320.55 Q911.663 1318.79 911.663 1317.1 Q911.663 1314.34 909.719 1312.61 Q907.798 1310.87 904.696 1310.87 Q902.497 1310.87 900.043 1311.63 Q897.613 1312.4 894.835 1313.95 L894.835 1309.23 Q897.659 1308.09 900.113 1307.51 Q902.566 1306.93 904.603 1306.93 Q909.974 1306.93 913.168 1309.62 Q916.362 1312.3 916.362 1316.8 Q916.362 1318.93 915.552 1320.85 Q914.765 1322.74 912.659 1325.34 Q912.08 1326.01 908.978 1329.23 Q905.876 1332.42 900.228 1338.18 Z\" fill=\"#000000\" fill-rule=\"evenodd\" fill-opacity=\"1\" /><path clip-path=\"url(#clip970)\" d=\"M 0 0 M1292.58 1310.64 Q1288.97 1310.64 1287.14 1314.2 Q1285.34 1317.74 1285.34 1324.87 Q1285.34 1331.98 1287.14 1335.55 Q1288.97 1339.09 1292.58 1339.09 Q1296.22 1339.09 1298.02 1335.55 Q1299.85 1331.98 1299.85 1324.87 Q1299.85 1317.74 1298.02 1314.2 Q1296.22 1310.64 1292.58 1310.64 M1292.58 1306.93 Q1298.39 1306.93 1301.45 1311.54 Q1304.53 1316.12 1304.53 1324.87 Q1304.53 1333.6 1301.45 1338.21 Q1298.39 1342.79 1292.58 1342.79 Q1286.77 1342.79 1283.7 1338.21 Q1280.64 1333.6 1280.64 1324.87 Q1280.64 1316.12 1283.7 1311.54 Q1286.77 1306.93 1292.58 1306.93 Z\" fill=\"#000000\" fill-rule=\"evenodd\" fill-opacity=\"1\" /><path clip-path=\"url(#clip970)\" d=\"M 0 0 M1309.6 1336.24 L1314.48 1336.24 L1314.48 1342.12 L1309.6 1342.12 L1309.6 1336.24 Z\" fill=\"#000000\" fill-rule=\"evenodd\" fill-opacity=\"1\" /><path clip-path=\"url(#clip970)\" d=\"M 0 0 M1332.4 1311.63 L1320.59 1330.08 L1332.4 1330.08 L1332.4 1311.63 M1331.17 1307.56 L1337.05 1307.56 L1337.05 1330.08 L1341.98 1330.08 L1341.98 1333.97 L1337.05 1333.97 L1337.05 1342.12 L1332.4 1342.12 L1332.4 1333.97 L1316.8 1333.97 L1316.8 1329.46 L1331.17 1307.56 Z\" fill=\"#000000\" fill-rule=\"evenodd\" fill-opacity=\"1\" /><path clip-path=\"url(#clip970)\" d=\"M 0 0 M1717.14 1310.64 Q1713.53 1310.64 1711.7 1314.2 Q1709.89 1317.74 1709.89 1324.87 Q1709.89 1331.98 1711.7 1335.55 Q1713.53 1339.09 1717.14 1339.09 Q1720.77 1339.09 1722.58 1335.55 Q1724.41 1331.98 1724.41 1324.87 Q1724.41 1317.74 1722.58 1314.2 Q1720.77 1310.64 1717.14 1310.64 M1717.14 1306.93 Q1722.95 1306.93 1726 1311.54 Q1729.08 1316.12 1729.08 1324.87 Q1729.08 1333.6 1726 1338.21 Q1722.95 1342.79 1717.14 1342.79 Q1711.33 1342.79 1708.25 1338.21 Q1705.19 1333.6 1705.19 1324.87 Q1705.19 1316.12 1708.25 1311.54 Q1711.33 1306.93 1717.14 1306.93 Z\" fill=\"#000000\" fill-rule=\"evenodd\" fill-opacity=\"1\" /><path clip-path=\"url(#clip970)\" d=\"M 0 0 M1734.15 1336.24 L1739.04 1336.24 L1739.04 1342.12 L1734.15 1342.12 L1734.15 1336.24 Z\" fill=\"#000000\" fill-rule=\"evenodd\" fill-opacity=\"1\" /><path clip-path=\"url(#clip970)\" d=\"M 0 0 M1754.69 1322.98 Q1751.54 1322.98 1749.69 1325.13 Q1747.86 1327.28 1747.86 1331.03 Q1747.86 1334.76 1749.69 1336.93 Q1751.54 1339.09 1754.69 1339.09 Q1757.83 1339.09 1759.66 1336.93 Q1761.51 1334.76 1761.51 1331.03 Q1761.51 1327.28 1759.66 1325.13 Q1757.83 1322.98 1754.69 1322.98 M1763.97 1308.32 L1763.97 1312.58 Q1762.21 1311.75 1760.4 1311.31 Q1758.62 1310.87 1756.86 1310.87 Q1752.23 1310.87 1749.78 1313.99 Q1747.35 1317.12 1747 1323.44 Q1748.37 1321.43 1750.43 1320.36 Q1752.49 1319.27 1754.96 1319.27 Q1760.17 1319.27 1763.18 1322.44 Q1766.21 1325.59 1766.21 1331.03 Q1766.21 1336.36 1763.06 1339.57 Q1759.92 1342.79 1754.69 1342.79 Q1748.69 1342.79 1745.52 1338.21 Q1742.35 1333.6 1742.35 1324.87 Q1742.35 1316.68 1746.24 1311.82 Q1750.12 1306.93 1756.68 1306.93 Q1758.44 1306.93 1760.22 1307.28 Q1762.02 1307.63 1763.97 1308.32 Z\" fill=\"#000000\" fill-rule=\"evenodd\" fill-opacity=\"1\" /><path clip-path=\"url(#clip970)\" d=\"M 0 0 M2141.66 1310.64 Q2138.05 1310.64 2136.22 1314.2 Q2134.41 1317.74 2134.41 1324.87 Q2134.41 1331.98 2136.22 1335.55 Q2138.05 1339.09 2141.66 1339.09 Q2145.29 1339.09 2147.1 1335.55 Q2148.93 1331.98 2148.93 1324.87 Q2148.93 1317.74 2147.1 1314.2 Q2145.29 1310.64 2141.66 1310.64 M2141.66 1306.93 Q2147.47 1306.93 2150.52 1311.54 Q2153.6 1316.12 2153.6 1324.87 Q2153.6 1333.6 2150.52 1338.21 Q2147.47 1342.79 2141.66 1342.79 Q2135.85 1342.79 2132.77 1338.21 Q2129.71 1333.6 2129.71 1324.87 Q2129.71 1316.12 2132.77 1311.54 Q2135.85 1306.93 2141.66 1306.93 Z\" fill=\"#000000\" fill-rule=\"evenodd\" fill-opacity=\"1\" /><path clip-path=\"url(#clip970)\" d=\"M 0 0 M2158.67 1336.24 L2163.56 1336.24 L2163.56 1342.12 L2158.67 1342.12 L2158.67 1336.24 Z\" fill=\"#000000\" fill-rule=\"evenodd\" fill-opacity=\"1\" /><path clip-path=\"url(#clip970)\" d=\"M 0 0 M2178.63 1325.71 Q2175.29 1325.71 2173.37 1327.49 Q2171.47 1329.27 2171.47 1332.4 Q2171.47 1335.52 2173.37 1337.3 Q2175.29 1339.09 2178.63 1339.09 Q2181.96 1339.09 2183.88 1337.3 Q2185.8 1335.5 2185.8 1332.4 Q2185.8 1329.27 2183.88 1327.49 Q2181.98 1325.71 2178.63 1325.71 M2173.95 1323.72 Q2170.94 1322.98 2169.25 1320.92 Q2167.58 1318.86 2167.58 1315.89 Q2167.58 1311.75 2170.52 1309.34 Q2173.49 1306.93 2178.63 1306.93 Q2183.79 1306.93 2186.73 1309.34 Q2189.67 1311.75 2189.67 1315.89 Q2189.67 1318.86 2187.98 1320.92 Q2186.31 1322.98 2183.33 1323.72 Q2186.71 1324.5 2188.58 1326.8 Q2190.48 1329.09 2190.48 1332.4 Q2190.48 1337.42 2187.4 1340.11 Q2184.34 1342.79 2178.63 1342.79 Q2172.91 1342.79 2169.83 1340.11 Q2166.77 1337.42 2166.77 1332.4 Q2166.77 1329.09 2168.67 1326.8 Q2170.57 1324.5 2173.95 1323.72 M2172.24 1316.33 Q2172.24 1319.02 2173.9 1320.52 Q2175.59 1322.03 2178.63 1322.03 Q2181.64 1322.03 2183.33 1320.52 Q2185.04 1319.02 2185.04 1316.33 Q2185.04 1313.65 2183.33 1312.14 Q2181.64 1310.64 2178.63 1310.64 Q2175.59 1310.64 2173.9 1312.14 Q2172.24 1313.65 2172.24 1316.33 Z\" fill=\"#000000\" fill-rule=\"evenodd\" fill-opacity=\"1\" /><path clip-path=\"url(#clip970)\" d=\"M 0 0 M1182.69 1378.79 L1222.89 1378.79 L1222.89 1384.2 L1206.02 1384.2 L1206.02 1426.31 L1199.56 1426.31 L1199.56 1384.2 L1182.69 1384.2 L1182.69 1378.79 Z\" fill=\"#000000\" fill-rule=\"evenodd\" fill-opacity=\"1\" /><path clip-path=\"url(#clip970)\" d=\"M 0 0 M1234.45 1408.39 Q1227.35 1408.39 1224.61 1410.02 Q1221.87 1411.64 1221.87 1415.55 Q1221.87 1418.67 1223.91 1420.52 Q1225.98 1422.33 1229.51 1422.33 Q1234.38 1422.33 1237.31 1418.9 Q1240.27 1415.43 1240.27 1409.7 L1240.27 1408.39 L1234.45 1408.39 M1246.13 1405.97 L1246.13 1426.31 L1240.27 1426.31 L1240.27 1420.9 Q1238.26 1424.15 1235.27 1425.71 Q1232.28 1427.23 1227.95 1427.23 Q1222.48 1427.23 1219.23 1424.18 Q1216.02 1421.09 1216.02 1415.94 Q1216.02 1409.92 1220.03 1406.86 Q1224.07 1403.81 1232.06 1403.81 L1240.27 1403.81 L1240.27 1403.24 Q1240.27 1399.19 1237.6 1397 Q1234.95 1394.77 1230.15 1394.77 Q1227.09 1394.77 1224.2 1395.5 Q1221.3 1396.23 1218.63 1397.7 L1218.63 1392.29 Q1221.84 1391.05 1224.86 1390.44 Q1227.89 1389.8 1230.75 1389.8 Q1238.49 1389.8 1242.31 1393.81 Q1246.13 1397.83 1246.13 1405.97 Z\" fill=\"#000000\" fill-rule=\"evenodd\" fill-opacity=\"1\" /><path clip-path=\"url(#clip970)\" d=\"M 0 0 M1281.9 1390.66 L1269.01 1408.01 L1282.57 1426.31 L1275.66 1426.31 L1265.29 1412.31 L1254.91 1426.31 L1248 1426.31 L1261.85 1407.66 L1249.18 1390.66 L1256.09 1390.66 L1265.54 1403.36 L1274.99 1390.66 L1281.9 1390.66 Z\" fill=\"#000000\" fill-rule=\"evenodd\" fill-opacity=\"1\" /><path clip-path=\"url(#clip970)\" d=\"M 0 0 M1332.22 1404.03 Q1334.29 1404.73 1336.23 1407.02 Q1338.21 1409.32 1340.18 1413.33 L1346.7 1426.31 L1339.8 1426.31 L1333.72 1414.12 Q1331.36 1409.35 1329.13 1407.79 Q1326.94 1406.23 1323.12 1406.23 L1316.12 1406.23 L1316.12 1426.31 L1309.69 1426.31 L1309.69 1378.79 L1324.2 1378.79 Q1332.35 1378.79 1336.36 1382.2 Q1340.37 1385.6 1340.37 1392.48 Q1340.37 1396.97 1338.27 1399.93 Q1336.2 1402.89 1332.22 1404.03 M1316.12 1384.08 L1316.12 1400.94 L1324.2 1400.94 Q1328.85 1400.94 1331.2 1398.81 Q1333.59 1396.65 1333.59 1392.48 Q1333.59 1388.31 1331.2 1386.21 Q1328.85 1384.08 1324.2 1384.08 L1316.12 1384.08 Z\" fill=\"#000000\" fill-rule=\"evenodd\" fill-opacity=\"1\" /><path clip-path=\"url(#clip970)\" d=\"M 0 0 M1367.62 1408.39 Q1360.52 1408.39 1357.78 1410.02 Q1355.04 1411.64 1355.04 1415.55 Q1355.04 1418.67 1357.08 1420.52 Q1359.15 1422.33 1362.68 1422.33 Q1367.55 1422.33 1370.48 1418.9 Q1373.44 1415.43 1373.44 1409.7 L1373.44 1408.39 L1367.62 1408.39 M1379.3 1405.97 L1379.3 1426.31 L1373.44 1426.31 L1373.44 1420.9 Q1371.44 1424.15 1368.44 1425.71 Q1365.45 1427.23 1361.12 1427.23 Q1355.65 1427.23 1352.4 1424.18 Q1349.19 1421.09 1349.19 1415.94 Q1349.19 1409.92 1353.2 1406.86 Q1357.24 1403.81 1365.23 1403.81 L1373.44 1403.81 L1373.44 1403.24 Q1373.44 1399.19 1370.77 1397 Q1368.12 1394.77 1363.32 1394.77 Q1360.26 1394.77 1357.37 1395.5 Q1354.47 1396.23 1351.8 1397.7 L1351.8 1392.29 Q1355.01 1391.05 1358.04 1390.44 Q1361.06 1389.8 1363.92 1389.8 Q1371.66 1389.8 1375.48 1393.81 Q1379.3 1397.83 1379.3 1405.97 Z\" fill=\"#000000\" fill-rule=\"evenodd\" fill-opacity=\"1\" /><path clip-path=\"url(#clip970)\" d=\"M 0 0 M1391.23 1380.54 L1391.23 1390.66 L1403.3 1390.66 L1403.3 1395.22 L1391.23 1395.22 L1391.23 1414.57 Q1391.23 1418.93 1392.41 1420.17 Q1393.62 1421.41 1397.28 1421.41 L1403.3 1421.41 L1403.3 1426.31 L1397.28 1426.31 Q1390.5 1426.31 1387.92 1423.8 Q1385.34 1421.25 1385.34 1414.57 L1385.34 1395.22 L1381.05 1395.22 L1381.05 1390.66 L1385.34 1390.66 L1385.34 1380.54 L1391.23 1380.54 Z\" fill=\"#000000\" fill-rule=\"evenodd\" fill-opacity=\"1\" /><path clip-path=\"url(#clip970)\" d=\"M 0 0 M1439.93 1407.02 L1439.93 1409.89 L1413 1409.89 Q1413.39 1415.94 1416.63 1419.12 Q1419.91 1422.27 1425.73 1422.27 Q1429.11 1422.27 1432.26 1421.44 Q1435.44 1420.61 1438.56 1418.96 L1438.56 1424.5 Q1435.41 1425.83 1432.1 1426.53 Q1428.79 1427.23 1425.38 1427.23 Q1416.85 1427.23 1411.86 1422.27 Q1406.89 1417.3 1406.89 1408.84 Q1406.89 1400.08 1411.6 1394.96 Q1416.35 1389.8 1424.37 1389.8 Q1431.56 1389.8 1435.73 1394.45 Q1439.93 1399.07 1439.93 1407.02 M1434.07 1405.3 Q1434.01 1400.5 1431.37 1397.63 Q1428.76 1394.77 1424.43 1394.77 Q1419.53 1394.77 1416.57 1397.54 Q1413.64 1400.31 1413.19 1405.34 L1434.07 1405.3 Z\" fill=\"#000000\" fill-rule=\"evenodd\" fill-opacity=\"1\" /><polyline clip-path=\"url(#clip972)\" style=\"stroke:#000000; stroke-width:2; stroke-opacity:0.1; fill:none\" points=\"\n",
              "  411.598,1200.09 2211.02,1200.09 \n",
              "  \"/>\n",
              "<polyline clip-path=\"url(#clip972)\" style=\"stroke:#000000; stroke-width:2; stroke-opacity:0.1; fill:none\" points=\"\n",
              "  411.598,893.714 2211.02,893.714 \n",
              "  \"/>\n",
              "<polyline clip-path=\"url(#clip972)\" style=\"stroke:#000000; stroke-width:2; stroke-opacity:0.1; fill:none\" points=\"\n",
              "  411.598,587.337 2211.02,587.337 \n",
              "  \"/>\n",
              "<polyline clip-path=\"url(#clip972)\" style=\"stroke:#000000; stroke-width:2; stroke-opacity:0.1; fill:none\" points=\"\n",
              "  411.598,280.961 2211.02,280.961 \n",
              "  \"/>\n",
              "<polyline clip-path=\"url(#clip970)\" style=\"stroke:#000000; stroke-width:4; stroke-opacity:1; fill:none\" points=\"\n",
              "  411.598,1281.45 411.598,188.976 \n",
              "  \"/>\n",
              "<polyline clip-path=\"url(#clip970)\" style=\"stroke:#000000; stroke-width:4; stroke-opacity:1; fill:none\" points=\"\n",
              "  411.598,1200.09 433.191,1200.09 \n",
              "  \"/>\n",
              "<polyline clip-path=\"url(#clip970)\" style=\"stroke:#000000; stroke-width:4; stroke-opacity:1; fill:none\" points=\"\n",
              "  411.598,893.714 433.191,893.714 \n",
              "  \"/>\n",
              "<polyline clip-path=\"url(#clip970)\" style=\"stroke:#000000; stroke-width:4; stroke-opacity:1; fill:none\" points=\"\n",
              "  411.598,587.337 433.191,587.337 \n",
              "  \"/>\n",
              "<polyline clip-path=\"url(#clip970)\" style=\"stroke:#000000; stroke-width:4; stroke-opacity:1; fill:none\" points=\"\n",
              "  411.598,280.961 433.191,280.961 \n",
              "  \"/>\n",
              "<path clip-path=\"url(#clip970)\" d=\"M 0 0 M255.992 1200.54 L285.668 1200.54 L285.668 1204.48 L255.992 1204.48 L255.992 1200.54 Z\" fill=\"#000000\" fill-rule=\"evenodd\" fill-opacity=\"1\" /><path clip-path=\"url(#clip970)\" d=\"M 0 0 M291.548 1213.44 L299.187 1213.44 L299.187 1187.07 L290.877 1188.74 L290.877 1184.48 L299.14 1182.81 L303.816 1182.81 L303.816 1213.44 L311.455 1213.44 L311.455 1217.37 L291.548 1217.37 L291.548 1213.44 Z\" fill=\"#000000\" fill-rule=\"evenodd\" fill-opacity=\"1\" /><path clip-path=\"url(#clip970)\" d=\"M 0 0 M316.525 1211.49 L321.409 1211.49 L321.409 1217.37 L316.525 1217.37 L316.525 1211.49 Z\" fill=\"#000000\" fill-rule=\"evenodd\" fill-opacity=\"1\" /><path clip-path=\"url(#clip970)\" d=\"M 0 0 M337.057 1198.23 Q333.909 1198.23 332.057 1200.38 Q330.228 1202.53 330.228 1206.28 Q330.228 1210.01 332.057 1212.19 Q333.909 1214.34 337.057 1214.34 Q340.205 1214.34 342.034 1212.19 Q343.885 1210.01 343.885 1206.28 Q343.885 1202.53 342.034 1200.38 Q340.205 1198.23 337.057 1198.23 M346.339 1183.57 L346.339 1187.83 Q344.58 1187 342.774 1186.56 Q340.992 1186.12 339.233 1186.12 Q334.603 1186.12 332.149 1189.25 Q329.719 1192.37 329.372 1198.69 Q330.737 1196.68 332.798 1195.61 Q334.858 1194.52 337.335 1194.52 Q342.543 1194.52 345.552 1197.7 Q348.585 1200.84 348.585 1206.28 Q348.585 1211.61 345.436 1214.82 Q342.288 1218.04 337.057 1218.04 Q331.061 1218.04 327.89 1213.46 Q324.719 1208.85 324.719 1200.13 Q324.719 1191.93 328.608 1187.07 Q332.497 1182.19 339.048 1182.19 Q340.807 1182.19 342.589 1182.53 Q344.395 1182.88 346.339 1183.57 Z\" fill=\"#000000\" fill-rule=\"evenodd\" fill-opacity=\"1\" /><path clip-path=\"url(#clip970)\" d=\"M 0 0 M363.654 1185.89 Q360.043 1185.89 358.214 1189.45 Q356.409 1193 356.409 1200.13 Q356.409 1207.23 358.214 1210.8 Q360.043 1214.34 363.654 1214.34 Q367.288 1214.34 369.094 1210.8 Q370.922 1207.23 370.922 1200.13 Q370.922 1193 369.094 1189.45 Q367.288 1185.89 363.654 1185.89 M363.654 1182.19 Q369.464 1182.19 372.52 1186.79 Q375.598 1191.38 375.598 1200.13 Q375.598 1208.85 372.52 1213.46 Q369.464 1218.04 363.654 1218.04 Q357.844 1218.04 354.765 1213.46 Q351.71 1208.85 351.71 1200.13 Q351.71 1191.38 354.765 1186.79 Q357.844 1182.19 363.654 1182.19 Z\" fill=\"#000000\" fill-rule=\"evenodd\" fill-opacity=\"1\" /><path clip-path=\"url(#clip970)\" d=\"M 0 0 M258.145 894.166 L287.821 894.166 L287.821 898.101 L258.145 898.101 L258.145 894.166 Z\" fill=\"#000000\" fill-rule=\"evenodd\" fill-opacity=\"1\" /><path clip-path=\"url(#clip970)\" d=\"M 0 0 M293.701 907.059 L301.339 907.059 L301.339 880.693 L293.029 882.36 L293.029 878.101 L301.293 876.434 L305.969 876.434 L305.969 907.059 L313.608 907.059 L313.608 910.994 L293.701 910.994 L293.701 907.059 Z\" fill=\"#000000\" fill-rule=\"evenodd\" fill-opacity=\"1\" /><path clip-path=\"url(#clip970)\" d=\"M 0 0 M318.677 905.115 L323.562 905.115 L323.562 910.994 L318.677 910.994 L318.677 905.115 Z\" fill=\"#000000\" fill-rule=\"evenodd\" fill-opacity=\"1\" /><path clip-path=\"url(#clip970)\" d=\"M 0 0 M328.677 876.434 L347.034 876.434 L347.034 880.369 L332.96 880.369 L332.96 888.842 Q333.978 888.494 334.997 888.332 Q336.015 888.147 337.034 888.147 Q342.821 888.147 346.2 891.318 Q349.58 894.49 349.58 899.906 Q349.58 905.485 346.108 908.587 Q342.635 911.665 336.316 911.665 Q334.14 911.665 331.872 911.295 Q329.626 910.925 327.219 910.184 L327.219 905.485 Q329.302 906.619 331.524 907.175 Q333.747 907.73 336.223 907.73 Q340.228 907.73 342.566 905.624 Q344.904 903.517 344.904 899.906 Q344.904 896.295 342.566 894.189 Q340.228 892.082 336.223 892.082 Q334.349 892.082 332.474 892.499 Q330.622 892.916 328.677 893.795 L328.677 876.434 Z\" fill=\"#000000\" fill-rule=\"evenodd\" fill-opacity=\"1\" /><path clip-path=\"url(#clip970)\" d=\"M 0 0 M354.696 876.434 L373.052 876.434 L373.052 880.369 L358.978 880.369 L358.978 888.842 Q359.997 888.494 361.015 888.332 Q362.034 888.147 363.052 888.147 Q368.839 888.147 372.219 891.318 Q375.598 894.49 375.598 899.906 Q375.598 905.485 372.126 908.587 Q368.654 911.665 362.334 911.665 Q360.159 911.665 357.89 911.295 Q355.645 910.925 353.237 910.184 L353.237 905.485 Q355.321 906.619 357.543 907.175 Q359.765 907.73 362.242 907.73 Q366.246 907.73 368.584 905.624 Q370.922 903.517 370.922 899.906 Q370.922 896.295 368.584 894.189 Q366.246 892.082 362.242 892.082 Q360.367 892.082 358.492 892.499 Q356.64 892.916 354.696 893.795 L354.696 876.434 Z\" fill=\"#000000\" fill-rule=\"evenodd\" fill-opacity=\"1\" /><path clip-path=\"url(#clip970)\" d=\"M 0 0 M257.15 587.789 L286.826 587.789 L286.826 591.724 L257.15 591.724 L257.15 587.789 Z\" fill=\"#000000\" fill-rule=\"evenodd\" fill-opacity=\"1\" /><path clip-path=\"url(#clip970)\" d=\"M 0 0 M292.705 600.682 L300.344 600.682 L300.344 574.317 L292.034 575.983 L292.034 571.724 L300.298 570.057 L304.974 570.057 L304.974 600.682 L312.613 600.682 L312.613 604.617 L292.705 604.617 L292.705 600.682 Z\" fill=\"#000000\" fill-rule=\"evenodd\" fill-opacity=\"1\" /><path clip-path=\"url(#clip970)\" d=\"M 0 0 M317.682 598.738 L322.566 598.738 L322.566 604.617 L317.682 604.617 L317.682 598.738 Z\" fill=\"#000000\" fill-rule=\"evenodd\" fill-opacity=\"1\" /><path clip-path=\"url(#clip970)\" d=\"M 0 0 M327.682 570.057 L346.038 570.057 L346.038 573.993 L331.964 573.993 L331.964 582.465 Q332.983 582.118 334.001 581.956 Q335.02 581.77 336.038 581.77 Q341.825 581.77 345.205 584.942 Q348.585 588.113 348.585 593.53 Q348.585 599.108 345.112 602.21 Q341.64 605.289 335.321 605.289 Q333.145 605.289 330.876 604.918 Q328.631 604.548 326.224 603.807 L326.224 599.108 Q328.307 600.242 330.529 600.798 Q332.751 601.354 335.228 601.354 Q339.233 601.354 341.571 599.247 Q343.909 597.141 343.909 593.53 Q343.909 589.918 341.571 587.812 Q339.233 585.706 335.228 585.706 Q333.353 585.706 331.478 586.122 Q329.626 586.539 327.682 587.418 L327.682 570.057 Z\" fill=\"#000000\" fill-rule=\"evenodd\" fill-opacity=\"1\" /><path clip-path=\"url(#clip970)\" d=\"M 0 0 M363.654 573.136 Q360.043 573.136 358.214 576.701 Q356.409 580.243 356.409 587.372 Q356.409 594.479 358.214 598.043 Q360.043 601.585 363.654 601.585 Q367.288 601.585 369.094 598.043 Q370.922 594.479 370.922 587.372 Q370.922 580.243 369.094 576.701 Q367.288 573.136 363.654 573.136 M363.654 569.432 Q369.464 569.432 372.52 574.039 Q375.598 578.622 375.598 587.372 Q375.598 596.099 372.52 600.705 Q369.464 605.289 363.654 605.289 Q357.844 605.289 354.765 600.705 Q351.71 596.099 351.71 587.372 Q351.71 578.622 354.765 574.039 Q357.844 569.432 363.654 569.432 Z\" fill=\"#000000\" fill-rule=\"evenodd\" fill-opacity=\"1\" /><path clip-path=\"url(#clip970)\" d=\"M 0 0 M256.664 281.412 L286.34 281.412 L286.34 285.347 L256.664 285.347 L256.664 281.412 Z\" fill=\"#000000\" fill-rule=\"evenodd\" fill-opacity=\"1\" /><path clip-path=\"url(#clip970)\" d=\"M 0 0 M292.219 294.306 L299.858 294.306 L299.858 267.94 L291.548 269.607 L291.548 265.347 L299.812 263.681 L304.488 263.681 L304.488 294.306 L312.126 294.306 L312.126 298.241 L292.219 298.241 L292.219 294.306 Z\" fill=\"#000000\" fill-rule=\"evenodd\" fill-opacity=\"1\" /><path clip-path=\"url(#clip970)\" d=\"M 0 0 M317.196 292.361 L322.08 292.361 L322.08 298.241 L317.196 298.241 L317.196 292.361 Z\" fill=\"#000000\" fill-rule=\"evenodd\" fill-opacity=\"1\" /><path clip-path=\"url(#clip970)\" d=\"M 0 0 M339.997 267.755 L328.191 286.204 L339.997 286.204 L339.997 267.755 M338.77 263.681 L344.649 263.681 L344.649 286.204 L349.58 286.204 L349.58 290.093 L344.649 290.093 L344.649 298.241 L339.997 298.241 L339.997 290.093 L324.395 290.093 L324.395 285.579 L338.77 263.681 Z\" fill=\"#000000\" fill-rule=\"evenodd\" fill-opacity=\"1\" /><path clip-path=\"url(#clip970)\" d=\"M 0 0 M354.696 263.681 L373.052 263.681 L373.052 267.616 L358.978 267.616 L358.978 276.088 Q359.997 275.741 361.015 275.579 Q362.034 275.394 363.052 275.394 Q368.839 275.394 372.219 278.565 Q375.598 281.736 375.598 287.153 Q375.598 292.731 372.126 295.833 Q368.654 298.912 362.334 298.912 Q360.159 298.912 357.89 298.542 Q355.645 298.171 353.237 297.431 L353.237 292.731 Q355.321 293.866 357.543 294.421 Q359.765 294.977 362.242 294.977 Q366.246 294.977 368.584 292.87 Q370.922 290.764 370.922 287.153 Q370.922 283.542 368.584 281.435 Q366.246 279.329 362.242 279.329 Q360.367 279.329 358.492 279.745 Q356.64 280.162 354.696 281.042 L354.696 263.681 Z\" fill=\"#000000\" fill-rule=\"evenodd\" fill-opacity=\"1\" /><path clip-path=\"url(#clip970)\" d=\"M 0 0 M158.216 847.805 L158.216 841.312 L198.384 831.318 L158.216 821.356 L158.216 814.131 L198.384 804.137 L158.216 794.174 L158.216 787.649 L205.736 799.585 L205.736 807.67 L164.487 817.696 L205.736 827.817 L205.736 835.902 L158.216 847.805 Z\" fill=\"#000000\" fill-rule=\"evenodd\" fill-opacity=\"1\" /><path clip-path=\"url(#clip970)\" d=\"M 0 0 M186.448 754.834 L189.313 754.834 L189.313 781.761 Q195.36 781.379 198.543 778.133 Q201.694 774.854 201.694 769.03 Q201.694 765.656 200.867 762.505 Q200.039 759.322 198.384 756.203 L203.922 756.203 Q205.259 759.354 205.959 762.664 Q206.659 765.974 206.659 769.38 Q206.659 777.91 201.694 782.907 Q196.729 787.872 188.263 787.872 Q179.51 787.872 174.385 783.162 Q169.229 778.419 169.229 770.398 Q169.229 763.205 173.876 759.036 Q178.491 754.834 186.448 754.834 M184.73 760.691 Q179.924 760.754 177.059 763.396 Q174.194 766.006 174.194 770.335 Q174.194 775.236 176.963 778.196 Q179.733 781.125 184.761 781.57 L184.73 760.691 Z\" fill=\"#000000\" fill-rule=\"evenodd\" fill-opacity=\"1\" /><path clip-path=\"url(#clip970)\" d=\"M 0 0 M156.211 748.691 L156.211 742.835 L205.736 742.835 L205.736 748.691 L156.211 748.691 Z\" fill=\"#000000\" fill-rule=\"evenodd\" fill-opacity=\"1\" /><path clip-path=\"url(#clip970)\" d=\"M 0 0 M156.211 718.645 L161.081 718.645 L161.081 724.247 Q161.081 727.398 162.354 728.639 Q163.627 729.849 166.937 729.849 L170.088 729.849 L170.088 720.205 L174.64 720.205 L174.64 729.849 L205.736 729.849 L205.736 735.737 L174.64 735.737 L174.64 741.339 L170.088 741.339 L170.088 735.737 L167.606 735.737 Q161.654 735.737 158.948 732.968 Q156.211 730.199 156.211 724.183 L156.211 718.645 Z\" fill=\"#000000\" fill-rule=\"evenodd\" fill-opacity=\"1\" /><path clip-path=\"url(#clip970)\" d=\"M 0 0 M187.817 696.302 Q187.817 703.399 189.44 706.137 Q191.063 708.874 194.978 708.874 Q198.098 708.874 199.944 706.837 Q201.758 704.768 201.758 701.235 Q201.758 696.365 198.32 693.437 Q194.851 690.477 189.122 690.477 L187.817 690.477 L187.817 696.302 M185.398 684.621 L205.736 684.621 L205.736 690.477 L200.326 690.477 Q203.572 692.482 205.132 695.474 Q206.659 698.466 206.659 702.795 Q206.659 708.269 203.604 711.516 Q200.517 714.73 195.36 714.73 Q189.345 714.73 186.289 710.72 Q183.234 706.678 183.234 698.689 L183.234 690.477 L182.661 690.477 Q178.619 690.477 176.422 693.151 Q174.194 695.792 174.194 700.598 Q174.194 703.654 174.926 706.55 Q175.658 709.447 177.123 712.12 L171.712 712.12 Q170.47 708.906 169.866 705.882 Q169.229 702.858 169.229 699.994 Q169.229 692.259 173.24 688.44 Q177.25 684.621 185.398 684.621 Z\" fill=\"#000000\" fill-rule=\"evenodd\" fill-opacity=\"1\" /><path clip-path=\"url(#clip970)\" d=\"M 0 0 M175.563 657.821 Q174.99 658.808 174.735 659.985 Q174.449 661.131 174.449 662.532 Q174.449 667.497 177.696 670.17 Q180.91 672.812 186.958 672.812 L205.736 672.812 L205.736 678.7 L170.088 678.7 L170.088 672.812 L175.627 672.812 Q172.38 670.966 170.821 668.006 Q169.229 665.046 169.229 660.813 Q169.229 660.208 169.325 659.476 Q169.388 658.744 169.547 657.853 L175.563 657.821 Z\" fill=\"#000000\" fill-rule=\"evenodd\" fill-opacity=\"1\" /><path clip-path=\"url(#clip970)\" d=\"M 0 0 M186.448 622.619 L189.313 622.619 L189.313 649.545 Q195.36 649.164 198.543 645.917 Q201.694 642.639 201.694 636.814 Q201.694 633.44 200.867 630.289 Q200.039 627.106 198.384 623.987 L203.922 623.987 Q205.259 627.138 205.959 630.448 Q206.659 633.759 206.659 637.164 Q206.659 645.694 201.694 650.691 Q196.729 655.657 188.263 655.657 Q179.51 655.657 174.385 650.946 Q169.229 646.203 169.229 638.183 Q169.229 630.989 173.876 626.82 Q178.491 622.619 186.448 622.619 M184.73 628.475 Q179.924 628.539 177.059 631.18 Q174.194 633.79 174.194 638.119 Q174.194 643.021 176.963 645.981 Q179.733 648.909 184.761 649.355 L184.73 628.475 Z\" fill=\"#000000\" fill-rule=\"evenodd\" fill-opacity=\"1\" /><polyline clip-path=\"url(#clip972)\" style=\"stroke:#009af9; stroke-width:8; stroke-opacity:1; fill:none\" points=\"\n",
              "  462.525,495.857 479.104,485.905 632.393,400.575 724.513,355.609 802.4,321.704 887.006,289.539 965.006,264.587 1048.63,243.346 1145.52,226.672 1231.62,219.895 \n",
              "  1307.12,220.993 1389.44,230.686 1472.25,250.659 1518.03,266.689 1563.8,286.688 1607.36,309.754 1650.92,337.152 1696.2,370.713 1741.49,410.033 1779.62,448.105 \n",
              "  1817.74,491.242 1864.28,551.619 1910.83,621.669 1932.7,658.367 1954.58,697.732 1976.46,739.977 1998.33,785.341 2033.38,865.207 2068.43,955.088 2103.47,1056.6 \n",
              "  2138.52,1171.76 2143.92,1190.85 2149.31,1210.34 2154.7,1230.22 2160.1,1250.53 \n",
              "  \"/>\n",
              "</svg>\n"
            ]
          },
          "metadata": {},
          "output_type": "display_data"
        }
      ],
      "source": [
        "plot(τ->government_welfare(τ,αvec,σ,γ),0.,0.8,ylabel=\"Welfare\",xlabel=\"Tax Rate\")"
      ]
    },
    {
      "cell_type": "markdown",
      "metadata": {},
      "source": [
        "## Optimization"
      ]
    },
    {
      "cell_type": "code",
      "execution_count": 22,
      "metadata": {},
      "outputs": [
        {
          "name": "stdout",
          "output_type": "stream",
          "text": [
            "  5.491432 seconds (51.29 M allocations: 1.188 GiB, 3.59% gc time, 2.15% compilation time)\n"
          ]
        },
        {
          "name": "stdout",
          "output_type": "stream",
          "text": [
            "Results of Optimization Algorithm\n",
            " * Algorithm: Brent's Method\n",
            " * Search Interval: [0.000000, 0.800000]\n",
            " * Minimizer: 3.747682e-01\n",
            " * Minimum: 1.439968e+00\n",
            " * Iterations: 14\n"
          ]
        },
        {
          "name": "stdout",
          "output_type": "stream",
          "text": [
            " * Convergence: max(|x - x_upper|, |x - x_lower|) <= 2*(1.5e-08*|x|+2.2e-16): true\n",
            " * Objective Function Calls: 15\n"
          ]
        }
      ],
      "source": [
        "@time minx_optim = Optim.optimize(τ->-government_welfare(τ,αvec,σ,γ),0.,0.8)\n",
        "println(minx_optim)"
      ]
    },
    {
      "cell_type": "markdown",
      "metadata": {},
      "source": [
        "## Using NLopt\n",
        "* First allow government welfare to be evaluated at any level of transfers"
      ]
    },
    {
      "cell_type": "code",
      "execution_count": 23,
      "metadata": {},
      "outputs": [
        {
          "data": {
            "text/plain": [
              "government_welfare"
            ]
          },
          "metadata": {},
          "output_type": "display_data"
        }
      ],
      "source": [
        "\"\"\"\n",
        "    government_welfare(τ,T,αvec,σ,γ)\n",
        "\n",
        "Solves for government welfare given tax rate τ\n",
        "\"\"\"\n",
        "function government_welfare(τ,T,αvec,σ,γ)\n",
        "    welfare = 0.\n",
        "    N = length(αvec)\n",
        "    for i in 1:N\n",
        "        #compute HH welfare given tax rate\n",
        "        c,h,U = household_labor(αvec[i],τ,T,σ,γ)\n",
        "        welfare += U #Aggregate welfare\n",
        "    end\n",
        "    return welfare/N\n",
        "end"
      ]
    },
    {
      "cell_type": "markdown",
      "metadata": {},
      "source": [
        "## Setup Optimization Problem\n",
        "* Note only a few algorithms can use equality constraints\n",
        "    * One derivative free algorithm is COBYLA"
      ]
    },
    {
      "cell_type": "code",
      "execution_count": 24,
      "metadata": {},
      "outputs": [
        {
          "name": "stdout",
          "output_type": "stream",
          "text": [
            "  2.484608 seconds (23.36 M allocations: 554.221 MiB, 4.13% gc time, 1.91% compilation time)\n",
            "0.374768434469064\n"
          ]
        }
      ],
      "source": [
        "opt = Opt(:LN_COBYLA, 2)\n",
        "\n",
        "lower_bounds!(opt, [0., -1.]) #x[1] is tau, x[2] is T\n",
        "upper_bounds!(opt, [0.8,Inf])\n",
        "ftol_rel!(opt,1e-8)\n",
        "\n",
        "min_objective!(opt, (x,g)->-government_welfare(x[1],x[2],αvec,σ,γ))\n",
        "equality_constraint!(opt, (x,g) -> -budget_residual(x[1],x[2],αvec,σ,γ))\n",
        "\n",
        "@time (minf,minx_nlopt,ret) = NLopt.optimize(opt, [0.3, 0.3])\n",
        "println(minx_nlopt[1])"
      ]
    },
    {
      "cell_type": "code",
      "execution_count": null,
      "metadata": {},
      "outputs": [],
      "source": []
    }
  ],
  "metadata": {
    "kernelspec": {
      "display_name": "Julia 1.6.0",
      "language": "julia",
      "name": "julia-1.6"
    },
    "language_info": {
      "file_extension": ".jl",
      "mimetype": "application/julia",
      "name": "julia",
      "version": "1.6.0"
    }
  },
  "nbformat": 4,
  "nbformat_minor": 2
}
